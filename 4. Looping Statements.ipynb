{
 "cells": [
  {
   "cell_type": "markdown",
   "metadata": {},
   "source": [
    "### 1. While Loop"
   ]
  },
  {
   "cell_type": "code",
   "execution_count": 1,
   "metadata": {},
   "outputs": [
    {
     "name": "stdout",
     "output_type": "stream",
     "text": [
      "Hello\n",
      "Hello\n",
      "Hello\n",
      "Hello\n",
      "Hello\n",
      "Hello\n",
      "Hello\n",
      "Hello\n",
      "Hello\n",
      "Hello\n"
     ]
    }
   ],
   "source": [
    "#Example-1\n",
    "start_value = 1\n",
    "stop_value = 10\n",
    "while(start_value<=stop_value):\n",
    "    print(\"Hello\")\n",
    "    start_value+=1"
   ]
  },
  {
   "cell_type": "code",
   "execution_count": 2,
   "metadata": {},
   "outputs": [
    {
     "name": "stdout",
     "output_type": "stream",
     "text": [
      "How many time ? 10\n",
      "Hello\n",
      "Hello\n",
      "Hello\n",
      "Hello\n",
      "Hello\n",
      "Hello\n",
      "Hello\n",
      "Hello\n",
      "Hello\n",
      "Hello\n"
     ]
    }
   ],
   "source": [
    "# Example-2\n",
    "start_value = 1\n",
    "stop_value = int(input(\"How many time ? \"))\n",
    "while(start_value<=stop_value):\n",
    "    print(\"Hello\")\n",
    "    start_value+=1"
   ]
  },
  {
   "cell_type": "code",
   "execution_count": 3,
   "metadata": {},
   "outputs": [
    {
     "name": "stdout",
     "output_type": "stream",
     "text": [
      "1\n",
      "1\n",
      "1\n",
      "1\n",
      "1\n",
      "1\n",
      "1\n",
      "1\n",
      "1\n",
      "1\n"
     ]
    }
   ],
   "source": [
    "# Print 1 ten times.     \n",
    "start_value = 1\n",
    "stop_value = 10\n",
    "value = 1\n",
    "while(start_value<=stop_value):\n",
    "    print(value)\n",
    "    start_value+=1"
   ]
  },
  {
   "cell_type": "code",
   "execution_count": 4,
   "metadata": {},
   "outputs": [
    {
     "name": "stdout",
     "output_type": "stream",
     "text": [
      "How many times ? : 50\n",
      "1\n",
      "1\n",
      "1\n",
      "1\n",
      "1\n",
      "1\n",
      "1\n",
      "1\n",
      "1\n",
      "1\n",
      "1\n",
      "1\n",
      "1\n",
      "1\n",
      "1\n",
      "1\n",
      "1\n",
      "1\n",
      "1\n",
      "1\n",
      "1\n",
      "1\n",
      "1\n",
      "1\n",
      "1\n",
      "1\n",
      "1\n",
      "1\n",
      "1\n",
      "1\n",
      "1\n",
      "1\n",
      "1\n",
      "1\n",
      "1\n",
      "1\n",
      "1\n",
      "1\n",
      "1\n",
      "1\n",
      "1\n",
      "1\n",
      "1\n",
      "1\n",
      "1\n",
      "1\n",
      "1\n",
      "1\n",
      "1\n",
      "1\n"
     ]
    }
   ],
   "source": [
    "# Print 1 N times.     \n",
    "start_value = 1\n",
    "stop_value = int(input(\"How many times ? : \"))\n",
    "value = 1\n",
    "while(start_value<=stop_value):\n",
    "    print(value)\n",
    "    start_value+=1"
   ]
  },
  {
   "cell_type": "code",
   "execution_count": 5,
   "metadata": {},
   "outputs": [
    {
     "name": "stdout",
     "output_type": "stream",
     "text": [
      "1\n",
      "2\n",
      "3\n",
      "4\n",
      "5\n",
      "6\n",
      "7\n",
      "8\n",
      "9\n",
      "10\n"
     ]
    }
   ],
   "source": [
    "# Print 1-10.\n",
    "start_value = 1\n",
    "stop_value = 10\n",
    "while (start_value<=stop_value):\n",
    "    print(start_value)\n",
    "    start_value+=1"
   ]
  },
  {
   "cell_type": "code",
   "execution_count": 6,
   "metadata": {},
   "outputs": [
    {
     "name": "stdout",
     "output_type": "stream",
     "text": [
      "10\n",
      "9\n",
      "8\n",
      "7\n",
      "6\n",
      "5\n",
      "4\n",
      "3\n",
      "2\n",
      "1\n"
     ]
    }
   ],
   "source": [
    "# Print 10-1.\n",
    "start_value = 10\n",
    "stop_value = 1\n",
    "while (start_value>=stop_value):\n",
    "    print(start_value)\n",
    "    start_value-=1"
   ]
  },
  {
   "cell_type": "code",
   "execution_count": 7,
   "metadata": {},
   "outputs": [
    {
     "name": "stdout",
     "output_type": "stream",
     "text": [
      "2\n",
      "4\n",
      "6\n",
      "8\n",
      "10\n"
     ]
    }
   ],
   "source": [
    "# Print even numbers between 1 to 10.\n",
    "# 1, 2, 3, 4, 5, 6, 7, 8, 9, 10 - [2, 4, 6, 8, 10]\n",
    "# 10/2 if remainder equals to 0 than number if even.\n",
    "\n",
    "start_value = 1\n",
    "stop_value = 10\n",
    "while (start_value<=stop_value):\n",
    "    if start_value % 2 == 0:\n",
    "        print(start_value)\n",
    "    start_value+=1"
   ]
  },
  {
   "cell_type": "code",
   "execution_count": 8,
   "metadata": {},
   "outputs": [
    {
     "name": "stdout",
     "output_type": "stream",
     "text": [
      "1\n",
      "3\n",
      "5\n",
      "7\n",
      "9\n"
     ]
    }
   ],
   "source": [
    "# Print odd numbers between 1 to 10.\n",
    "# 1, 2, 3, 4, 5, 6, 7, 8, 9, 10 - [1, 3, 5, 7, 9]\n",
    "# 10/2 if remainder equals to 1 than number if odd.\n",
    "\n",
    "start_value = 1\n",
    "stop_value = 10\n",
    "while (start_value<=stop_value):\n",
    "    if start_value % 2 == 1:\n",
    "        print(start_value)\n",
    "    start_value+=1"
   ]
  },
  {
   "cell_type": "code",
   "execution_count": 9,
   "metadata": {},
   "outputs": [
    {
     "name": "stdout",
     "output_type": "stream",
     "text": [
      "55\n"
     ]
    }
   ],
   "source": [
    "# Print sum of 1 to 10.\n",
    "start_value = 1\n",
    "stop_value = 10\n",
    "sum = 0\n",
    "while (start_value<=stop_value):\n",
    "    sum+=start_value\n",
    "    start_value+=1\n",
    "print(sum)"
   ]
  },
  {
   "cell_type": "markdown",
   "metadata": {},
   "source": [
    "### 2. for loop"
   ]
  },
  {
   "cell_type": "code",
   "execution_count": 10,
   "metadata": {},
   "outputs": [
    {
     "name": "stdout",
     "output_type": "stream",
     "text": [
      "Hello\n",
      "Hello\n",
      "Hello\n",
      "Hello\n",
      "Hello\n",
      "Hello\n",
      "Hello\n",
      "Hello\n",
      "Hello\n",
      "Hello\n"
     ]
    }
   ],
   "source": [
    "# Print Hello 10 times.\n",
    "for i in range(10):# i = 0 to Less than 10 (0-9)\n",
    "    print(\"Hello\")"
   ]
  },
  {
   "cell_type": "code",
   "execution_count": 11,
   "metadata": {},
   "outputs": [
    {
     "name": "stdout",
     "output_type": "stream",
     "text": [
      "1\n",
      "1\n",
      "1\n",
      "1\n",
      "1\n",
      "1\n",
      "1\n",
      "1\n",
      "1\n",
      "1\n"
     ]
    }
   ],
   "source": [
    "# Print 1 10 times.\n",
    "num1 = 1\n",
    "for i in range(10):\n",
    "    print(num1)"
   ]
  },
  {
   "cell_type": "code",
   "execution_count": 12,
   "metadata": {},
   "outputs": [
    {
     "name": "stdout",
     "output_type": "stream",
     "text": [
      "0\n",
      "1\n",
      "2\n",
      "3\n",
      "4\n",
      "5\n",
      "6\n",
      "7\n",
      "8\n",
      "9\n"
     ]
    }
   ],
   "source": [
    "# Print 1 to 10.\n",
    "for i in range(10):\n",
    "    print(i)\n",
    "# 0-9"
   ]
  },
  {
   "cell_type": "code",
   "execution_count": 13,
   "metadata": {},
   "outputs": [
    {
     "name": "stdout",
     "output_type": "stream",
     "text": [
      "1\n",
      "2\n",
      "3\n",
      "4\n",
      "5\n",
      "6\n",
      "7\n",
      "8\n",
      "9\n",
      "10\n"
     ]
    }
   ],
   "source": [
    "for i in range(1, 11):\n",
    "    print(i)"
   ]
  },
  {
   "cell_type": "code",
   "execution_count": 14,
   "metadata": {},
   "outputs": [
    {
     "name": "stdout",
     "output_type": "stream",
     "text": [
      "2\n",
      "4\n",
      "6\n",
      "8\n",
      "10\n",
      "\n",
      "1\n",
      "3\n",
      "5\n",
      "7\n",
      "9\n"
     ]
    }
   ],
   "source": [
    "# Print 1 to 10 - odd/even numbers.\n",
    "for i in range(1, 11):\n",
    "    if i%2==0:\n",
    "        print(i)\n",
    "print()\n",
    "for i in range(1, 11):\n",
    "    if i%2==1:\n",
    "        print(i)"
   ]
  },
  {
   "cell_type": "code",
   "execution_count": 15,
   "metadata": {},
   "outputs": [
    {
     "name": "stdout",
     "output_type": "stream",
     "text": [
      "55\n"
     ]
    }
   ],
   "source": [
    "sum=0\n",
    "for i in range(1, 11):\n",
    "    sum+=i\n",
    "print(sum)"
   ]
  },
  {
   "cell_type": "code",
   "execution_count": 16,
   "metadata": {},
   "outputs": [
    {
     "name": "stdout",
     "output_type": "stream",
     "text": [
      "1 6\n",
      "1 7\n",
      "1 8\n",
      "1 9\n",
      "1 10\n",
      "2 6\n",
      "2 7\n",
      "2 8\n",
      "2 9\n",
      "2 10\n",
      "3 6\n",
      "3 7\n",
      "3 8\n",
      "3 9\n",
      "3 10\n",
      "4 6\n",
      "4 7\n",
      "4 8\n",
      "4 9\n",
      "4 10\n",
      "5 6\n",
      "5 7\n",
      "5 8\n",
      "5 9\n",
      "5 10\n"
     ]
    }
   ],
   "source": [
    "# Nested Loop\n",
    "for i in range(1, 6):\n",
    "    for j in range(6, 11):\n",
    "        print(i, j)"
   ]
  },
  {
   "cell_type": "code",
   "execution_count": 17,
   "metadata": {},
   "outputs": [
    {
     "name": "stdout",
     "output_type": "stream",
     "text": [
      "7\n",
      "3\n",
      "4\n",
      "5\n",
      "6\n",
      "7\n",
      "8\n",
      "7\n",
      "3\n",
      "2\n",
      "2\n",
      "3\n",
      "4\n",
      "5\n",
      "\n",
      "7\n",
      "3\n",
      "4\n",
      "5\n",
      "6\n",
      "7\n",
      "8\n",
      "7\n",
      "3\n",
      "2\n",
      "2\n",
      "3\n",
      "4\n",
      "5\n",
      "\n"
     ]
    }
   ],
   "source": [
    "# Loop with list/tuple/set\n",
    "\n",
    "list1 = [7, 3, 4, 5, 6, 7, 8, 7,3,2,2,3,4,5]\n",
    "\n",
    "# Style-1\n",
    "for i in range(len(list1)):\n",
    "    print(list1[i])\n",
    "\n",
    "print()\n",
    "# Style-2\n",
    "for item in list1:\n",
    "    print(item)\n",
    "print()    "
   ]
  },
  {
   "cell_type": "code",
   "execution_count": 18,
   "metadata": {},
   "outputs": [
    {
     "name": "stdout",
     "output_type": "stream",
     "text": [
      "sn 1\n",
      "name Krishna\n",
      "address KTM\n",
      "\n",
      "1\n",
      "Krishna\n",
      "KTM\n",
      "\n",
      "1\n",
      "Krishna\n",
      "KTM\n"
     ]
    }
   ],
   "source": [
    "# Looping with dictionary\n",
    "dict1 = {'sn':1, 'name':'Krishna', 'address':'KTM'}\n",
    "\n",
    "for key, value in dict1.items():\n",
    "    print(key, value)\n",
    "\n",
    "print()        \n",
    "for key in dict1.keys():\n",
    "    print(dict1[key])\n",
    "\n",
    "print()    \n",
    "for value in dict1.values():\n",
    "    print(value)"
   ]
  },
  {
   "cell_type": "code",
   "execution_count": 19,
   "metadata": {},
   "outputs": [
    {
     "name": "stdout",
     "output_type": "stream",
     "text": [
      "1\n",
      "2\n",
      "3\n",
      "4\n"
     ]
    }
   ],
   "source": [
    "# Break Statement\n",
    "for i in range(1, 11):\n",
    "    if i == 5:\n",
    "        break\n",
    "    print(i)"
   ]
  },
  {
   "cell_type": "code",
   "execution_count": 20,
   "metadata": {},
   "outputs": [
    {
     "name": "stdout",
     "output_type": "stream",
     "text": [
      "1\n",
      "2\n",
      "3\n",
      "4\n",
      "6\n",
      "7\n",
      "8\n",
      "9\n",
      "10\n"
     ]
    }
   ],
   "source": [
    "# Continue Statement\n",
    "for i in range(1, 11):\n",
    "    if i == 5:\n",
    "        continue\n",
    "    print(i)"
   ]
  },
  {
   "cell_type": "code",
   "execution_count": 21,
   "metadata": {},
   "outputs": [
    {
     "name": "stdout",
     "output_type": "stream",
     "text": [
      "I am fine\n"
     ]
    }
   ],
   "source": [
    "# return\n",
    "def how_r_y():\n",
    "    return \"I am fine\"\n",
    "\n",
    "print(how_r_y())"
   ]
  },
  {
   "cell_type": "code",
   "execution_count": 22,
   "metadata": {},
   "outputs": [
    {
     "name": "stdout",
     "output_type": "stream",
     "text": [
      "None\n"
     ]
    }
   ],
   "source": [
    "# pass\n",
    "def what_is_your_name():\n",
    "    pass\n",
    "\n",
    "print(what_is_your_name())"
   ]
  },
  {
   "cell_type": "code",
   "execution_count": 24,
   "metadata": {},
   "outputs": [
    {
     "name": "stdout",
     "output_type": "stream",
     "text": [
      "1\n",
      "3\n",
      "5\n",
      "7\n",
      "9\n"
     ]
    }
   ],
   "source": [
    "# Steps in Loop\n",
    "for i in range(1, 11, 2):\n",
    "    print(i)"
   ]
  },
  {
   "cell_type": "markdown",
   "metadata": {},
   "source": [
    "### Nested Loop"
   ]
  },
  {
   "cell_type": "code",
   "execution_count": 5,
   "metadata": {},
   "outputs": [
    {
     "name": "stdout",
     "output_type": "stream",
     "text": [
      "1\n",
      "2\n",
      "3\n"
     ]
    }
   ],
   "source": [
    "for i in range(1, 4):\n",
    "    print(i)"
   ]
  },
  {
   "cell_type": "code",
   "execution_count": 4,
   "metadata": {},
   "outputs": [
    {
     "name": "stdout",
     "output_type": "stream",
     "text": [
      "1\n",
      "2\n",
      "3\n"
     ]
    }
   ],
   "source": [
    "for j in range(1, 4):\n",
    "    print(j)"
   ]
  },
  {
   "cell_type": "code",
   "execution_count": 10,
   "metadata": {},
   "outputs": [
    {
     "name": "stdout",
     "output_type": "stream",
     "text": [
      "i= 1\n",
      "\tj= 1\n",
      "\tj= 2\n",
      "\tj= 3\n",
      "i= 2\n",
      "\tj= 1\n",
      "\tj= 2\n",
      "\tj= 3\n",
      "i= 3\n",
      "\tj= 1\n",
      "\tj= 2\n",
      "\tj= 3\n"
     ]
    }
   ],
   "source": [
    "for i in range(1, 4): # Outer Loop 1 times\n",
    "    print(\"i=\", i)\n",
    "    for j in range(1, 4): # Inner Loop 3 times\n",
    "        print(\"\\tj=\",j)"
   ]
  },
  {
   "cell_type": "code",
   "execution_count": 11,
   "metadata": {},
   "outputs": [],
   "source": [
    "# Case Study-1\n",
    "first_name = ['Krishna','Rupesh']\n",
    "last_name = ['Aryal','Shrestha']\n",
    "address = ['Balaju','Suryabinayak']"
   ]
  },
  {
   "cell_type": "code",
   "execution_count": 12,
   "metadata": {},
   "outputs": [],
   "source": [
    "# Rupesh\n",
    "first_name =[\"krishna\", \"Amit\" \"Rupesh\", \"Bishnu\", \"Sandesh\", \"kamal\", \"Hari\", \"Sita\", \"Geeta\", \"Aman\", \"Purna\",\"Binita\", \"Sabina\",\"Rabina\", \"Anil\"]\n",
    "last_name =[\"Aryal\",\"Maharjan\", \"Shrestha\", \"Joshi\", \"GC\", \"KC\", \"Adikari\", \"Neupane\", \"Sharma\", \"Maskey\",\"Baral\",\"Dangol\",\"Khadka\", \"Subedi\", \"Shakya\"]\n",
    "Address = [\"Balaju\",\"Suryabinak\",\"Baneshwor\", \"Koteshwor\",\"Jamal\", \"Patan\", \"sunakothi\", \"Pesicola\",\"Kupando\", \"sanepa\", \"Gwarko\", \"satdobato\", \"Jorpati\",\"maitidevi\", \"nayabazar\"]\n",
    "\n",
    "# Arjun\n",
    "First_name = ['Krishna','Rupesh','Anish','Puskar','Arjun','usha','binayak','pradip','nirajan','rakesh']  \n",
    "Last_name  = ['aryal','shrestha','bhattarai','karki','bhattarai','pokhrel','lamichanne','giri','basnet','kc']\n",
    "Address_name = ['Balaju','Suryabinayak','Pepsicola','Tinkune','Pepsicola','Itahari','Pepsicola','Pepsicola','Pepsicola','Pepsicola']\n",
    "\n",
    "# Nila\n",
    "First_name = ['Ram','Shyam','Hari','Pradip','Lila','Keshav','Ashmita','Binita','Asha','Manita']\n",
    "Last_name  = ['Rai','Pradhan','Katwal','Sherpa','Tamang','Joshi','K.C','Shrestha','Lama','Adhikary']\n",
    "Address_name = ['Okhaldhunga','Suryabinayak','Swyambhu','Tinkune','Kapan','Pokhara','Solukhumbu','Baneshwor','Ramechaap','Sitapaila']\n",
    "\n",
    "# Bibek\n",
    "first_name = ['Bibek','Dev','Manish','Ram','Shyam','Isha','Binaya','Pradip','Birajan','Rohit']\n",
    "last_name  = ['Thapa','Shrestha','Bhattarai','Karki','Bhattarai','Pokhrel','Lamichanne','Giri','Basnet','KC']\n",
    "address_name = ['Balaju','Suryabinayak','Pepsicola','Tinkune','Jorpati','Itahari','Gaurighat','Baneshwor','Balaju','Okhaldhungha']"
   ]
  },
  {
   "cell_type": "code",
   "execution_count": 17,
   "metadata": {},
   "outputs": [
    {
     "name": "stdout",
     "output_type": "stream",
     "text": [
      "45\n"
     ]
    }
   ],
   "source": [
    "first_name = [\"krishna\", \"Amit\" \"Rupesh\", \"Bishnu\", \"Sandesh\", \"kamal\", \"Hari\", \"Sita\", \"Geeta\", \"Aman\", \"Purna\",\"Binita\", \"Sabina\",\"Rabina\", \"Anil\", 'Krishna','Rupesh','Anish','Puskar','Arjun','usha','binayak','pradip','nirajan','rakesh', 'Ram','Shyam','Hari','Pradip','Lila','Keshav','Ashmita','Binita','Asha','Manita', 'Bibek','Dev','Manish','Ram','Shyam','Isha','Binaya','Pradip','Birajan','Rohit','Anish']\n",
    "last_name = [\"Aryal\",\"Maharjan\", \"Shrestha\", \"Joshi\", \"GC\", \"KC\", \"Adikari\", \"Neupane\", \"Sharma\", \"Maskey\",\"Baral\",\"Dangol\",\"Khadka\", \"Subedi\", \"Shakya\", 'aryal','shrestha','bhattarai','karki','bhattarai','pokhrel','lamichanne','giri','basnet','kc','Rai','Pradhan','Katwal','Sherpa','Tamang','Joshi','K.C','Shrestha','Lama','Adhikary',  'Thapa','Shrestha','Bhattarai','Karki','Bhattarai','Pokhrel','Lamichanne','Giri','Basnet','KC']\n",
    "address = [\"Balaju\",\"Suryabinak\",\"Baneshwor\", \"Koteshwor\",\"Jamal\", \"Patan\", \"sunakothi\", \"Pesicola\",\"Kupando\", \"sanepa\", \"Gwarko\", \"satdobato\", \"Jorpati\",\"maitidevi\", \"nayabazar\", 'Balaju','Suryabinayak','Pepsicola','Tinkune','Pepsicola','Itahari','Pepsicola','Pepsicola','Pepsicola','Pepsicola', 'Okhaldhunga','Suryabinayak','Swyambhu','Tinkune','Kapan','Pokhara','Solukhumbu','Baneshwor','Ramechaap','Sitapaila', 'Balaju','Suryabinayak','Pepsicola','Tinkune','Jorpati','Itahari','Gaurighat','Baneshwor','Balaju','Okhaldhungha']"
   ]
  },
  {
   "cell_type": "code",
   "execution_count": 18,
   "metadata": {},
   "outputs": [
    {
     "data": {
      "text/plain": [
       "91125"
      ]
     },
     "execution_count": 18,
     "metadata": {},
     "output_type": "execute_result"
    }
   ],
   "source": [
    "# 45x45x45\n",
    "45*45*45"
   ]
  },
  {
   "cell_type": "code",
   "execution_count": null,
   "metadata": {},
   "outputs": [],
   "source": [
    "# Output\n",
    "    # person1 {'first_name':'Krishna', 'last_name':'Aryal','address':'Balaju'}\n",
    "    # person91125 {'first_name':'Krishna', 'last_name':'Aryal','address':'Balaju'}"
   ]
  }
 ],
 "metadata": {
  "kernelspec": {
   "display_name": "Python 3",
   "language": "python",
   "name": "python3"
  },
  "language_info": {
   "codemirror_mode": {
    "name": "ipython",
    "version": 3
   },
   "file_extension": ".py",
   "mimetype": "text/x-python",
   "name": "python",
   "nbconvert_exporter": "python",
   "pygments_lexer": "ipython3",
   "version": "3.8.5"
  }
 },
 "nbformat": 4,
 "nbformat_minor": 4
}
