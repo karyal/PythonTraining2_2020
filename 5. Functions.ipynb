{
 "cells": [
  {
   "cell_type": "markdown",
   "metadata": {},
   "source": [
    "### Functions"
   ]
  },
  {
   "cell_type": "code",
   "execution_count": 33,
   "metadata": {},
   "outputs": [],
   "source": [
    "# Function Definition\n",
    "def f1():\n",
    "    print(\"Hello\")# Statement\n",
    "    print(\"Hi\") # Statement\n",
    "    print(\"Function\") # Statement\n",
    "\n",
    "def f2(str1): # Copy argument's value on parameter (i.e.str2-> str1)\n",
    "    print(str1)\n",
    "\n",
    "# Accept Multiple Values as Parameter\n",
    "def f3(var1, var2):\n",
    "    print(var1, var2)\n",
    "\n",
    "# Returning value from Function\n",
    "def f4():\n",
    "    return (\"Hi\")\n",
    "\n",
    "def f5(var1):\n",
    "    return(\"Hello : \"+str(var1))"
   ]
  },
  {
   "cell_type": "code",
   "execution_count": 36,
   "metadata": {},
   "outputs": [
    {
     "name": "stdout",
     "output_type": "stream",
     "text": [
      "Kathmandu, Nepal\n",
      "Balaju, Kathmandu\n",
      "23\n",
      "Kalanki, Kathmandu\n",
      "Value1 20\n",
      "Value2 78\n",
      "Hi\n",
      "Hello : Kathmandu\n",
      "Hello : Bhaktapur\n"
     ]
    }
   ],
   "source": [
    "# Function Call\n",
    "\"\"\"\n",
    "for i in range(10):\n",
    "    f1()\n",
    "    print()\n",
    "\"\"\"\n",
    "str2 = \"Kathmandu, Nepal\"\n",
    "str3 = \"Balaju, Kathmandu\"\n",
    "str4 = 23\n",
    "\n",
    "f2(str2) # Call function with value pass - str2 : Argument\n",
    "f2(str3) \n",
    "f2(str4)\n",
    "f2('Kalanki, Kathmandu')\n",
    "\n",
    "\n",
    "f3('Value1', 20)\n",
    "f3('Value2', 78)\n",
    "\n",
    "var1 = f4()\n",
    "print(var1)\n",
    "\n",
    "var1 = f5(\"Kathmandu\")\n",
    "print(var1)\n",
    "\n",
    "var1 = f5(\"Bhaktapur\")\n",
    "print(var1)\n"
   ]
  },
  {
   "cell_type": "code",
   "execution_count": 60,
   "metadata": {},
   "outputs": [],
   "source": [
    "# Task -1 Create function    \n",
    "    # Add two numbers and print sum.\n",
    "    # Accept two numbers as parameter and print sum of them.\n",
    "    # Accept two numbers as parameter and return sum of them.\n",
    "\n",
    "# Task-2\n",
    "    # Create as more as possible functions to solve student \n",
    "    # info processing system."
   ]
  },
  {
   "cell_type": "code",
   "execution_count": 58,
   "metadata": {},
   "outputs": [],
   "source": [
    "# Static Function\n",
    "def f1():\n",
    "    var1 = 90\n",
    "    var2 = 87\n",
    "    print(var1+var2)\n",
    "\n",
    "def f2(num1, num2):\n",
    "    print(num1+num2)\n",
    "\n",
    "def f3(num1, num2):\n",
    "    return (num1+num2)"
   ]
  },
  {
   "cell_type": "code",
   "execution_count": 59,
   "metadata": {},
   "outputs": [
    {
     "name": "stdout",
     "output_type": "stream",
     "text": [
      "177\n",
      "52\n",
      "16\n",
      "13\n",
      "94\n",
      "132\n"
     ]
    }
   ],
   "source": [
    "f1()\n",
    "\n",
    "f2(20, 32)\n",
    "n1 = 9\n",
    "n2 = 7\n",
    "f2(n1, n2)\n",
    "f2(n1, 4)\n",
    "f2(87, n2)\n",
    "\n",
    "result = f3(78, 54)\n",
    "print(result)"
   ]
  },
  {
   "cell_type": "code",
   "execution_count": null,
   "metadata": {},
   "outputs": [],
   "source": []
  },
  {
   "cell_type": "code",
   "execution_count": null,
   "metadata": {},
   "outputs": [],
   "source": []
  }
 ],
 "metadata": {
  "kernelspec": {
   "display_name": "Python 3",
   "language": "python",
   "name": "python3"
  },
  "language_info": {
   "codemirror_mode": {
    "name": "ipython",
    "version": 3
   },
   "file_extension": ".py",
   "mimetype": "text/x-python",
   "name": "python",
   "nbconvert_exporter": "python",
   "pygments_lexer": "ipython3",
   "version": "3.8.5"
  }
 },
 "nbformat": 4,
 "nbformat_minor": 4
}
