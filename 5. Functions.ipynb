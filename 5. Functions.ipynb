{
 "cells": [
  {
   "cell_type": "markdown",
   "metadata": {},
   "source": [
    "### Functions"
   ]
  },
  {
   "cell_type": "code",
   "execution_count": 62,
   "metadata": {},
   "outputs": [],
   "source": [
    "# Function Definition\n",
    "def f1():\n",
    "    print(\"Hello\")# Statement\n",
    "    print(\"Hi\") # Statement\n",
    "    print(\"Function\") # Statement\n",
    "\n",
    "def f2(str1): # Copy argument's value on parameter (i.e.str2-> str1)\n",
    "    print(str1)\n",
    "\n",
    "# Accept Multiple Values as Parameter\n",
    "def f3(var1, var2):\n",
    "    print(var1, var2)\n",
    "\n",
    "# Returning value from Function\n",
    "def f4():\n",
    "    return (\"Hi\")\n",
    "\n",
    "def f5(var1):\n",
    "    return(\"Hello : \"+str(var1))"
   ]
  },
  {
   "cell_type": "code",
   "execution_count": 63,
   "metadata": {},
   "outputs": [
    {
     "name": "stdout",
     "output_type": "stream",
     "text": [
      "Hello\n",
      "Hi\n",
      "Function\n",
      "Kathmandu, Nepal\n",
      "Balaju, Kathmandu\n",
      "23\n",
      "Kalanki, Kathmandu\n",
      "Value1 20\n",
      "Value2 78\n",
      "Hi\n",
      "Hello : Kathmandu\n",
      "Hello : Bhaktapur\n"
     ]
    }
   ],
   "source": [
    "# Function Call\n",
    "f1()\n",
    "str2 = \"Kathmandu, Nepal\"\n",
    "str3 = \"Balaju, Kathmandu\"\n",
    "str4 = 23\n",
    "\n",
    "f2(str2) # Call function with value pass - str2 : Argument\n",
    "f2(str3) \n",
    "f2(str4)\n",
    "f2('Kalanki, Kathmandu')\n",
    "\n",
    "f3('Value1', 20)\n",
    "f3('Value2', 78)\n",
    "\n",
    "var1 = f4()\n",
    "print(var1)\n",
    "\n",
    "var1 = f5(\"Kathmandu\")\n",
    "print(var1)\n",
    "\n",
    "var1 = f5(\"Bhaktapur\")\n",
    "print(var1)\n"
   ]
  },
  {
   "cell_type": "code",
   "execution_count": 60,
   "metadata": {},
   "outputs": [],
   "source": [
    "# Task -1 Create function    \n",
    "    # Add two numbers and print sum.\n",
    "    # Accept two numbers as parameter and print sum of them.\n",
    "    # Accept two numbers as parameter and return sum of them.\n",
    "\n",
    "# Task-2\n",
    "    # Create as more as possible functions to solve student info processing system."
   ]
  },
  {
   "cell_type": "code",
   "execution_count": 58,
   "metadata": {},
   "outputs": [],
   "source": [
    "# Static Function\n",
    "def f1():\n",
    "    var1 = 90\n",
    "    var2 = 87\n",
    "    print(var1+var2)\n",
    "\n",
    "def f2(num1, num2):\n",
    "    print(num1+num2)\n",
    "\n",
    "def f3(num1, num2):\n",
    "    return (num1+num2)"
   ]
  },
  {
   "cell_type": "code",
   "execution_count": 59,
   "metadata": {},
   "outputs": [
    {
     "name": "stdout",
     "output_type": "stream",
     "text": [
      "177\n",
      "52\n",
      "16\n",
      "13\n",
      "94\n",
      "132\n"
     ]
    }
   ],
   "source": [
    "f1()\n",
    "\n",
    "f2(20, 32)\n",
    "n1 = 9\n",
    "n2 = 7\n",
    "f2(n1, n2)\n",
    "f2(n1, 4)\n",
    "f2(87, n2)\n",
    "\n",
    "result = f3(78, 54)\n",
    "print(result)"
   ]
  },
  {
   "cell_type": "code",
   "execution_count": null,
   "metadata": {},
   "outputs": [],
   "source": [
    "# Task -1 Create function\n",
    "    # Add two numbers and print sum.\n",
    "    # Accept two numbers as parameter and print sum of them.\n",
    "    # Accept two numbers as parameter and return sum of them."
   ]
  },
  {
   "cell_type": "code",
   "execution_count": 3,
   "metadata": {},
   "outputs": [],
   "source": [
    "# Add two numbers and print sum.\n",
    "def add_numbers1():\n",
    "    n1= 90\n",
    "    n2 = 32\n",
    "    n3 = n1+n2\n",
    "    print(\"Sum : \", n3)"
   ]
  },
  {
   "cell_type": "code",
   "execution_count": 2,
   "metadata": {},
   "outputs": [
    {
     "name": "stdout",
     "output_type": "stream",
     "text": [
      "Sum :  122\n"
     ]
    }
   ],
   "source": [
    "add_numbers1()"
   ]
  },
  {
   "cell_type": "code",
   "execution_count": 5,
   "metadata": {},
   "outputs": [],
   "source": [
    "# Accept two numbers as parameter and print sum of them.\n",
    "def add_numbers2(n1, n2):\n",
    "    n3 = n1+n2\n",
    "    print(\"Sum : \", n3)"
   ]
  },
  {
   "cell_type": "code",
   "execution_count": 6,
   "metadata": {},
   "outputs": [
    {
     "name": "stdout",
     "output_type": "stream",
     "text": [
      "Sum :  13\n"
     ]
    }
   ],
   "source": [
    "add_numbers2(8, 5)"
   ]
  },
  {
   "cell_type": "code",
   "execution_count": 7,
   "metadata": {},
   "outputs": [],
   "source": [
    "# Accept two numbers as parameter and return sum of them.\n",
    "def add_numbers3(n1, n2):\n",
    "    n3 = n1+n2\n",
    "    return(n3)"
   ]
  },
  {
   "cell_type": "code",
   "execution_count": 8,
   "metadata": {},
   "outputs": [
    {
     "name": "stdout",
     "output_type": "stream",
     "text": [
      "Result :  13\n"
     ]
    }
   ],
   "source": [
    "result = add_numbers3(8, 5)\n",
    "print(\"Result : \", result)"
   ]
  },
  {
   "cell_type": "code",
   "execution_count": 22,
   "metadata": {},
   "outputs": [],
   "source": [
    "# Task-2\n",
    "# Create as more as possible functions to solve student info processing system.\n",
    "\n",
    "def read_value(message):\n",
    "    return input(message)\n",
    "\n",
    "def calculate_total(num1, num2):\n",
    "    return num1+num2\n",
    "\n",
    "def calculate_average(total, count):\n",
    "    return total/count\n",
    "\n",
    "def calculate_result(nums, PM):\n",
    "    result = \"PASS\"\n",
    "    for num in nums:\n",
    "        if num<PM:\n",
    "            result = \"FAIL\"\n",
    "            break\n",
    "    return result\n",
    "\n",
    "def print_value(label, value):\n",
    "    print(label, \" : \", value)"
   ]
  },
  {
   "cell_type": "code",
   "execution_count": 26,
   "metadata": {},
   "outputs": [
    {
     "name": "stdout",
     "output_type": "stream",
     "text": [
      "Enter Roll No : 1\n",
      "Enter Full name : Krishna\n",
      "Enter Class : five\n",
      "Enter SUB-1 : 78\n",
      "Enter SUB-2 : 89\n",
      "Enter SUB-3 : 87\n",
      "Enter SUB-4 : 74\n",
      "Total  :  328.0\n",
      "Average  :  82.0\n",
      "Result  :  PASS\n"
     ]
    }
   ],
   "source": [
    "# Getting values from user\n",
    "roll_no = read_value(\"Enter Roll No : \")\n",
    "full_name = read_value(\"Enter Full name : \")\n",
    "standard = read_value(\"Enter Class : \")\n",
    "sub1 = float(read_value(\"Enter SUB-1 : \"))\n",
    "sub2 = float(read_value(\"Enter SUB-2 : \"))\n",
    "sub3 = float(read_value(\"Enter SUB-3 : \"))\n",
    "sub4 = float(read_value(\"Enter SUB-4 : \"))\n",
    "\n",
    "#Processing\n",
    "PM = 40\n",
    "SUB_COUNT = 4\n",
    "\n",
    "tmp1 = calculate_total(sub1, sub2)\n",
    "tmp2 = calculate_total(sub3, sub4)\n",
    "total = calculate_total(tmp1, tmp2)\n",
    "average = calculate_average(total, SUB_COUNT)\n",
    "subs = [sub1, sub2, sub3, sub4]\n",
    "result = calculate_result(subs, PM)\n",
    "\n",
    "print_value(\"Total\", total)\n",
    "print_value(\"Average\", average)\n",
    "print_value(\"Result\", result)"
   ]
  },
  {
   "cell_type": "markdown",
   "metadata": {},
   "source": [
    "#### "
   ]
  }
 ],
 "metadata": {
  "kernelspec": {
   "display_name": "Python 3",
   "language": "python",
   "name": "python3"
  },
  "language_info": {
   "codemirror_mode": {
    "name": "ipython",
    "version": 3
   },
   "file_extension": ".py",
   "mimetype": "text/x-python",
   "name": "python",
   "nbconvert_exporter": "python",
   "pygments_lexer": "ipython3",
   "version": "3.8.5"
  }
 },
 "nbformat": 4,
 "nbformat_minor": 4
}
