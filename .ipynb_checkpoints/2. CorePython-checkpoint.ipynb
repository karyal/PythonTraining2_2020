{
 "cells": [
  {
   "cell_type": "markdown",
   "metadata": {},
   "source": [
    "### Core Python Programming\n",
    "* Basic IO [Input/Output] (Reading value from Keyboard and Display)\n",
    "* Core Python\n",
    "    * Characters Set\n",
    "    * Keywords\n",
    "    * Identifiers\n",
    "    * Varaibles"
   ]
  },
  {
   "cell_type": "markdown",
   "metadata": {},
   "source": [
    "#### Basic IO\n",
    "* Reading value from Keyboard\n",
    "* Display value"
   ]
  },
  {
   "cell_type": "code",
   "execution_count": null,
   "metadata": {},
   "outputs": [],
   "source": [
    "# Reading value from Keyboard\n",
    "    # input() function is used to read value from keyboard."
   ]
  },
  {
   "cell_type": "code",
   "execution_count": 2,
   "metadata": {},
   "outputs": [
    {
     "name": "stdout",
     "output_type": "stream",
     "text": [
      "dskjgkl lkj gljkg\n"
     ]
    },
    {
     "data": {
      "text/plain": [
       "'dskjgkl lkj gljkg'"
      ]
     },
     "execution_count": 2,
     "metadata": {},
     "output_type": "execute_result"
    }
   ],
   "source": [
    "# Example\n",
    "input() # call input function # read value from keyboard until press Enter."
   ]
  },
  {
   "cell_type": "code",
   "execution_count": null,
   "metadata": {},
   "outputs": [],
   "source": [
    "# re-using inputed value\n",
    "    # placeholder =  input()"
   ]
  },
  {
   "cell_type": "code",
   "execution_count": 4,
   "metadata": {},
   "outputs": [
    {
     "name": "stdout",
     "output_type": "stream",
     "text": [
      "asfjkashfkjashf kjsahf kjsahf kjhs fkhkkjh\n"
     ]
    }
   ],
   "source": [
    "# Example\n",
    "value1 = input()"
   ]
  },
  {
   "cell_type": "code",
   "execution_count": null,
   "metadata": {},
   "outputs": [],
   "source": [
    "# Display value\n",
    "    # print() function is used to display value."
   ]
  },
  {
   "cell_type": "code",
   "execution_count": 6,
   "metadata": {},
   "outputs": [
    {
     "name": "stdout",
     "output_type": "stream",
     "text": [
      "asfjkashfkjashf kjsahf kjsahf kjhs fkhkkjh\n",
      "asfjkashfkjashf kjsahf kjsahf kjhs fkhkkjh\n",
      "asfjkashfkjashf kjsahf kjsahf kjhs fkhkkjh\n",
      "asfjkashfkjashf kjsahf kjsahf kjhs fkhkkjh\n",
      "asfjkashfkjashf kjsahf kjsahf kjhs fkhkkjh\n",
      "asfjkashfkjashf kjsahf kjsahf kjhs fkhkkjh\n"
     ]
    }
   ],
   "source": [
    "#Example\n",
    "print(value1)\n",
    "print(value1)\n",
    "print(value1)\n",
    "print(value1)\n",
    "print(value1)\n",
    "print(value1)"
   ]
  },
  {
   "cell_type": "code",
   "execution_count": 8,
   "metadata": {},
   "outputs": [],
   "source": [
    "# Task-1\n",
    "    # Read your name and display.\n",
    "    # Read your address and display.\n",
    "    # Read you mobile no and display.\n",
    "    # Read you email and display."
   ]
  },
  {
   "cell_type": "code",
   "execution_count": 11,
   "metadata": {},
   "outputs": [
    {
     "name": "stdout",
     "output_type": "stream",
     "text": [
      "krishna aryal\n",
      "Kathmandu\n"
     ]
    }
   ],
   "source": [
    "# input - read value from keyboard\n",
    "myname = input()\n",
    "myaddress = input()\n",
    "mobileno = input()\n",
    "email = input()"
   ]
  },
  {
   "cell_type": "code",
   "execution_count": 12,
   "metadata": {},
   "outputs": [
    {
     "name": "stdout",
     "output_type": "stream",
     "text": [
      "krishna aryal\n",
      "Kathmandu\n"
     ]
    }
   ],
   "source": [
    "# print - display value\n",
    "print(myname)\n",
    "print(myaddress)\n",
    "print(mobileno)\n",
    "print(email)"
   ]
  },
  {
   "cell_type": "code",
   "execution_count": 1,
   "metadata": {},
   "outputs": [],
   "source": [
    "# Task-2\n",
    "    # Read two numbers and display sum (Addition) of them."
   ]
  },
  {
   "cell_type": "code",
   "execution_count": 2,
   "metadata": {},
   "outputs": [
    {
     "name": "stdout",
     "output_type": "stream",
     "text": [
      "3\n",
      "2\n",
      "32\n"
     ]
    }
   ],
   "source": [
    "# Task-2 - Solution\n",
    "num1 = input()\n",
    "num2 = input()\n",
    "num3 = num1+num2\n",
    "print(num3)"
   ]
  },
  {
   "cell_type": "markdown",
   "metadata": {},
   "source": [
    "#### Core Python\n",
    "* Characters Set\n",
    "* Keywords\n",
    "* Identifiers\n",
    "* Varaibles"
   ]
  },
  {
   "cell_type": "code",
   "execution_count": 3,
   "metadata": {},
   "outputs": [],
   "source": [
    "# Characters Set\n",
    "    # Number of character (symbol) in language.\n",
    "    # Used to create Statement. (words, operators - Sentence-> Statement)"
   ]
  },
  {
   "cell_type": "code",
   "execution_count": 4,
   "metadata": {},
   "outputs": [],
   "source": [
    "# Exploring characters\n",
    "import string"
   ]
  },
  {
   "cell_type": "code",
   "execution_count": 23,
   "metadata": {},
   "outputs": [],
   "source": [
    "# help(string)\n",
    "# ascii_letters = 'abcdefghijklmnopqrstuvwxyzABCDEFGHIJKLMNOPQRSTUVWXYZ'\n",
    "# ascii_lowercase = 'abcdefghijklmnopqrstuvwxyz'\n",
    "# ascii_uppercase = 'ABCDEFGHIJKLMNOPQRSTUVWXYZ'\n",
    "# digits = '0123456789'\n",
    "# hexdigits = '0123456789abcdefABCDEF'\n",
    "# octdigits = '01234567'\n",
    "# printable = '0123456789abcdefghijklmnopqrstuvwxyzABCDEFGHIJKLMNOPQRSTU...\n",
    "# punctuation = '!\"#$%&\\'()*+,-./:;<=>?@[\\\\]^_`{|}~'\n",
    "# whitespace = ' \\t\\n\\r\\x0b\\x0c'"
   ]
  },
  {
   "cell_type": "code",
   "execution_count": 12,
   "metadata": {},
   "outputs": [
    {
     "name": "stdout",
     "output_type": "stream",
     "text": [
      "ASCII CODE\tVALUE\n",
      "0  \t\t \u0000\n",
      "1  \t\t \u0001\n",
      "2  \t\t \u0002\n",
      "3  \t\t \u0003\n",
      "4  \t\t \u0004\n",
      "5  \t\t \u0005\n",
      "6  \t\t \u0006\n",
      "7  \t\t \u0007\n",
      "8  \t\t \b\n",
      "9  \t\t \t\n",
      "10  \t\t \n",
      "\n",
      "11  \t\t \u000b",
      "\n",
      "12  \t\t \f",
      "\n",
      "13  \t\t \r\n",
      "14  \t\t \u000e\n",
      "15  \t\t \u000f\n",
      "16  \t\t \u0010\n",
      "17  \t\t \u0011\n",
      "18  \t\t \u0012\n",
      "19  \t\t \u0013\n",
      "20  \t\t \u0014\n",
      "21  \t\t \u0015\n",
      "22  \t\t \u0016\n",
      "23  \t\t \u0017\n",
      "24  \t\t \u0018\n",
      "25  \t\t \u0019\n",
      "26  \t\t \u001a\n",
      "27  \t\t \u001b\n",
      "28  \t\t \u001c",
      "\n",
      "29  \t\t \u001d",
      "\n",
      "30  \t\t \u001e",
      "\n",
      "31  \t\t \u001f\n",
      "32  \t\t  \n",
      "33  \t\t !\n",
      "34  \t\t \"\n",
      "35  \t\t #\n",
      "36  \t\t $\n",
      "37  \t\t %\n",
      "38  \t\t &\n",
      "39  \t\t '\n",
      "40  \t\t (\n",
      "41  \t\t )\n",
      "42  \t\t *\n",
      "43  \t\t +\n",
      "44  \t\t ,\n",
      "45  \t\t -\n",
      "46  \t\t .\n",
      "47  \t\t /\n",
      "48  \t\t 0\n",
      "49  \t\t 1\n",
      "50  \t\t 2\n",
      "51  \t\t 3\n",
      "52  \t\t 4\n",
      "53  \t\t 5\n",
      "54  \t\t 6\n",
      "55  \t\t 7\n",
      "56  \t\t 8\n",
      "57  \t\t 9\n",
      "58  \t\t :\n",
      "59  \t\t ;\n",
      "60  \t\t <\n",
      "61  \t\t =\n",
      "62  \t\t >\n",
      "63  \t\t ?\n",
      "64  \t\t @\n",
      "65  \t\t A\n",
      "66  \t\t B\n",
      "67  \t\t C\n",
      "68  \t\t D\n",
      "69  \t\t E\n",
      "70  \t\t F\n",
      "71  \t\t G\n",
      "72  \t\t H\n",
      "73  \t\t I\n",
      "74  \t\t J\n",
      "75  \t\t K\n",
      "76  \t\t L\n",
      "77  \t\t M\n",
      "78  \t\t N\n",
      "79  \t\t O\n",
      "80  \t\t P\n",
      "81  \t\t Q\n",
      "82  \t\t R\n",
      "83  \t\t S\n",
      "84  \t\t T\n",
      "85  \t\t U\n",
      "86  \t\t V\n",
      "87  \t\t W\n",
      "88  \t\t X\n",
      "89  \t\t Y\n",
      "90  \t\t Z\n",
      "91  \t\t [\n",
      "92  \t\t \\\n",
      "93  \t\t ]\n",
      "94  \t\t ^\n",
      "95  \t\t _\n",
      "96  \t\t `\n",
      "97  \t\t a\n",
      "98  \t\t b\n",
      "99  \t\t c\n",
      "100  \t\t d\n",
      "101  \t\t e\n",
      "102  \t\t f\n",
      "103  \t\t g\n",
      "104  \t\t h\n",
      "105  \t\t i\n",
      "106  \t\t j\n",
      "107  \t\t k\n",
      "108  \t\t l\n",
      "109  \t\t m\n",
      "110  \t\t n\n",
      "111  \t\t o\n",
      "112  \t\t p\n",
      "113  \t\t q\n",
      "114  \t\t r\n",
      "115  \t\t s\n",
      "116  \t\t t\n",
      "117  \t\t u\n",
      "118  \t\t v\n",
      "119  \t\t w\n",
      "120  \t\t x\n",
      "121  \t\t y\n",
      "122  \t\t z\n",
      "123  \t\t {\n",
      "124  \t\t |\n",
      "125  \t\t }\n",
      "126  \t\t ~\n",
      "127  \t\t \n",
      "128  \t\t \n",
      "129  \t\t \n",
      "130  \t\t \n",
      "131  \t\t \n",
      "132  \t\t \n",
      "133  \t\t ",
      "\n",
      "134  \t\t \n",
      "135  \t\t \n",
      "136  \t\t \n",
      "137  \t\t \n",
      "138  \t\t \n",
      "139  \t\t \n",
      "140  \t\t \n",
      "141  \t\t \n",
      "142  \t\t \n",
      "143  \t\t \n",
      "144  \t\t \n",
      "145  \t\t \n",
      "146  \t\t \n",
      "147  \t\t \n",
      "148  \t\t \n",
      "149  \t\t \n",
      "150  \t\t \n",
      "151  \t\t \n",
      "152  \t\t \n",
      "153  \t\t \n",
      "154  \t\t \n",
      "155  \t\t \n",
      "156  \t\t \n",
      "157  \t\t \n",
      "158  \t\t \n",
      "159  \t\t \n",
      "160  \t\t  \n",
      "161  \t\t ¡\n",
      "162  \t\t ¢\n",
      "163  \t\t £\n",
      "164  \t\t ¤\n",
      "165  \t\t ¥\n",
      "166  \t\t ¦\n",
      "167  \t\t §\n",
      "168  \t\t ¨\n",
      "169  \t\t ©\n",
      "170  \t\t ª\n",
      "171  \t\t «\n",
      "172  \t\t ¬\n",
      "173  \t\t ­\n",
      "174  \t\t ®\n",
      "175  \t\t ¯\n",
      "176  \t\t °\n",
      "177  \t\t ±\n",
      "178  \t\t ²\n",
      "179  \t\t ³\n",
      "180  \t\t ´\n",
      "181  \t\t µ\n",
      "182  \t\t ¶\n",
      "183  \t\t ·\n",
      "184  \t\t ¸\n",
      "185  \t\t ¹\n",
      "186  \t\t º\n",
      "187  \t\t »\n",
      "188  \t\t ¼\n",
      "189  \t\t ½\n",
      "190  \t\t ¾\n",
      "191  \t\t ¿\n",
      "192  \t\t À\n",
      "193  \t\t Á\n",
      "194  \t\t Â\n",
      "195  \t\t Ã\n",
      "196  \t\t Ä\n",
      "197  \t\t Å\n",
      "198  \t\t Æ\n",
      "199  \t\t Ç\n",
      "200  \t\t È\n",
      "201  \t\t É\n",
      "202  \t\t Ê\n",
      "203  \t\t Ë\n",
      "204  \t\t Ì\n",
      "205  \t\t Í\n",
      "206  \t\t Î\n",
      "207  \t\t Ï\n",
      "208  \t\t Ð\n",
      "209  \t\t Ñ\n",
      "210  \t\t Ò\n",
      "211  \t\t Ó\n",
      "212  \t\t Ô\n",
      "213  \t\t Õ\n",
      "214  \t\t Ö\n",
      "215  \t\t ×\n",
      "216  \t\t Ø\n",
      "217  \t\t Ù\n",
      "218  \t\t Ú\n",
      "219  \t\t Û\n",
      "220  \t\t Ü\n",
      "221  \t\t Ý\n",
      "222  \t\t Þ\n",
      "223  \t\t ß\n",
      "224  \t\t à\n",
      "225  \t\t á\n",
      "226  \t\t â\n",
      "227  \t\t ã\n",
      "228  \t\t ä\n",
      "229  \t\t å\n",
      "230  \t\t æ\n",
      "231  \t\t ç\n",
      "232  \t\t è\n",
      "233  \t\t é\n",
      "234  \t\t ê\n",
      "235  \t\t ë\n",
      "236  \t\t ì\n",
      "237  \t\t í\n",
      "238  \t\t î\n",
      "239  \t\t ï\n",
      "240  \t\t ð\n",
      "241  \t\t ñ\n",
      "242  \t\t ò\n",
      "243  \t\t ó\n",
      "244  \t\t ô\n",
      "245  \t\t õ\n",
      "246  \t\t ö\n",
      "247  \t\t ÷\n",
      "248  \t\t ø\n",
      "249  \t\t ù\n",
      "250  \t\t ú\n",
      "251  \t\t û\n",
      "252  \t\t ü\n",
      "253  \t\t ý\n",
      "254  \t\t þ\n",
      "255  \t\t ÿ\n"
     ]
    }
   ],
   "source": [
    "# Print all the characters of Character Set\n",
    "print(\"ASCII CODE\\tVALUE\")\n",
    "for i in range(256):\n",
    "    print(i, \" \\t\\t\", chr(i))"
   ]
  },
  {
   "cell_type": "code",
   "execution_count": 13,
   "metadata": {},
   "outputs": [],
   "source": [
    "# Keywords\n",
    "    # Reserved word of language. (Predefined words which have unique and universal meaning in specific language)"
   ]
  },
  {
   "cell_type": "code",
   "execution_count": 14,
   "metadata": {},
   "outputs": [],
   "source": [
    "import keyword"
   ]
  },
  {
   "cell_type": "code",
   "execution_count": 17,
   "metadata": {},
   "outputs": [
    {
     "name": "stdout",
     "output_type": "stream",
     "text": [
      "['False', 'None', 'True', 'and', 'as', 'assert', 'async', 'await', 'break', 'class', 'continue', 'def', 'del', 'elif', 'else', 'except', 'finally', 'for', 'from', 'global', 'if', 'import', 'in', 'is', 'lambda', 'nonlocal', 'not', 'or', 'pass', 'raise', 'return', 'try', 'while', 'with', 'yield']\n",
      "35\n"
     ]
    }
   ],
   "source": [
    "#help(keyword)\n",
    "print(keyword.kwlist)\n",
    "k_words = keyword.kwlist\n",
    "print(len(k_words))"
   ]
  },
  {
   "cell_type": "code",
   "execution_count": 1,
   "metadata": {},
   "outputs": [],
   "source": [
    "# Identifier - User Defined Key Words\n",
    "    # Name of variable (placeholder), function, class, object, constraints and others\n",
    "\n",
    "# Naming Convensions\n",
    "    # Must start with alphabet (a-z A-Z) but can accept _ too\n",
    "    # Can have digit and _ (underscore) (a-zA-Z0-9_)\n",
    "    # Identifiers are Case Sensitive\n",
    "    # Can't be keyword\n",
    "    # Can't repeate\n",
    "    # Must be meaningfull\n",
    "\n",
    "# Note\n",
    "    # ClassName - PascalCase\n",
    "    # varaible_name, function_name, object_name - snake_case"
   ]
  },
  {
   "cell_type": "code",
   "execution_count": 37,
   "metadata": {},
   "outputs": [],
   "source": [
    "abc = 21\n",
    "ABC = 32\n",
    "_var = 12\n",
    "\n",
    "# and = 89 # SyntaxError: invalid syntax\n",
    "# 1var = 32  # SyntaxError: invalid syntax"
   ]
  },
  {
   "cell_type": "code",
   "execution_count": 35,
   "metadata": {},
   "outputs": [
    {
     "name": "stdout",
     "output_type": "stream",
     "text": [
      "12\n",
      "21\n",
      "32\n"
     ]
    }
   ],
   "source": [
    "print(_var)\n",
    "print(abc)\n",
    "print(ABC)"
   ]
  },
  {
   "cell_type": "markdown",
   "metadata": {},
   "source": [
    "#### Varaibles\n",
    "- Named memory location, where we can store, retrieve, update value at programs runtime."
   ]
  },
  {
   "cell_type": "code",
   "execution_count": 2,
   "metadata": {},
   "outputs": [],
   "source": [
    "# Declare variable\n",
    "    # variable_name = value - direct value\n",
    "    # variable_name = input() - value from keyboard\n",
    "    # varaible_name - identifier naming convension"
   ]
  },
  {
   "cell_type": "code",
   "execution_count": 5,
   "metadata": {},
   "outputs": [
    {
     "name": "stdout",
     "output_type": "stream",
     "text": [
      "20\n",
      "30\n",
      "32\n"
     ]
    }
   ],
   "source": [
    "# Example-1\n",
    "var1 = 20\n",
    "var2 = 30\n",
    "var3 = 32\n",
    "print(var1)\n",
    "print(var2)\n",
    "print(var3)"
   ]
  },
  {
   "cell_type": "code",
   "execution_count": 4,
   "metadata": {},
   "outputs": [
    {
     "name": "stdout",
     "output_type": "stream",
     "text": [
      "24\n"
     ]
    }
   ],
   "source": [
    "# Example-2\n",
    "num1 = 21\n",
    "num2 = 3\n",
    "result = num1+num2\n",
    "print(result)"
   ]
  },
  {
   "cell_type": "code",
   "execution_count": 6,
   "metadata": {},
   "outputs": [
    {
     "name": "stdout",
     "output_type": "stream",
     "text": [
      "2\n",
      "3\n"
     ]
    }
   ],
   "source": [
    "# Default Value\n",
    "num1 = None # declare\n",
    "num2 = 2 # declare and initialize\n",
    "print(num2) # Value access # 2\n",
    "num2 = 3 # Value update\n",
    "print(num2) # 3"
   ]
  },
  {
   "cell_type": "code",
   "execution_count": 10,
   "metadata": {},
   "outputs": [
    {
     "name": "stdout",
     "output_type": "stream",
     "text": [
      "None\n",
      "True\n",
      "False\n",
      "1\n",
      "123.456\n",
      "(123456+789j)\n",
      "heat\n"
     ]
    }
   ],
   "source": [
    "# Varaible and Value\n",
    "var1 = None\n",
    "print(var1)\n",
    "var1 = True\n",
    "print(var1)\n",
    "var1 = False\n",
    "print(var1)\n",
    "var1 = 1\n",
    "print(var1)\n",
    "var1 = 123.456\n",
    "print(var1)\n",
    "var1 = 123456+789J\n",
    "print(var1)\n",
    "var1 =\"heat\" # String - Type\n",
    "print(var1)"
   ]
  },
  {
   "cell_type": "code",
   "execution_count": null,
   "metadata": {},
   "outputs": [],
   "source": []
  }
 ],
 "metadata": {
  "kernelspec": {
   "display_name": "Python 3",
   "language": "python",
   "name": "python3"
  },
  "language_info": {
   "codemirror_mode": {
    "name": "ipython",
    "version": 3
   },
   "file_extension": ".py",
   "mimetype": "text/x-python",
   "name": "python",
   "nbconvert_exporter": "python",
   "pygments_lexer": "ipython3",
   "version": "3.8.5"
  }
 },
 "nbformat": 4,
 "nbformat_minor": 4
}
