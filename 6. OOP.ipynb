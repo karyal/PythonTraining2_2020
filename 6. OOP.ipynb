{
 "cells": [
  {
   "cell_type": "code",
   "execution_count": 1,
   "metadata": {},
   "outputs": [],
   "source": [
    "# Structured Programming\n",
    "    # Varaibles, and Functions in one file (program).\n",
    "    # Function used to process variale.\n",
    "    # Varaible, and Function are not bind to each other (Open to use).\n",
    "    # Line by Line Execution | if statement, looping statement, break, continue"
   ]
  },
  {
   "cell_type": "code",
   "execution_count": 2,
   "metadata": {},
   "outputs": [],
   "source": [
    "# Object Oriented Programming - OOP\n",
    "    # Variable and Functions are bind into a single unit i.e. class\n",
    "    # Related variables and functions to process these variables."
   ]
  },
  {
   "cell_type": "code",
   "execution_count": null,
   "metadata": {},
   "outputs": [],
   "source": [
    "# Creating a Class\n",
    "\"\"\"\n",
    "class ClassName():\n",
    "    Statement(s)\n",
    "\"\"\"\n",
    "# Varaibles\n",
    "# Related functions (methods)"
   ]
  },
  {
   "cell_type": "code",
   "execution_count": 15,
   "metadata": {},
   "outputs": [],
   "source": [
    "# Example-1\n",
    "class Class1():\n",
    "    pass"
   ]
  },
  {
   "cell_type": "code",
   "execution_count": 5,
   "metadata": {},
   "outputs": [
    {
     "data": {
      "text/plain": [
       "'\\n    varaible_name = ClassName()\\n'"
      ]
     },
     "execution_count": 5,
     "metadata": {},
     "output_type": "execute_result"
    }
   ],
   "source": [
    "# Create Object of Class\n",
    "\"\"\"\n",
    "    varaible_name = ClassName()\n",
    "\"\"\""
   ]
  },
  {
   "cell_type": "code",
   "execution_count": 13,
   "metadata": {},
   "outputs": [
    {
     "name": "stdout",
     "output_type": "stream",
     "text": [
      "<__main__.Class1 object at 0x0000023C4EFE17C0>\n",
      "<__main__.Class1 object at 0x0000023C4EFE17C0>\n",
      "2458046568384\n",
      "2458046568384\n",
      "<class '__main__.Class1'>\n",
      "<class '__main__.Class1'>\n",
      "True\n",
      "True\n",
      "Help on Class1 in module __main__ object:\n",
      "\n",
      "class Class1(builtins.object)\n",
      " |  Data descriptors defined here:\n",
      " |  \n",
      " |  __dict__\n",
      " |      dictionary for instance variables (if defined)\n",
      " |  \n",
      " |  __weakref__\n",
      " |      list of weak references to the object (if defined)\n",
      "\n",
      "None\n"
     ]
    }
   ],
   "source": [
    "var1 = Class1() # Object of Class\n",
    "var2 = var1\n",
    "\n",
    "print(var1) # print value of an object\n",
    "print(var2)\n",
    "\n",
    "print(id(var1)) # print address of an object\n",
    "print(id(var2))\n",
    "\n",
    "print(type(var1)) # print type of an object\n",
    "print(type(var2))\n",
    "\n",
    "print(isinstance(var1, Class1)) # checking the instance of class or not\n",
    "print(isinstance(var2, Class1))\n",
    "\n",
    "print(help(var1)) # print help (about class)"
   ]
  },
  {
   "cell_type": "code",
   "execution_count": 22,
   "metadata": {},
   "outputs": [],
   "source": [
    "# Example-2\n",
    "class Class2():\n",
    "    # varaible\n",
    "    var1 = 5 # Default Value"
   ]
  },
  {
   "cell_type": "code",
   "execution_count": 28,
   "metadata": {},
   "outputs": [
    {
     "name": "stdout",
     "output_type": "stream",
     "text": [
      "5\n",
      "5\n",
      "7\n",
      "9\n"
     ]
    }
   ],
   "source": [
    "obj1 = Class2()\n",
    "obj2 = Class2()\n",
    "\n",
    "print(obj1.var1) # Value access of variable (Default Value)\n",
    "print(obj2.var1)\n",
    "\n",
    "obj1.var1 = 7 # Value update of variable (Own Value)\n",
    "obj2.var1 = 9\n",
    "\n",
    "print(obj1.var1) # Value access of variable\n",
    "print(obj2.var1)"
   ]
  },
  {
   "cell_type": "code",
   "execution_count": 1,
   "metadata": {},
   "outputs": [],
   "source": [
    "# Task-1 # Example-3\n",
    "class Class3():\n",
    "    var1 = 0\n",
    "    var2 = 0 \n",
    "    var3 = 0"
   ]
  },
  {
   "cell_type": "code",
   "execution_count": 2,
   "metadata": {},
   "outputs": [],
   "source": [
    "# Declare an object of Class3.\n",
    "obj1 = Class3()"
   ]
  },
  {
   "cell_type": "code",
   "execution_count": 3,
   "metadata": {},
   "outputs": [],
   "source": [
    "# Assign different integer numbers on var1 and var2 of obj1\n",
    "obj1.var1 = 43\n",
    "obj1.var2 = 32"
   ]
  },
  {
   "cell_type": "code",
   "execution_count": 4,
   "metadata": {},
   "outputs": [],
   "source": [
    "# Update different integer numbers on var1 and var2 of obj1\n",
    "obj1.var1 = 7\n",
    "obj1.var2 = 4"
   ]
  },
  {
   "cell_type": "code",
   "execution_count": 5,
   "metadata": {},
   "outputs": [
    {
     "name": "stdout",
     "output_type": "stream",
     "text": [
      "7 4\n"
     ]
    }
   ],
   "source": [
    "# Print value of var1 and var2 of obj1\n",
    "print(obj1.var1, obj1.var2)"
   ]
  },
  {
   "cell_type": "code",
   "execution_count": 6,
   "metadata": {},
   "outputs": [
    {
     "name": "stdout",
     "output_type": "stream",
     "text": [
      "11\n"
     ]
    }
   ],
   "source": [
    "# Add value of var1 and var2 and than assign on var3\n",
    "obj1.var3 = obj1.var1 + obj1.var2\n",
    "print(obj1.var3)"
   ]
  },
  {
   "cell_type": "code",
   "execution_count": 7,
   "metadata": {},
   "outputs": [
    {
     "name": "stdout",
     "output_type": "stream",
     "text": [
      "Enter first no : 21\n",
      "Enter first no : 23\n",
      "Result :  44\n"
     ]
    }
   ],
   "source": [
    "# Read values from user dynamically\n",
    "obj1.var1 = int(input(\"Enter first no : \"))\n",
    "obj1.var2 = int(input(\"Enter first no : \"))\n",
    "obj1.var3 = obj1.var1+obj1.var2\n",
    "print(\"Result : \", obj1.var3)"
   ]
  },
  {
   "cell_type": "code",
   "execution_count": 12,
   "metadata": {},
   "outputs": [],
   "source": [
    "# Task-2 # Example-4\n",
    "\n",
    "class Class4():\n",
    "    def __str__(self):\n",
    "        self.var1 = 0\n",
    "        self.var2 = 0\n",
    "        self.var3 = 0\n",
    "    \n",
    "    # Getters function\n",
    "    def getVar1(self):\n",
    "        return self.var1\n",
    "    \n",
    "    def getVar2(self):\n",
    "        return self.var2\n",
    "    \n",
    "    def getVar3(self):\n",
    "        return self.var3\n",
    "    \n",
    "    # Setters function\n",
    "    def setVar1(self, var1):\n",
    "        self.var1 = var1\n",
    "    \n",
    "    def setVar2(self, var2):\n",
    "        self.var2 = var2\n",
    "    \n",
    "    def setVar3(self, var3):\n",
    "        self.var3 = var3\n",
    "    \n",
    "    #Process Function\n",
    "    def doAdd(self):\n",
    "        self.var3 = self.var1+self.var2        "
   ]
  },
  {
   "cell_type": "code",
   "execution_count": 19,
   "metadata": {},
   "outputs": [
    {
     "name": "stdout",
     "output_type": "stream",
     "text": [
      "30\n",
      "78\n",
      "108\n"
     ]
    }
   ],
   "source": [
    "# obj1 = Class4()\n",
    "obj1.setVar1(30)\n",
    "obj1.setVar2(78)\n",
    "obj1.doAdd()\n",
    "\n",
    "print(obj1.getVar1())\n",
    "print(obj1.getVar2())\n",
    "print(obj1.getVar3())"
   ]
  },
  {
   "cell_type": "code",
   "execution_count": null,
   "metadata": {},
   "outputs": [],
   "source": []
  }
 ],
 "metadata": {
  "kernelspec": {
   "display_name": "Python 3",
   "language": "python",
   "name": "python3"
  },
  "language_info": {
   "codemirror_mode": {
    "name": "ipython",
    "version": 3
   },
   "file_extension": ".py",
   "mimetype": "text/x-python",
   "name": "python",
   "nbconvert_exporter": "python",
   "pygments_lexer": "ipython3",
   "version": "3.8.5"
  }
 },
 "nbformat": 4,
 "nbformat_minor": 4
}
