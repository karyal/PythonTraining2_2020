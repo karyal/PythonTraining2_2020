{
 "cells": [
  {
   "cell_type": "code",
   "execution_count": 3,
   "metadata": {},
   "outputs": [
    {
     "name": "stdout",
     "output_type": "stream",
     "text": [
      "Hello!\n",
      "Hello!\n",
      "Hello!\n",
      "Hello!\n"
     ]
    }
   ],
   "source": [
    "# Click Event on Button\n",
    "from tkinter import *\n",
    "\n",
    "def f1():\n",
    "    print(\"Hello!\")\n",
    "\n",
    "frame = Tk()\n",
    "frame.geometry(\"400x250\")\n",
    "frame.title(\"Click Event\")\n",
    "frame.resizable(False, False)\n",
    "\n",
    "btn_ok = Button(frame, text=\"Click Me\", command = f1)\n",
    "btn_ok.place(x=10, y=20)\n",
    "\n",
    "frame.mainloop()"
   ]
  },
  {
   "cell_type": "code",
   "execution_count": null,
   "metadata": {},
   "outputs": [],
   "source": [
    "# Window\n",
    "# Label\n",
    "# Entry\n",
    "# Button"
   ]
  },
  {
   "cell_type": "code",
   "execution_count": 6,
   "metadata": {},
   "outputs": [],
   "source": [
    "# Radio Button - Select Single Option from Multiple Options\n",
    "from tkinter import *\n",
    "\n",
    "frame = Tk()\n",
    "frame.geometry(\"400x250\")\n",
    "frame.title(\"Click Event\")\n",
    "frame.resizable(False, False)\n",
    "\n",
    "rb1 = Radiobutton(frame, text=\"Male\")\n",
    "rb1.place(x=10, y=0)\n",
    "rb2 = Radiobutton(frame, text=\"Famale\")\n",
    "rb2.place(x=10, y=30)\n",
    "\n",
    "frame.mainloop()"
   ]
  },
  {
   "cell_type": "code",
   "execution_count": 5,
   "metadata": {},
   "outputs": [],
   "source": [
    "# Check Box - Select Multiple Options from Multiple Options\n",
    "from tkinter import *\n",
    "\n",
    "frame = Tk()\n",
    "frame.geometry(\"400x250\")\n",
    "frame.title(\"Click Event\")\n",
    "frame.resizable(False, False)\n",
    "\n",
    "chk1 = Checkbutton(frame, text=\"Reading\")\n",
    "chk1.place(x=10, y=0)\n",
    "chk2 = Checkbutton(frame, text=\"Playing\")\n",
    "chk2.place(x=10, y=30)\n",
    "\n",
    "frame.mainloop()"
   ]
  },
  {
   "cell_type": "code",
   "execution_count": 9,
   "metadata": {},
   "outputs": [],
   "source": [
    "# List Box/Combo Box?\n",
    "from tkinter import *\n",
    "\n",
    "frame = Tk()\n",
    "frame.geometry(\"400x250\")\n",
    "frame.title(\"Click Event\")\n",
    "frame.resizable(False, False)\n",
    "\n",
    "lst_ages = Listbox(frame)\n",
    "lst_ages.insert(0,\"1-10\")\n",
    "lst_ages.insert(1,\"11-20\")\n",
    "lst_ages.insert(2,\"21-30\")\n",
    "lst_ages.insert(3,\"31-40\")\n",
    "lst_ages.insert(4,\"41-50\")\n",
    "lst_ages.place(x=0, y=0)\n",
    "\n",
    "frame.mainloop()\n"
   ]
  },
  {
   "cell_type": "code",
   "execution_count": 1,
   "metadata": {},
   "outputs": [],
   "source": [
    "# MessageBox\n",
    "from tkinter import *\n",
    "from tkinter import messagebox  \n",
    "frame = Tk()\n",
    "frame.geometry(\"400x250\")\n",
    "\n",
    "messagebox.showinfo(\"Hi\",\"Show Info\")\n",
    "\n",
    "# messagebox.showwarning(\"Hi\",\"Show Warning\")\n",
    "# messagebox.askquestion(\"Hi\",\"Ask Question\")\n",
    "# messagebox.askokcancel(\"Hi\",\"OK CANCEL\")\n",
    "# messagebox.askyesno(\"Hi\",\"YES NO\")\n",
    "# messagebox.askretrycancel(\"Hi\",\"Retry Cancel\")\n",
    "frame.mainloop()"
   ]
  },
  {
   "cell_type": "code",
   "execution_count": 15,
   "metadata": {},
   "outputs": [],
   "source": [
    "# pack()\n",
    "from tkinter import *  \n",
    "frame = Tk()  \n",
    "\n",
    "redbutton = Button(frame, text = \"Red\", fg = \"red\")  \n",
    "redbutton.pack( side = LEFT)  \n",
    "\n",
    "blackbutton = Button(frame, text = \"Black\", fg = \"black\")  \n",
    "blackbutton.pack( side = RIGHT )  \n",
    "\n",
    "bluebutton = Button(frame, text = \"Blue\", fg = \"blue\")  \n",
    "bluebutton.pack( side = TOP ) \n",
    "\n",
    "greenbutton = Button(frame, text = \"Green\", fg = \"green\")  \n",
    "greenbutton.pack( side = BOTTOM)  \n",
    "\n",
    "frame.mainloop()"
   ]
  },
  {
   "cell_type": "code",
   "execution_count": 17,
   "metadata": {},
   "outputs": [],
   "source": [
    "# grid()\n",
    "from tkinter import *  \n",
    "\n",
    "parent = Tk()  \n",
    "\n",
    "name = Label(parent, text = \"Name\").grid(row = 0, column = 0)  \n",
    "e1 = Entry(parent).grid(row = 0, column = 1)  \n",
    "\n",
    "password = Label(parent,text = \"Password\").grid(row = 1, column = 0)  \n",
    "e2 = Entry(parent).grid(row = 1, column = 1)  \n",
    "\n",
    "submit = Button(parent, text = \"Submit\").grid(row = 2, column = 1)  \n",
    "\n",
    "parent.mainloop() "
   ]
  },
  {
   "cell_type": "code",
   "execution_count": null,
   "metadata": {},
   "outputs": [],
   "source": [
    "# place()\n",
    "from tkinter import *  \n",
    "top = Tk()  \n",
    "top.geometry(\"400x250\")  \n",
    "name = Label(top, text = \"Name\").place(x = 30,y = 50)  \n",
    "email = Label(top, text = \"Email\").place(x = 30, y = 90)  \n",
    "password = Label(top, text = \"Password\").place(x = 30, y = 130)  \n",
    "e1 = Entry(top).place(x = 80, y = 50)  \n",
    "e2 = Entry(top).place(x = 80, y = 90)  \n",
    "e3 = Entry(top).place(x = 95, y = 130)  \n",
    "top.mainloop()  "
   ]
  },
  {
   "cell_type": "code",
   "execution_count": null,
   "metadata": {},
   "outputs": [],
   "source": []
  }
 ],
 "metadata": {
  "kernelspec": {
   "display_name": "Python 3",
   "language": "python",
   "name": "python3"
  },
  "language_info": {
   "codemirror_mode": {
    "name": "ipython",
    "version": 3
   },
   "file_extension": ".py",
   "mimetype": "text/x-python",
   "name": "python",
   "nbconvert_exporter": "python",
   "pygments_lexer": "ipython3",
   "version": "3.8.5"
  }
 },
 "nbformat": 4,
 "nbformat_minor": 4
}
