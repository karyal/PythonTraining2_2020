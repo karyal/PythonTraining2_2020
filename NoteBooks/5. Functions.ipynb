{
 "cells": [
  {
   "cell_type": "markdown",
   "metadata": {},
   "source": [
    "### Functions"
   ]
  },
  {
   "cell_type": "code",
   "execution_count": 62,
   "metadata": {},
   "outputs": [],
   "source": [
    "# Function Definition\n",
    "def f1():\n",
    "    print(\"Hello\")# Statement\n",
    "    print(\"Hi\") # Statement\n",
    "    print(\"Function\") # Statement\n",
    "\n",
    "def f2(str1): # Copy argument's value on parameter (i.e.str2-> str1)\n",
    "    print(str1)\n",
    "\n",
    "# Accept Multiple Values as Parameter\n",
    "def f3(var1, var2):\n",
    "    print(var1, var2)\n",
    "\n",
    "# Returning value from Function\n",
    "def f4():\n",
    "    return (\"Hi\")\n",
    "\n",
    "def f5(var1):\n",
    "    return(\"Hello : \"+str(var1))"
   ]
  },
  {
   "cell_type": "code",
   "execution_count": 63,
   "metadata": {},
   "outputs": [
    {
     "name": "stdout",
     "output_type": "stream",
     "text": [
      "Hello\n",
      "Hi\n",
      "Function\n",
      "Kathmandu, Nepal\n",
      "Balaju, Kathmandu\n",
      "23\n",
      "Kalanki, Kathmandu\n",
      "Value1 20\n",
      "Value2 78\n",
      "Hi\n",
      "Hello : Kathmandu\n",
      "Hello : Bhaktapur\n"
     ]
    }
   ],
   "source": [
    "# Function Call\n",
    "f1()\n",
    "str2 = \"Kathmandu, Nepal\"\n",
    "str3 = \"Balaju, Kathmandu\"\n",
    "str4 = 23\n",
    "\n",
    "f2(str2) # Call function with value pass - str2 : Argument\n",
    "f2(str3) \n",
    "f2(str4)\n",
    "f2('Kalanki, Kathmandu')\n",
    "\n",
    "f3('Value1', 20)\n",
    "f3('Value2', 78)\n",
    "\n",
    "var1 = f4()\n",
    "print(var1)\n",
    "\n",
    "var1 = f5(\"Kathmandu\")\n",
    "print(var1)\n",
    "\n",
    "var1 = f5(\"Bhaktapur\")\n",
    "print(var1)\n"
   ]
  },
  {
   "cell_type": "code",
   "execution_count": 60,
   "metadata": {},
   "outputs": [],
   "source": [
    "# Task -1 Create function    \n",
    "    # Add two numbers and print sum.\n",
    "    # Accept two numbers as parameter and print sum of them.\n",
    "    # Accept two numbers as parameter and return sum of them.\n",
    "\n",
    "# Task-2\n",
    "    # Create as more as possible functions to solve student info processing system."
   ]
  },
  {
   "cell_type": "code",
   "execution_count": 58,
   "metadata": {},
   "outputs": [],
   "source": [
    "# Static Function\n",
    "def f1():\n",
    "    var1 = 90\n",
    "    var2 = 87\n",
    "    print(var1+var2)\n",
    "\n",
    "def f2(num1, num2):\n",
    "    print(num1+num2)\n",
    "\n",
    "def f3(num1, num2):\n",
    "    return (num1+num2)"
   ]
  },
  {
   "cell_type": "code",
   "execution_count": 59,
   "metadata": {},
   "outputs": [
    {
     "name": "stdout",
     "output_type": "stream",
     "text": [
      "177\n",
      "52\n",
      "16\n",
      "13\n",
      "94\n",
      "132\n"
     ]
    }
   ],
   "source": [
    "f1()\n",
    "\n",
    "f2(20, 32)\n",
    "n1 = 9\n",
    "n2 = 7\n",
    "f2(n1, n2)\n",
    "f2(n1, 4)\n",
    "f2(87, n2)\n",
    "\n",
    "result = f3(78, 54)\n",
    "print(result)"
   ]
  },
  {
   "cell_type": "code",
   "execution_count": null,
   "metadata": {},
   "outputs": [],
   "source": [
    "# Task -1 Create function\n",
    "    # Add two numbers and print sum.\n",
    "    # Accept two numbers as parameter and print sum of them.\n",
    "    # Accept two numbers as parameter and return sum of them."
   ]
  },
  {
   "cell_type": "code",
   "execution_count": 3,
   "metadata": {},
   "outputs": [],
   "source": [
    "# Add two numbers and print sum.\n",
    "def add_numbers1():\n",
    "    n1= 90\n",
    "    n2 = 32\n",
    "    n3 = n1+n2\n",
    "    print(\"Sum : \", n3)"
   ]
  },
  {
   "cell_type": "code",
   "execution_count": 2,
   "metadata": {},
   "outputs": [
    {
     "name": "stdout",
     "output_type": "stream",
     "text": [
      "Sum :  122\n"
     ]
    }
   ],
   "source": [
    "add_numbers1()"
   ]
  },
  {
   "cell_type": "code",
   "execution_count": 5,
   "metadata": {},
   "outputs": [],
   "source": [
    "# Accept two numbers as parameter and print sum of them.\n",
    "def add_numbers2(n1, n2):\n",
    "    n3 = n1+n2\n",
    "    print(\"Sum : \", n3)"
   ]
  },
  {
   "cell_type": "code",
   "execution_count": 6,
   "metadata": {},
   "outputs": [
    {
     "name": "stdout",
     "output_type": "stream",
     "text": [
      "Sum :  13\n"
     ]
    }
   ],
   "source": [
    "add_numbers2(8, 5)"
   ]
  },
  {
   "cell_type": "code",
   "execution_count": 7,
   "metadata": {},
   "outputs": [],
   "source": [
    "# Accept two numbers as parameter and return sum of them.\n",
    "def add_numbers3(n1, n2):\n",
    "    n3 = n1+n2\n",
    "    return(n3)"
   ]
  },
  {
   "cell_type": "code",
   "execution_count": 8,
   "metadata": {},
   "outputs": [
    {
     "name": "stdout",
     "output_type": "stream",
     "text": [
      "Result :  13\n"
     ]
    }
   ],
   "source": [
    "result = add_numbers3(8, 5)\n",
    "print(\"Result : \", result)"
   ]
  },
  {
   "cell_type": "code",
   "execution_count": 28,
   "metadata": {},
   "outputs": [],
   "source": [
    "# Task-2\n",
    "# Create as more as possible functions to solve student info processing system.\n",
    "\n",
    "def read_value(message):\n",
    "    return input(message)\n",
    "\n",
    "def calculate_total(num1, num2):\n",
    "    return num1+num2\n",
    "\n",
    "def calculate_total2(nums):\n",
    "    total = 0\n",
    "    for num in nums:\n",
    "        total += num\n",
    "    return total\n",
    "\n",
    "def calculate_average(total, count):\n",
    "    return total/count\n",
    "\n",
    "def calculate_result(nums, PM):\n",
    "    result = \"PASS\"\n",
    "    for num in nums:\n",
    "        if num<PM:\n",
    "            result = \"FAIL\"\n",
    "            break\n",
    "    return result\n",
    "\n",
    "def print_value(label, value):\n",
    "    print(label, \" : \", value)"
   ]
  },
  {
   "cell_type": "code",
   "execution_count": 29,
   "metadata": {},
   "outputs": [
    {
     "name": "stdout",
     "output_type": "stream",
     "text": [
      "Enter Roll No : 1\n",
      "Enter Full name : Krishna\n",
      "Enter Class : Five\n",
      "Enter SUB-1 : 56\n",
      "Enter SUB-2 : 54\n",
      "Enter SUB-3 : 43\n",
      "Enter SUB-4 : 45\n",
      "Total  :  198.0\n",
      "Average  :  82.0\n",
      "Result  :  PASS\n"
     ]
    }
   ],
   "source": [
    "# Getting values from user\n",
    "roll_no = read_value(\"Enter Roll No : \")\n",
    "full_name = read_value(\"Enter Full name : \")\n",
    "standard = read_value(\"Enter Class : \")\n",
    "sub1 = float(read_value(\"Enter SUB-1 : \"))\n",
    "sub2 = float(read_value(\"Enter SUB-2 : \"))\n",
    "sub3 = float(read_value(\"Enter SUB-3 : \"))\n",
    "sub4 = float(read_value(\"Enter SUB-4 : \"))\n",
    "\n",
    "#Processing\n",
    "PM = 40\n",
    "SUB_COUNT = 4\n",
    "\n",
    "tmp1 = calculate_total(sub1, sub2)\n",
    "tmp2 = calculate_total(sub3, sub4)\n",
    "total1 = calculate_total(tmp1, tmp2)\n",
    "total2 = calculate_total2([sub1, sub2, sub3, sub4])\n",
    "average = calculate_average(total, SUB_COUNT)\n",
    "subs = [sub1, sub2, sub3, sub4]\n",
    "result = calculate_result(subs, PM)\n",
    "\n",
    "print_value(\"Total\", total2)\n",
    "print_value(\"Average\", average)\n",
    "print_value(\"Result\", result)"
   ]
  },
  {
   "cell_type": "code",
   "execution_count": null,
   "metadata": {},
   "outputs": [],
   "source": [
    "# Function\n",
    "    # Inroduction to Function\n",
    "    # Creating and Calling Function\n",
    "    # Types\n",
    "    # Categories\n",
    "    # Keyword Argument\n",
    "    # Default Argument\n",
    "    # Recrusive\n",
    "    # *args and **kwargs"
   ]
  },
  {
   "cell_type": "code",
   "execution_count": 13,
   "metadata": {},
   "outputs": [
    {
     "name": "stdout",
     "output_type": "stream",
     "text": [
      "Hello from f1()\n",
      "Hello wolrd of function\n",
      "Kathamndu\n",
      "1\n",
      "Enter any value : eee\n",
      "Enter your name eee\n",
      "50\n"
     ]
    }
   ],
   "source": [
    "# Inroduction to Function\n",
    "# Block of code (Statements) toperform certain task; Write once and use many.\n",
    "\n",
    "# Creating and Calling Function\n",
    "def f1():\n",
    "    print(\"Hello from f1()\")\n",
    "\n",
    "# Calling Function\n",
    "f1()\n",
    "\n",
    "# Types\n",
    "    # Two types of function\n",
    "    # System Defined Function (Library Function) - print()\n",
    "    # User Defined Function (3rd Party Function) - calculate_total()\n",
    "\n",
    "# Categories\n",
    "# 1. No Return Type; No Parameter\n",
    "def f1():\n",
    "    print(\"Hello wolrd of function\")\n",
    "\n",
    "f1()\n",
    "\n",
    "# 2. No Return Type; Parameterized (Accept value(s))\n",
    "def f2(message):\n",
    "    print(message)\n",
    "\n",
    "f2(\"Kathamndu\")\n",
    "f2(1)\n",
    "\n",
    "# 3. Return Type; No Parameterized (Dont Accept value(s))\n",
    "def f3():\n",
    "    return (input(\"Enter any value : \"))\n",
    "\n",
    "var1 = f3()\n",
    "\n",
    "# 4. Return Type; Parameterized (Accept value(s))\n",
    "\n",
    "def f4(message):\n",
    "    return (input(message))\n",
    "\n",
    "var2 = f4(\"Enter your name \")\n"
   ]
  },
  {
   "cell_type": "code",
   "execution_count": 18,
   "metadata": {},
   "outputs": [
    {
     "name": "stdout",
     "output_type": "stream",
     "text": [
      "50\n",
      "14\n",
      "12\n"
     ]
    }
   ],
   "source": [
    "# Keyword Argument\n",
    "def f5(n1, n2):\n",
    "    return n1+n2\n",
    "\n",
    "var3 = f5(20, 30)# n1=20, n2=30\n",
    "print(var3)\n",
    "\n",
    "var3 = f5(n1=6, n2=8)# n1=6, n2=8\n",
    "print(var3)\n",
    "\n",
    "var3 = f5(n2=3, n1=9)# n2=3, n1=9\n",
    "print(var3)"
   ]
  },
  {
   "cell_type": "code",
   "execution_count": 29,
   "metadata": {
    "scrolled": true
   },
   "outputs": [
    {
     "name": "stdout",
     "output_type": "stream",
     "text": [
      "40\n",
      "107\n",
      "785\n",
      "ID :  0\n",
      "NAME :  Rajesh Shrestha\n",
      "ADDRESS :  KTM\n",
      "ID :  1\n",
      "NAME :  Raj Rai\n",
      "ADDRESS :  NA\n",
      "ID :  2\n",
      "NAME :  NA\n",
      "ADDRESS :  BHK\n"
     ]
    }
   ],
   "source": [
    "# Default Argument\n",
    "def f6(n1=0, n2=0, n3=0):\n",
    "    return n1+n2+n3\n",
    "\n",
    "var4 = f6(40)\n",
    "print(var4)\n",
    "var4 = f6(40, 67)\n",
    "print(var4)\n",
    "var4 = f6(40, 67, 678)\n",
    "print(var4)\n",
    "\n",
    "#var4 = f6(40, 67, 67, 6667) # TypeError: f6() takes from 0 to 3 positional arguments but 4 were given\n",
    "#print(var4)\n",
    "\n",
    "def f7(pid=0, full_name=\"NA\", contact_address=\"NA\"):\n",
    "    print(\"ID : \", pid)\n",
    "    print(\"NAME : \", full_name)\n",
    "    print(\"ADDRESS : \", contact_address)\n",
    "    \n",
    "f7(full_name=\"Rajesh Shrestha\", contact_address=\"KTM\") \n",
    "f7(pid=1, full_name=\"Raj Rai\")\n",
    "f7(pid=2, contact_address='BHK')\n"
   ]
  },
  {
   "cell_type": "code",
   "execution_count": 3,
   "metadata": {},
   "outputs": [],
   "source": [
    "# Recrusive Functions - Function calling itself.\n",
    "def f8():\n",
    "    print(\"Hello\")\n",
    "    f8()\n",
    "\n",
    "# Print from N to 1\n",
    "def f9(num1):\n",
    "    if num1==0:\n",
    "        return\n",
    "    print(num1)\n",
    "    f9(num1-1)# Recrusion    \n",
    "\n",
    "# Print from 1 to N\n",
    "MAX = 10\n",
    "def f10(num1):        \n",
    "    if num1>MAX:\n",
    "        return\n",
    "    print(num1)\n",
    "    f10(num1+1)"
   ]
  },
  {
   "cell_type": "code",
   "execution_count": 7,
   "metadata": {},
   "outputs": [
    {
     "name": "stdout",
     "output_type": "stream",
     "text": [
      "1\n",
      "2\n",
      "3\n",
      "4\n",
      "5\n",
      "6\n",
      "7\n",
      "8\n",
      "9\n",
      "10\n"
     ]
    }
   ],
   "source": [
    "#f8()\n",
    "#f9(5)\n",
    "f10(1)"
   ]
  },
  {
   "cell_type": "code",
   "execution_count": 6,
   "metadata": {},
   "outputs": [],
   "source": [
    "# Task \n",
    "    # Print sum of 1 to N using resrusive function.\n",
    "    # Print factional of 1 to N using resrusive function."
   ]
  },
  {
   "cell_type": "code",
   "execution_count": null,
   "metadata": {},
   "outputs": [],
   "source": [
    "# *args and **kwargs"
   ]
  },
  {
   "cell_type": "code",
   "execution_count": 1,
   "metadata": {},
   "outputs": [],
   "source": [
    "# *args\n",
    "# We need to pass list/tuple\n",
    "def f11(*nums):\n",
    "    sum = 0\n",
    "    for n in nums:\n",
    "        sum+=n\n",
    "    print(sum)    "
   ]
  },
  {
   "cell_type": "code",
   "execution_count": 15,
   "metadata": {},
   "outputs": [
    {
     "name": "stdout",
     "output_type": "stream",
     "text": [
      "50\n",
      "137\n",
      "69\n"
     ]
    }
   ],
   "source": [
    "f11(30,20)\n",
    "f11(30,20,78,9)\n",
    "f11(30,6,7,8,3,4,5,6)"
   ]
  },
  {
   "cell_type": "code",
   "execution_count": 14,
   "metadata": {},
   "outputs": [
    {
     "name": "stdout",
     "output_type": "stream",
     "text": [
      "pid = 1\n",
      "name = Krishna\n",
      "\n",
      "pid = 2\n",
      "name = Raj\n",
      "address = KTM\n",
      "\n",
      "pid = 3\n",
      "name = Rajesh Rai\n",
      "address = Bhk\n"
     ]
    }
   ],
   "source": [
    "# **kwargs\n",
    "def f12(**data):\n",
    "    for key, value in data.items():\n",
    "        print(\"{} = {}\".format(key, value))\n",
    "\n",
    "f12(pid=1, name='Krishna') \n",
    "print()\n",
    "f12(pid=2, name='Raj', address='KTM')\n",
    "print()\n",
    "f12(pid=3, name='Rajesh Rai', address='Bhk')"
   ]
  }
 ],
 "metadata": {
  "kernelspec": {
   "display_name": "Python 3",
   "language": "python",
   "name": "python3"
  },
  "language_info": {
   "codemirror_mode": {
    "name": "ipython",
    "version": 3
   },
   "file_extension": ".py",
   "mimetype": "text/x-python",
   "name": "python",
   "nbconvert_exporter": "python",
   "pygments_lexer": "ipython3",
   "version": "3.8.5"
  }
 },
 "nbformat": 4,
 "nbformat_minor": 4
}
