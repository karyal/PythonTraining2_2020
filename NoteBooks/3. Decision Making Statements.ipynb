{
 "cells": [
  {
   "cell_type": "code",
   "execution_count": 1,
   "metadata": {},
   "outputs": [],
   "source": [
    "# if Statement\n",
    "    \n",
    "    # if\n",
    "    \n",
    "    # if .... else\n",
    "    \n",
    "    # if .... elif..... else\n",
    "    \n",
    "    # if \n",
    "        # if\n",
    "    \n",
    "    # if condition1 condition2"
   ]
  },
  {
   "cell_type": "code",
   "execution_count": 3,
   "metadata": {},
   "outputs": [
    {
     "name": "stdout",
     "output_type": "stream",
     "text": [
      "Zero\n"
     ]
    }
   ],
   "source": [
    "# if statement\n",
    "var1 = 0\n",
    "if var1 ==0:\n",
    "    print(\"Zero\")"
   ]
  },
  {
   "cell_type": "code",
   "execution_count": 5,
   "metadata": {},
   "outputs": [
    {
     "name": "stdout",
     "output_type": "stream",
     "text": [
      "Other\n"
     ]
    }
   ],
   "source": [
    "# if else statement\n",
    "var1 = 10\n",
    "if var1 ==0:\n",
    "    print(\"Zero\")\n",
    "else:\n",
    "    print(\"Other\")"
   ]
  },
  {
   "cell_type": "code",
   "execution_count": 7,
   "metadata": {},
   "outputs": [
    {
     "name": "stdout",
     "output_type": "stream",
     "text": [
      "Two\n"
     ]
    }
   ],
   "source": [
    "# if .... elif.....else statement\n",
    "var1 = 2\n",
    "if var1 ==0:\n",
    "    print(\"Zero\")\n",
    "elif var1 ==1:\n",
    "    print(\"One\")\n",
    "elif var1 ==2:\n",
    "    print(\"Two\")\n",
    "else:\n",
    "    print(\"Other\")"
   ]
  },
  {
   "cell_type": "code",
   "execution_count": 14,
   "metadata": {},
   "outputs": [
    {
     "name": "stdout",
     "output_type": "stream",
     "text": [
      "60\n"
     ]
    }
   ],
   "source": [
    "# nested if\n",
    "var1 = 4\n",
    "var2 = 50\n",
    "var3 = 60\n",
    "\n",
    "if var1>var2:\n",
    "    if var1>var3:\n",
    "        print(var1)\n",
    "\n",
    "if var2>var1:\n",
    "    if var2>var3:\n",
    "        print(var2)    \n",
    "\n",
    "if var3>var1:\n",
    "    if var3>var2:\n",
    "        print(var3)        "
   ]
  },
  {
   "cell_type": "code",
   "execution_count": 16,
   "metadata": {},
   "outputs": [
    {
     "name": "stdout",
     "output_type": "stream",
     "text": [
      "60\n"
     ]
    }
   ],
   "source": [
    "# if with multiple conditions\n",
    "var1 = 4\n",
    "var2 = 50\n",
    "var3 = 60\n",
    "if (var1>var2) and (var1>var3):\n",
    "    print(var1)\n",
    "elif (var2>var1) and (var2>var3):\n",
    "    print(var2)\n",
    "elif (var3>var1) and (var3>var2):\n",
    "    print(var3)"
   ]
  },
  {
   "cell_type": "code",
   "execution_count": null,
   "metadata": {},
   "outputs": [],
   "source": [
    "# Task - Assign Date - Dec 15, 2020 - Submission Date - Dec 16, 2020\n",
    "\"\"\"\n",
    "Read student info from user and process result.\n",
    "rollno, fullname, grade, sub1, sub2, sub3, sub4 - input\n",
    "total, average, result, grade - process\n",
    "Note:\n",
    "- PM = 40\n",
    "- 90>= : A+\n",
    "- 75>= : A\n",
    "- 60>= : B+\n",
    "- 50>= : B\n",
    "- 40>= : C+\n",
    "- Others\n",
    "\"\"\""
   ]
  }
 ],
 "metadata": {
  "kernelspec": {
   "display_name": "Python 3",
   "language": "python",
   "name": "python3"
  },
  "language_info": {
   "codemirror_mode": {
    "name": "ipython",
    "version": 3
   },
   "file_extension": ".py",
   "mimetype": "text/x-python",
   "name": "python",
   "nbconvert_exporter": "python",
   "pygments_lexer": "ipython3",
   "version": "3.8.5"
  }
 },
 "nbformat": 4,
 "nbformat_minor": 4
}
