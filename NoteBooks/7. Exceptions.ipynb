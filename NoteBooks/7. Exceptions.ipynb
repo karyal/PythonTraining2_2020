{
 "cells": [
  {
   "cell_type": "code",
   "execution_count": 6,
   "metadata": {},
   "outputs": [
    {
     "data": {
      "text/plain": [
       "'\\n1. NameError\\n2. SyntaxError\\n3. ZeroDivisionError\\n4. TypeError\\n\\nHello=\"Hi\"\\nprint(Hello) # NameError: name \\'Hello\\' is not defined\\n\\nwhile True print(\"Hi\") # SyntaxError: invalid syntax\\n\\nwhile True:\\n    print(\"Hi\")\\n\\nres = 10/0 # ZeroDivisionError: division by zero\\nprint(res)\\n\\nres = 1+\\'2\\' # TypeError: unsupported operand type(s) for +: \\'int\\' and \\'str\\'\\nprint(res)\\n\\nstr1 =\"123.258\"\\nnum1 = int(str1) # ValueError: invalid literal for int() with base 10: \\'123.258\\'\\nprint(num1)\\n'"
      ]
     },
     "execution_count": 6,
     "metadata": {},
     "output_type": "execute_result"
    }
   ],
   "source": [
    "# Exception Handles\n",
    "\"\"\"\n",
    "1. NameError\n",
    "2. SyntaxError\n",
    "3. ZeroDivisionError\n",
    "4. TypeError\n",
    "\n",
    "Hello=\"Hi\"\n",
    "print(Hello) # NameError: name 'Hello' is not defined\n",
    "\n",
    "while True print(\"Hi\") # SyntaxError: invalid syntax\n",
    "\n",
    "while True:\n",
    "    print(\"Hi\")\n",
    "\n",
    "res = 10/0 # ZeroDivisionError: division by zero\n",
    "print(res)\n",
    "\n",
    "res = 1+'2' # TypeError: unsupported operand type(s) for +: 'int' and 'str'\n",
    "print(res)\n",
    "\n",
    "str1 =\"123.258\"\n",
    "num1 = int(str1) # ValueError: invalid literal for int() with base 10: '123.258'\n",
    "print(num1)\n",
    "\n",
    "\"\"\"\n"
   ]
  },
  {
   "cell_type": "code",
   "execution_count": null,
   "metadata": {},
   "outputs": [],
   "source": [
    "# How to handle runtime errors in python\n",
    "import sys\n",
    "str1=None\n",
    "num1=None\n",
    "try:\n",
    "    str1 = input(\"Enter any number : \")\n",
    "    num1 = int(str1) # ValueError: invalid literal for int() with base 10: '123.258'\n",
    "    print(num1)\n",
    "except:\n",
    "    print(\"Error : \", sys.exc_info()[1])\n",
    "finally:\n",
    "    del str1\n",
    "    del num1"
   ]
  },
  {
   "cell_type": "code",
   "execution_count": null,
   "metadata": {},
   "outputs": [],
   "source": [
    "# Example-2\n",
    "import sys\n",
    "# Declare variable\n",
    "num1 = None\n",
    "num2 = None\n",
    "num3 = None\n",
    "try:\n",
    "    # input, process, output\n",
    "    tmp = input(\"Enter first no : \")\n",
    "    tmp2 = input(\"Enter second no : \")\n",
    "    num1 = float(tmp)\n",
    "    num2 = float(tmp2)\n",
    "    num3 = num1/num2\n",
    "    print(\"Resutl : \", num3)\n",
    "except:\n",
    "    # print error message\n",
    "    print(\"Error : \", sys.exc_info()[1])\n",
    "finally:\n",
    "    # free memory\n",
    "    del num1\n",
    "    del num2\n",
    "    del num3"
   ]
  },
  {
   "cell_type": "code",
   "execution_count": 26,
   "metadata": {},
   "outputs": [
    {
     "name": "stdout",
     "output_type": "stream",
     "text": [
      "Result 1 :  5\n",
      "Result 2 :  1.2\n"
     ]
    }
   ],
   "source": [
    "# How to handle multiple errors\n",
    "import sys\n",
    "# declare\n",
    "list1 = [1, 7, 2, 6, 5]\n",
    "num1 = 5\n",
    "try:\n",
    "    print(\"Result 1 : \", list1[4]) # Error :  list index out of range\n",
    "    print(\"Result 2 : \", list1[3]/num1) # Error :  division by zero\n",
    "except IndexError:\n",
    "    print(\"Error1 : \", sys.exc_info()[1])\n",
    "except ZeroDivisionError:\n",
    "    print(\"Error2 : \", sys.exc_info()[1])\n",
    "except:\n",
    "    print(\"Error3 : \", sys.exc_info()[1])\n",
    "finally:\n",
    "    del num1\n",
    "    del list1\n",
    "\n",
    "\n"
   ]
  },
  {
   "cell_type": "code",
   "execution_count": 27,
   "metadata": {},
   "outputs": [],
   "source": [
    "# User Defined Exceptions\n",
    "    # is not type of system defined exceptions\n",
    "    # range or input data type exceptions"
   ]
  },
  {
   "cell_type": "code",
   "execution_count": 31,
   "metadata": {},
   "outputs": [],
   "source": [
    "class MyException(Exception):\n",
    "    pass\n",
    "# Create User Defined Class MyError which is inherited from Exception Class(System Defined Class)\n",
    "\n",
    "class ValueToSamllException(MyException):\n",
    "    pass\n",
    "\n",
    "class ValueToLargeException(MyException):\n",
    "    pass\n"
   ]
  },
  {
   "cell_type": "code",
   "execution_count": 39,
   "metadata": {},
   "outputs": [
    {
     "name": "stdout",
     "output_type": "stream",
     "text": [
      "Num1 = 7\n"
     ]
    }
   ],
   "source": [
    "# Test program which test the user defined exceptions\n",
    "num1 = 7\n",
    "try:\n",
    "    if num1>10:\n",
    "        raise ValueToLargeException\n",
    "    elif num1<5:\n",
    "        raise ValueToSamllException\n",
    "    else:\n",
    "        print(\"Num1 =\", num1)\n",
    "except ValueToLargeException:\n",
    "    print(\"Error: Value to large in range.\")\n",
    "except ValueToSamllException:\n",
    "    print(\"Error: Value to small in range.\")\n",
    "finally:\n",
    "    del num1"
   ]
  },
  {
   "cell_type": "code",
   "execution_count": null,
   "metadata": {},
   "outputs": [],
   "source": []
  }
 ],
 "metadata": {
  "kernelspec": {
   "display_name": "Python 3",
   "language": "python",
   "name": "python3"
  },
  "language_info": {
   "codemirror_mode": {
    "name": "ipython",
    "version": 3
   },
   "file_extension": ".py",
   "mimetype": "text/x-python",
   "name": "python",
   "nbconvert_exporter": "python",
   "pygments_lexer": "ipython3",
   "version": "3.8.5"
  }
 },
 "nbformat": 4,
 "nbformat_minor": 4
}
