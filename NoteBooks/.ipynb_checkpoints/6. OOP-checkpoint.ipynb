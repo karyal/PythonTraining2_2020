{
 "cells": [
  {
   "cell_type": "code",
   "execution_count": 1,
   "metadata": {},
   "outputs": [],
   "source": [
    "# Structured Programming\n",
    "    # Varaibles, and Functions in one file (program).\n",
    "    # Function used to process variale.\n",
    "    # Varaible, and Function are not bind to each other (Open to use).\n",
    "    # Line by Line Execution | if statement, looping statement, break, continue"
   ]
  },
  {
   "cell_type": "code",
   "execution_count": 2,
   "metadata": {},
   "outputs": [],
   "source": [
    "# Object Oriented Programming - OOP\n",
    "    # Variable and Functions are bind into a single unit i.e. class\n",
    "    # Related variables and functions to process these variables."
   ]
  },
  {
   "cell_type": "code",
   "execution_count": null,
   "metadata": {},
   "outputs": [],
   "source": [
    "# Creating a Class\n",
    "\"\"\"\n",
    "class ClassName():\n",
    "    Statement(s)\n",
    "\"\"\"\n",
    "# Varaibles\n",
    "# Related functions (methods)"
   ]
  },
  {
   "cell_type": "code",
   "execution_count": 15,
   "metadata": {},
   "outputs": [],
   "source": [
    "# Example-1\n",
    "class Class1():\n",
    "    pass"
   ]
  },
  {
   "cell_type": "code",
   "execution_count": 5,
   "metadata": {},
   "outputs": [
    {
     "data": {
      "text/plain": [
       "'\\n    varaible_name = ClassName()\\n'"
      ]
     },
     "execution_count": 5,
     "metadata": {},
     "output_type": "execute_result"
    }
   ],
   "source": [
    "# Create Object of Class\n",
    "\"\"\"\n",
    "    varaible_name = ClassName()\n",
    "\"\"\""
   ]
  },
  {
   "cell_type": "code",
   "execution_count": 13,
   "metadata": {},
   "outputs": [
    {
     "name": "stdout",
     "output_type": "stream",
     "text": [
      "<__main__.Class1 object at 0x0000023C4EFE17C0>\n",
      "<__main__.Class1 object at 0x0000023C4EFE17C0>\n",
      "2458046568384\n",
      "2458046568384\n",
      "<class '__main__.Class1'>\n",
      "<class '__main__.Class1'>\n",
      "True\n",
      "True\n",
      "Help on Class1 in module __main__ object:\n",
      "\n",
      "class Class1(builtins.object)\n",
      " |  Data descriptors defined here:\n",
      " |  \n",
      " |  __dict__\n",
      " |      dictionary for instance variables (if defined)\n",
      " |  \n",
      " |  __weakref__\n",
      " |      list of weak references to the object (if defined)\n",
      "\n",
      "None\n"
     ]
    }
   ],
   "source": [
    "var1 = Class1() # Object of Class\n",
    "var2 = var1\n",
    "\n",
    "print(var1) # print value of an object\n",
    "print(var2)\n",
    "\n",
    "print(id(var1)) # print address of an object\n",
    "print(id(var2))\n",
    "\n",
    "print(type(var1)) # print type of an object\n",
    "print(type(var2))\n",
    "\n",
    "print(isinstance(var1, Class1)) # checking the instance of class or not\n",
    "print(isinstance(var2, Class1))\n",
    "\n",
    "print(help(var1)) # print help (about class)"
   ]
  },
  {
   "cell_type": "code",
   "execution_count": 22,
   "metadata": {},
   "outputs": [],
   "source": [
    "# Example-2\n",
    "class Class2():\n",
    "    # varaible\n",
    "    var1 = 5 # Default Value"
   ]
  },
  {
   "cell_type": "code",
   "execution_count": 28,
   "metadata": {},
   "outputs": [
    {
     "name": "stdout",
     "output_type": "stream",
     "text": [
      "5\n",
      "5\n",
      "7\n",
      "9\n"
     ]
    }
   ],
   "source": [
    "obj1 = Class2()\n",
    "obj2 = Class2()\n",
    "\n",
    "print(obj1.var1) # Value access of variable (Default Value)\n",
    "print(obj2.var1)\n",
    "\n",
    "obj1.var1 = 7 # Value update of variable (Own Value)\n",
    "obj2.var1 = 9\n",
    "\n",
    "print(obj1.var1) # Value access of variable\n",
    "print(obj2.var1)"
   ]
  },
  {
   "cell_type": "code",
   "execution_count": 1,
   "metadata": {},
   "outputs": [],
   "source": [
    "# Task-1 # Example-3\n",
    "class Class3():\n",
    "    var1 = 0\n",
    "    var2 = 0 \n",
    "    var3 = 0"
   ]
  },
  {
   "cell_type": "code",
   "execution_count": 2,
   "metadata": {},
   "outputs": [],
   "source": [
    "# Declare an object of Class3.\n",
    "obj1 = Class3()"
   ]
  },
  {
   "cell_type": "code",
   "execution_count": 3,
   "metadata": {},
   "outputs": [],
   "source": [
    "# Assign different integer numbers on var1 and var2 of obj1\n",
    "obj1.var1 = 43\n",
    "obj1.var2 = 32"
   ]
  },
  {
   "cell_type": "code",
   "execution_count": 4,
   "metadata": {},
   "outputs": [],
   "source": [
    "# Update different integer numbers on var1 and var2 of obj1\n",
    "obj1.var1 = 7\n",
    "obj1.var2 = 4"
   ]
  },
  {
   "cell_type": "code",
   "execution_count": 5,
   "metadata": {},
   "outputs": [
    {
     "name": "stdout",
     "output_type": "stream",
     "text": [
      "7 4\n"
     ]
    }
   ],
   "source": [
    "# Print value of var1 and var2 of obj1\n",
    "print(obj1.var1, obj1.var2)"
   ]
  },
  {
   "cell_type": "code",
   "execution_count": 6,
   "metadata": {},
   "outputs": [
    {
     "name": "stdout",
     "output_type": "stream",
     "text": [
      "11\n"
     ]
    }
   ],
   "source": [
    "# Add value of var1 and var2 and than assign on var3\n",
    "obj1.var3 = obj1.var1 + obj1.var2\n",
    "print(obj1.var3)"
   ]
  },
  {
   "cell_type": "code",
   "execution_count": 7,
   "metadata": {},
   "outputs": [
    {
     "name": "stdout",
     "output_type": "stream",
     "text": [
      "Enter first no : 21\n",
      "Enter first no : 23\n",
      "Result :  44\n"
     ]
    }
   ],
   "source": [
    "# Read values from user dynamically\n",
    "obj1.var1 = int(input(\"Enter first no : \"))\n",
    "obj1.var2 = int(input(\"Enter first no : \"))\n",
    "obj1.var3 = obj1.var1+obj1.var2\n",
    "print(\"Result : \", obj1.var3)"
   ]
  },
  {
   "cell_type": "code",
   "execution_count": 5,
   "metadata": {},
   "outputs": [],
   "source": [
    "# Task-2 # Example-4\n",
    "class Class4():    \n",
    "    def __init__(self):\n",
    "        self.var1 = 0\n",
    "        self.var2 = 0\n",
    "        self.var3 = 0\n",
    "    \n",
    "    # Getters function\n",
    "    def getVar1(self):\n",
    "        return self.var1\n",
    "    \n",
    "    def getVar2(self):\n",
    "        return self.var2\n",
    "    \n",
    "    def getVar3(self):\n",
    "        return self.var3\n",
    "    \n",
    "    # Setters function\n",
    "    def setVar1(self, var1):\n",
    "        self.var1 = var1\n",
    "    \n",
    "    def setVar2(self, var2):\n",
    "        self.var2 = var2\n",
    "    \n",
    "    def setVar3(self, var3):\n",
    "        self.var3 = var3\n",
    "    \n",
    "    #Process Function\n",
    "    def doAdd(self):\n",
    "        self.var3 = self.var1+self.var2        "
   ]
  },
  {
   "cell_type": "code",
   "execution_count": 6,
   "metadata": {},
   "outputs": [],
   "source": [
    "obj1 = Class4()"
   ]
  },
  {
   "cell_type": "code",
   "execution_count": 7,
   "metadata": {},
   "outputs": [
    {
     "name": "stdout",
     "output_type": "stream",
     "text": [
      "30\n",
      "78\n",
      "108\n"
     ]
    }
   ],
   "source": [
    "obj1.setVar1(30)\n",
    "obj1.setVar2(78)\n",
    "obj1.doAdd()\n",
    "\n",
    "print(obj1.getVar1())\n",
    "print(obj1.getVar2())\n",
    "print(obj1.getVar3())"
   ]
  },
  {
   "cell_type": "code",
   "execution_count": 8,
   "metadata": {},
   "outputs": [],
   "source": [
    "# Task-3 \n",
    "# Example-4\n",
    "class Class4():    \n",
    "    # initializer method (function)\n",
    "    def __init__(self):\n",
    "        # instance variables\n",
    "        self.var1 = 0\n",
    "        self.var2 = 0\n",
    "        self.var3 = 0\n",
    "    \n",
    "    # Getters function\n",
    "    def getVar1(self):\n",
    "        return self.var1\n",
    "    \n",
    "    def getVar2(self):\n",
    "        return self.var2\n",
    "    \n",
    "    def getVar3(self):\n",
    "        return self.var3\n",
    "    \n",
    "    # Setters function\n",
    "    def setVar1(self, var1):\n",
    "        self.var1 = var1\n",
    "    \n",
    "    def setVar2(self, var2):\n",
    "        self.var2 = var2\n",
    "    \n",
    "    def setVar3(self, var3):\n",
    "        self.var3 = var3\n",
    "    \n",
    "    #Process Function\n",
    "    def calc_sum(self):\n",
    "        self.var3 = self.var1+self.var2\n",
    "    \n",
    "    def calc_dif(self):\n",
    "        self.var3 = self.var1-self.var2\n",
    "    \n",
    "    def calc_prd(self):\n",
    "        self.var3 = self.var1*self.var2\n",
    "    \n",
    "    def calc_div(self):\n",
    "        self.var3 = self.var1/self.var2"
   ]
  },
  {
   "cell_type": "code",
   "execution_count": 9,
   "metadata": {},
   "outputs": [],
   "source": [
    "# Test-1\n",
    "obj1 = Class4() # Initializer Call i.e. def __init__(self):"
   ]
  },
  {
   "cell_type": "code",
   "execution_count": 11,
   "metadata": {},
   "outputs": [
    {
     "name": "stdout",
     "output_type": "stream",
     "text": [
      "SUM =  12\n",
      "DIF =  2\n",
      "PRD =  35\n",
      "Sum =  1.4\n"
     ]
    }
   ],
   "source": [
    "# Value Set\n",
    "obj1.setVar1(7)\n",
    "obj1.setVar2(5)\n",
    "\n",
    "# Process\n",
    "obj1.calc_sum()\n",
    "print(\"SUM = \", obj1.getVar3())\n",
    "\n",
    "obj1.calc_dif()\n",
    "print(\"DIF = \", obj1.getVar3())\n",
    "\n",
    "obj1.calc_prd()\n",
    "print(\"PRD = \", obj1.getVar3())\n",
    "\n",
    "obj1.calc_div()\n",
    "print(\"Sum = \", obj1.getVar3())\n"
   ]
  },
  {
   "cell_type": "code",
   "execution_count": 14,
   "metadata": {},
   "outputs": [
    {
     "name": "stdout",
     "output_type": "stream",
     "text": [
      "Enter first no : 23\n",
      "Enter second no : 7\n",
      "SUM =  30.0\n",
      "DIF =  16.0\n",
      "PRD =  161.0\n",
      "DIV =  3.29\n"
     ]
    }
   ],
   "source": [
    "# Test-2\n",
    "obj1 = Class4() # Initializer Call i.e. def __init__(self):\n",
    "\n",
    "# Value Set\n",
    "obj1.setVar1(float(input(\"Enter first no : \")))\n",
    "obj1.setVar2(float(input(\"Enter second no : \")))\n",
    "\n",
    "# Process\n",
    "obj1.calc_sum()\n",
    "print(\"SUM = \", obj1.getVar3())\n",
    "\n",
    "obj1.calc_dif()\n",
    "print(\"DIF = \", obj1.getVar3())\n",
    "\n",
    "obj1.calc_prd()\n",
    "print(\"PRD = \", obj1.getVar3())\n",
    "\n",
    "obj1.calc_div()\n",
    "#print(\"DIV = \", obj1.getVar3())\n",
    "print(\"DIV = \", round(obj1.getVar3(),2))"
   ]
  },
  {
   "cell_type": "code",
   "execution_count": 23,
   "metadata": {},
   "outputs": [],
   "source": [
    "# Project1 - Simple Calculator\n",
    "    # Main Menu\n",
    "    # Getting Inputs\n",
    "    # Process\n",
    "    # Print Output (Result)"
   ]
  },
  {
   "cell_type": "code",
   "execution_count": 18,
   "metadata": {},
   "outputs": [
    {
     "name": "stdout",
     "output_type": "stream",
     "text": [
      "---------- Main Menu ----------------\n",
      "1. ADD\n",
      "2. SUB\n",
      "3. PRD\n",
      "4. DIV\n",
      "0. EXIT\n"
     ]
    }
   ],
   "source": [
    "# Main Menu\n",
    "print(\"---------- Main Menu ----------------\")\n",
    "print(\"1. ADD\")\n",
    "print(\"2. SUB\")\n",
    "print(\"3. PRD\")\n",
    "print(\"4. DIV\")\n",
    "print(\"0. EXIT\")"
   ]
  },
  {
   "cell_type": "code",
   "execution_count": 19,
   "metadata": {},
   "outputs": [
    {
     "name": "stdout",
     "output_type": "stream",
     "text": [
      "Enter your choice [0->Exit] : 0\n"
     ]
    }
   ],
   "source": [
    "# Getting Inputs\n",
    "\n",
    "# Choice\n",
    "choice = int(input(\"Enter your choice [0->Exit] : \"))"
   ]
  },
  {
   "cell_type": "code",
   "execution_count": 20,
   "metadata": {},
   "outputs": [
    {
     "name": "stdout",
     "output_type": "stream",
     "text": [
      "Enter First No : 58\n",
      "Enter Second No : 74\n"
     ]
    }
   ],
   "source": [
    "# Numbers\n",
    "num1 = float(input(\"Enter First No : \"))\n",
    "num2 = float(input(\"Enter Second No : \"))"
   ]
  },
  {
   "cell_type": "code",
   "execution_count": 21,
   "metadata": {},
   "outputs": [
    {
     "data": {
      "text/plain": [
       "'\\nif choice is 1 than \\n    calc sum\\nelse if choice is 2 than\\n    calc dif\\nelse if choice is 3 then\\n    calc prd\\nelse if choice is 4 then\\n    calc div\\n'"
      ]
     },
     "execution_count": 21,
     "metadata": {},
     "output_type": "execute_result"
    }
   ],
   "source": [
    "\"\"\"\n",
    "if choice is 1 than \n",
    "    calc sum\n",
    "else if choice is 2 than\n",
    "    calc dif\n",
    "else if choice is 3 then\n",
    "    calc prd\n",
    "else if choice is 4 then\n",
    "    calc div\n",
    "\"\"\""
   ]
  },
  {
   "cell_type": "code",
   "execution_count": 22,
   "metadata": {},
   "outputs": [
    {
     "name": "stdout",
     "output_type": "stream",
     "text": [
      "Result is : XXXXX\n"
     ]
    }
   ],
   "source": [
    "# Print Result\n",
    "print(\"Result is : XXXXX\")"
   ]
  },
  {
   "cell_type": "code",
   "execution_count": 25,
   "metadata": {},
   "outputs": [],
   "source": [
    "# Note\n",
    "    # Varaibles, Operators, Keywords, If Statement, While Loop, For Loop, Continue, Break, Pass, Return, Functions (User Defined) & Library Functions"
   ]
  },
  {
   "cell_type": "code",
   "execution_count": 8,
   "metadata": {},
   "outputs": [],
   "source": [
    "# Parameterized Initializer\n",
    "class Class5():\n",
    "    # initializer method (function) with parameter\n",
    "    def __init__(self, var1=0, var2=0):\n",
    "        # instance variables\n",
    "        self.var1 = var1\n",
    "        self.var2 = var2\n",
    "        self.var3 = 0\n",
    "    \n",
    "    # Getters function\n",
    "    def getVar1(self):\n",
    "        return self.var1\n",
    "    \n",
    "    def getVar2(self):\n",
    "        return self.var2\n",
    "    \n",
    "    def getVar3(self):\n",
    "        return self.var3\n",
    "    \n",
    "    # Setters function\n",
    "    def setVar1(self, var1):\n",
    "        self.var1 = var1\n",
    "    \n",
    "    def setVar2(self, var2):\n",
    "        self.var2 = var2\n",
    "    \n",
    "    def setVar3(self, var3):\n",
    "        self.var3 = var3\n",
    "    \n",
    "    #Process Function\n",
    "    def calc_sum(self):\n",
    "        self.var3 = self.var1+self.var2\n",
    "    \n",
    "    def calc_dif(self):\n",
    "        self.var3 = self.var1-self.var2\n",
    "    \n",
    "    def calc_prd(self):\n",
    "        self.var3 = self.var1*self.var2\n",
    "    \n",
    "    def calc_div(self):\n",
    "        self.var3 = self.var1/self.var2"
   ]
  },
  {
   "cell_type": "code",
   "execution_count": 5,
   "metadata": {},
   "outputs": [
    {
     "name": "stdout",
     "output_type": "stream",
     "text": [
      "11\n",
      "<__main__.Class5 object at 0x000001EC30712D30>\n"
     ]
    }
   ],
   "source": [
    "# Setting value from Initializer (init method)\n",
    "obj5 = Class5(var1=8, var2=3);\n",
    "obj5.calc_sum()\n",
    "print(obj5.getVar3())\n",
    "print(obj5)"
   ]
  },
  {
   "cell_type": "code",
   "execution_count": 20,
   "metadata": {},
   "outputs": [],
   "source": [
    "# __str__ method to print multiple variables\n",
    "class Class6():\n",
    "    # initializer method (function) with parameter\n",
    "    def __init__(self, var1=0, var2=0):\n",
    "        # instance variables\n",
    "        self.var1 = var1\n",
    "        self.var2 = var2\n",
    "        self.var3 = 0\n",
    "    \n",
    "    # Getters function\n",
    "    def getVar1(self):\n",
    "        return self.var1\n",
    "    \n",
    "    def getVar2(self):\n",
    "        return self.var2\n",
    "    \n",
    "    def getVar3(self):\n",
    "        return self.var3\n",
    "    \n",
    "    # Setters function\n",
    "    def setVar1(self, var1):\n",
    "        self.var1 = var1\n",
    "    \n",
    "    def setVar2(self, var2):\n",
    "        self.var2 = var2\n",
    "    \n",
    "    def setVar3(self, var3):\n",
    "        self.var3 = var3\n",
    "    \n",
    "    #Process Function\n",
    "    def calc_sum(self):\n",
    "        self.var3 = self.var1+self.var2\n",
    "    \n",
    "    def calc_dif(self):\n",
    "        self.var3 = self.var1-self.var2\n",
    "    \n",
    "    def calc_prd(self):\n",
    "        self.var3 = self.var1*self.var2\n",
    "    \n",
    "    def calc_div(self):\n",
    "        self.var3 = self.var1/self.var2\n",
    "    \n",
    "    def __str__(self):\n",
    "        return (str(self.var1)+\",\"+str(self.var2)+\",\"+str(self.var3))"
   ]
  },
  {
   "cell_type": "code",
   "execution_count": 21,
   "metadata": {},
   "outputs": [
    {
     "name": "stdout",
     "output_type": "stream",
     "text": [
      "15,4,3.75\n"
     ]
    }
   ],
   "source": [
    "obj6 = Class6(var1=15, var2=4)\n",
    "obj6.calc_div()\n",
    "print(obj6)"
   ]
  },
  {
   "cell_type": "code",
   "execution_count": 6,
   "metadata": {},
   "outputs": [
    {
     "name": "stdout",
     "output_type": "stream",
     "text": [
      "30\n",
      "31.042\n",
      "Kathmandu, Nepal\n"
     ]
    }
   ],
   "source": [
    "# Operator Overloading\n",
    "print(10+20) # int\n",
    "print(10.253+20.789) # float\n",
    "print('Kathmandu'+'Nepal')"
   ]
  },
  {
   "cell_type": "code",
   "execution_count": 12,
   "metadata": {},
   "outputs": [
    {
     "name": "stdout",
     "output_type": "stream",
     "text": [
      "5\n"
     ]
    }
   ],
   "source": [
    "# Operator Overloading Example\n",
    "class Class7():\n",
    "    def __init__(self, num1=0, num2=0):\n",
    "        self.num1=num1    \n",
    "        self.num2=num2\n",
    "    def getNum1(self):\n",
    "        return self.num1\n",
    "    def getNum2(self):\n",
    "        return self.num2\n",
    "    def setNum1(self, num1):\n",
    "        self.num1=num1\n",
    "    def setNum2(self, num2):\n",
    "        self.num2=num2    \n",
    "    def __str__():\n",
    "        return str(self.num1)+\", \"+str(self.num2)\n",
    "    # Operator Overloading\n",
    "    def __add__(self, other):\n",
    "        return self.num1+other.num1, self.num2+other.num2\n",
    "\n",
    "obj7_1=Class7(3)\n",
    "obj7_2=Class7(2)\n",
    "print(obj7_1+obj7_2)"
   ]
  },
  {
   "cell_type": "code",
   "execution_count": null,
   "metadata": {},
   "outputs": [],
   "source": []
  }
 ],
 "metadata": {
  "kernelspec": {
   "display_name": "Python 3",
   "language": "python",
   "name": "python3"
  },
  "language_info": {
   "codemirror_mode": {
    "name": "ipython",
    "version": 3
   },
   "file_extension": ".py",
   "mimetype": "text/x-python",
   "name": "python",
   "nbconvert_exporter": "python",
   "pygments_lexer": "ipython3",
   "version": "3.8.5"
  }
 },
 "nbformat": 4,
 "nbformat_minor": 4
}
