{
 "cells": [
  {
   "cell_type": "code",
   "execution_count": null,
   "metadata": {},
   "outputs": [],
   "source": [
    "# Click Event on Button\n",
    "from tkinter import *\n",
    "\n",
    "def f1():\n",
    "    print(\"Hello!\")\n",
    "\n",
    "frame = Tk()\n",
    "frame.geometry(\"400x250\")\n",
    "frame.title(\"Click Event\")\n",
    "frame.resizable(False, False)\n",
    "\n",
    "btn_ok = Button(frame, text=\"Click Me\", command = f1)\n",
    "btn_ok.place(x=10, y=20)\n",
    "\n",
    "frame.mainloop()"
   ]
  },
  {
   "cell_type": "code",
   "execution_count": null,
   "metadata": {},
   "outputs": [],
   "source": []
  }
 ],
 "metadata": {
  "kernelspec": {
   "display_name": "Python 3",
   "language": "python",
   "name": "python3"
  },
  "language_info": {
   "codemirror_mode": {
    "name": "ipython",
    "version": 3
   },
   "file_extension": ".py",
   "mimetype": "text/x-python",
   "name": "python",
   "nbconvert_exporter": "python",
   "pygments_lexer": "ipython3",
   "version": "3.8.5"
  }
 },
 "nbformat": 4,
 "nbformat_minor": 4
}
