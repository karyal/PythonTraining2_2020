{
 "cells": [
  {
   "cell_type": "code",
   "execution_count": null,
   "metadata": {},
   "outputs": [],
   "source": [
    "# Writting on file and reading from file."
   ]
  },
  {
   "cell_type": "code",
   "execution_count": 2,
   "metadata": {},
   "outputs": [],
   "source": [
    "# Import Library\n",
    "import sys"
   ]
  },
  {
   "cell_type": "code",
   "execution_count": 1,
   "metadata": {},
   "outputs": [],
   "source": [
    "# File Path\n",
    "FILE_NAME = \"my_data1.txt\" # Current Directory\n",
    "FILE_NAME = \"D:\\\\KrishnaAryal\\\\Training2020\\\\Python\\\\PythonTraining2_2020\\\\NoteBooks\\\\my_data1.txt\"\n",
    "FILE_NAME = \"D:/KrishnaAryal/Training2020/Python/PythonTraining2_2020/NoteBooks/my_data1.txt\""
   ]
  },
  {
   "cell_type": "code",
   "execution_count": 6,
   "metadata": {},
   "outputs": [],
   "source": [
    "# Create new file\n",
    "FILE_NAME = \"my_data2.txt\"\n",
    "file  = open(FILE_NAME, \"w\") # write mode (crete new file if not exist)\n",
    "file.close()"
   ]
  },
  {
   "cell_type": "code",
   "execution_count": 7,
   "metadata": {},
   "outputs": [],
   "source": [
    "def create_file(file_name):\n",
    "    try:\n",
    "        file=open(file_name, \"w\")\n",
    "        print(\"file create successfully\")\n",
    "        file.close()\n",
    "    except:\n",
    "        print(\"Error : \", sys.exc_info()[1])\n",
    "    finally:\n",
    "        pass"
   ]
  },
  {
   "cell_type": "code",
   "execution_count": 8,
   "metadata": {},
   "outputs": [
    {
     "name": "stdout",
     "output_type": "stream",
     "text": [
      "file create successfully\n"
     ]
    }
   ],
   "source": [
    "create_file(\"krishna.txt\")"
   ]
  },
  {
   "cell_type": "code",
   "execution_count": 9,
   "metadata": {},
   "outputs": [],
   "source": [
    "# Write contents on file\n",
    "FILE_NAME = \"my_data2.txt\"\n",
    "file  = open(FILE_NAME, \"w\") # write mode (crete new file if not exist)\n",
    "file.write(\"Hello from Pyhton!\")\n",
    "file.close()"
   ]
  },
  {
   "cell_type": "code",
   "execution_count": 10,
   "metadata": {},
   "outputs": [],
   "source": [
    "def write_data1(FILE_NAME, content):\n",
    "    try:       \n",
    "        file  = open(FILE_NAME, \"w\")\n",
    "        file.write(content)\n",
    "        file.close()\n",
    "    except:\n",
    "        print(\"Error : \", sys.exc_info()[1])\n",
    "    finally:\n",
    "        pass\n",
    "    "
   ]
  },
  {
   "cell_type": "code",
   "execution_count": 11,
   "metadata": {},
   "outputs": [],
   "source": [
    "str1= \"Lorem Ipsum is simply dummy text of the printing and typesetting industry. Lorem Ipsum has been the industry's standard dummy text ever since the 1500s, when an unknown printer took a galley of type and scrambled it to make a type specimen book.\"\n",
    "write_data1(\"Myfile1.txt\", str1)"
   ]
  },
  {
   "cell_type": "code",
   "execution_count": 15,
   "metadata": {},
   "outputs": [
    {
     "name": "stdout",
     "output_type": "stream",
     "text": [
      "Hello from Pyhton1\n",
      "\n",
      "Hello from Pyhton2\n"
     ]
    }
   ],
   "source": [
    "# Read data from file\n",
    "FILE_NAME = \"my_data2.txt\"\n",
    "file  = open(FILE_NAME, \"r\")\n",
    "# contents = file.readline() # read first line of file.\n",
    "contents = file.readlines()  # read all the lines of file as list\n",
    "for line in contents:\n",
    "    print(line)\n",
    "file.close()"
   ]
  },
  {
   "cell_type": "code",
   "execution_count": 16,
   "metadata": {},
   "outputs": [],
   "source": [
    "def read_data1(FILE_NAME):\n",
    "    file  = open(FILE_NAME, \"r\")\n",
    "    # contents = file.readline() # read first line of file.\n",
    "    contents = file.readlines() # read first line of file.\n",
    "    for line in contents:\n",
    "        print(line)\n",
    "    file.close()"
   ]
  },
  {
   "cell_type": "code",
   "execution_count": 17,
   "metadata": {},
   "outputs": [
    {
     "name": "stdout",
     "output_type": "stream",
     "text": [
      "Hello from Pyhton1\n",
      "\n",
      "Hello from Pyhton2\n"
     ]
    }
   ],
   "source": [
    "read_data1('my_data2.txt')"
   ]
  }
 ],
 "metadata": {
  "kernelspec": {
   "display_name": "Python 3",
   "language": "python",
   "name": "python3"
  },
  "language_info": {
   "codemirror_mode": {
    "name": "ipython",
    "version": 3
   },
   "file_extension": ".py",
   "mimetype": "text/x-python",
   "name": "python",
   "nbconvert_exporter": "python",
   "pygments_lexer": "ipython3",
   "version": "3.8.5"
  }
 },
 "nbformat": 4,
 "nbformat_minor": 4
}
