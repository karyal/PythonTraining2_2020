{
 "cells": [
  {
   "cell_type": "markdown",
   "metadata": {},
   "source": [
    "## Python Installation and Configuration"
   ]
  },
  {
   "cell_type": "markdown",
   "metadata": {},
   "source": [
    "1. Python Installation\n",
    "2. Hello world print\n",
    "3. First Python Program - Run\n",
    "4. Installation of Python IDE (Integrated Development Environment)\n",
    "- Create Python Program/save/close/open/edit/update/run/debug - test\n",
    "\n",
    "a. Jupyter Notebook\n",
    "https://jupyter.org/install\n",
    "\n",
    "i. installing Notebook\n",
    "pip install notebook\n",
    "\n",
    "ii. Running Notebook\n",
    "- jupyter notebook\n",
    "\n",
    "iii. Stopping Notebook\n",
    "- Ctrl with ++\n",
    "\n",
    "Upgrading pip\n",
    "* pip install --upgrade pip\n",
    "* python -m pip install --upgrade pip\n",
    "\n",
    "b. AnyDesk - Remote DeskTop Sharing Application\n",
    "* https://anydesk.com/en/downloads\n",
    "\n",
    "c. git for Windows\n",
    "* https://git-scm.com/download/win\n"
   ]
  },
  {
   "cell_type": "markdown",
   "metadata": {},
   "source": [
    "### Cell - We can Type Python Command and Execute - Run"
   ]
  },
  {
   "cell_type": "code",
   "execution_count": 1,
   "metadata": {},
   "outputs": [
    {
     "name": "stdout",
     "output_type": "stream",
     "text": [
      "Hello world of Python\n"
     ]
    }
   ],
   "source": [
    "print(\"Hello world of Python\") \n",
    "# Click on Run Cell Button of Toolbar\n",
    "# Press Shift + Enter\n",
    "# Press Ctrl + Enter"
   ]
  },
  {
   "cell_type": "code",
   "execution_count": 7,
   "metadata": {
    "scrolled": true
   },
   "outputs": [
    {
     "data": {
      "text/plain": [
       "'\\n    Text/Command\\n'"
      ]
     },
     "execution_count": 7,
     "metadata": {},
     "output_type": "execute_result"
    }
   ],
   "source": [
    "# Comment - Single Line Comment # Ctrl + /\n",
    "\n",
    "\"\"\"\n",
    "    Text/Command - Multi-line Comment\n",
    "\"\"\"\n",
    "\n",
    "'''\n",
    "    Text/Command\n",
    "'''\n",
    "\n",
    "# print(\"Hello\")"
   ]
  },
  {
   "cell_type": "markdown",
   "metadata": {},
   "source": [
    "# Markup Script - Markdown"
   ]
  },
  {
   "cell_type": "markdown",
   "metadata": {},
   "source": [
    "# Heading-1\n",
    "## Heading-2\n",
    "### Heading-3\n",
    "#### Heading-4\n",
    "\n",
    "<p>Click on Run <strong>Cell</strong> Button of Toolbar</p>\n",
    "\n",
    "#### Heading\n",
    "* Line-1\n",
    "* Line-2\n",
    "* Line-3\n",
    "* Line-4\n",
    "* Line-5"
   ]
  },
  {
   "cell_type": "code",
   "execution_count": 14,
   "metadata": {},
   "outputs": [
    {
     "data": {
      "text/plain": [
       "'\\nprint(\"Hello\")\\n# print(\"Hi\")\\nprint(\"How are you?\")\\nprint(10+5)\\nprint(9/3)\\n'"
      ]
     },
     "execution_count": 14,
     "metadata": {},
     "output_type": "execute_result"
    }
   ],
   "source": [
    "# print(\"Hello\")\n",
    "\n",
    "\"\"\"\n",
    "print(\"Hello\")\n",
    "# print(\"Hi\")\n",
    "print(\"How are you?\")\n",
    "print(10+5)\n",
    "print(9/3)\n",
    "\"\"\"\n",
    "\n",
    "'''\n",
    "print(\"Hello\")\n",
    "# print(\"Hi\")\n",
    "print(\"How are you?\")\n",
    "print(10+5)\n",
    "print(9/3)\n",
    "'''"
   ]
  },
  {
   "cell_type": "markdown",
   "metadata": {},
   "source": [
    "## Installation of Python Library"
   ]
  },
  {
   "cell_type": "code",
   "execution_count": null,
   "metadata": {},
   "outputs": [],
   "source": [
    "# pip\n",
    "    # pip - python package manager \n",
    "        # file *.py (module, class)\n",
    "        # package - folder/directory where we stores *.py files    \n",
    "    # https://pypi.org/ - Library Repo\n",
    "        # text-to-speech         "
   ]
  },
  {
   "cell_type": "markdown",
   "metadata": {},
   "source": [
    "### Installing Library\n",
    "    * pip install text-to-speech\n",
    "    * pip list # list all the 3rd party library      "
   ]
  },
  {
   "cell_type": "markdown",
   "metadata": {},
   "source": [
    "### Testing Library"
   ]
  },
  {
   "cell_type": "code",
   "execution_count": 18,
   "metadata": {},
   "outputs": [],
   "source": [
    "from text_to_speech import speak # import library\n",
    "speak(\"hello\")"
   ]
  },
  {
   "cell_type": "markdown",
   "metadata": {},
   "source": [
    "### Uninstalling Library\n",
    "* pip uninstall text-to-speech\n",
    "* pip list"
   ]
  },
  {
   "cell_type": "markdown",
   "metadata": {},
   "source": [
    "### emoji - package"
   ]
  },
  {
   "cell_type": "code",
   "execution_count": 1,
   "metadata": {},
   "outputs": [],
   "source": [
    "# pip install emoji\n",
    "import emoji"
   ]
  },
  {
   "cell_type": "code",
   "execution_count": 2,
   "metadata": {},
   "outputs": [
    {
     "name": "stdout",
     "output_type": "stream",
     "text": [
      "Python is 👍\n"
     ]
    }
   ],
   "source": [
    "print(emoji.emojize('Python is :thumbs_up:'))"
   ]
  },
  {
   "cell_type": "code",
   "execution_count": 3,
   "metadata": {},
   "outputs": [
    {
     "name": "stdout",
     "output_type": "stream",
     "text": [
      "Python is fun ❤\n"
     ]
    }
   ],
   "source": [
    "print(emoji.emojize(\"Python is fun :red_heart:\"))"
   ]
  },
  {
   "cell_type": "code",
   "execution_count": 4,
   "metadata": {},
   "outputs": [
    {
     "name": "stdout",
     "output_type": "stream",
     "text": [
      "Python is fun ❤️\n"
     ]
    }
   ],
   "source": [
    "print(emoji.emojize(\"Python is fun :red_heart:\",variant=\"emoji_type\"))"
   ]
  },
  {
   "cell_type": "code",
   "execution_count": null,
   "metadata": {},
   "outputs": [],
   "source": []
  }
 ],
 "metadata": {
  "kernelspec": {
   "display_name": "Python 3",
   "language": "python",
   "name": "python3"
  },
  "language_info": {
   "codemirror_mode": {
    "name": "ipython",
    "version": 3
   },
   "file_extension": ".py",
   "mimetype": "text/x-python",
   "name": "python",
   "nbconvert_exporter": "python",
   "pygments_lexer": "ipython3",
   "version": "3.8.5"
  }
 },
 "nbformat": 4,
 "nbformat_minor": 4
}
