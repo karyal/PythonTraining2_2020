{
 "cells": [
  {
   "cell_type": "markdown",
   "metadata": {},
   "source": [
    "### Core Python Programming\n",
    "* Basic IO [Input/Output] (Reading value from Keyboard and Display)\n"
   ]
  },
  {
   "cell_type": "markdown",
   "metadata": {},
   "source": [
    "#### Basic IO\n",
    "* Reading value from Keyboard\n",
    "* Display value"
   ]
  },
  {
   "cell_type": "code",
   "execution_count": null,
   "metadata": {},
   "outputs": [],
   "source": [
    "# Reading value from Keyboard\n",
    "    # input() function is used to read value from keyboard."
   ]
  },
  {
   "cell_type": "code",
   "execution_count": 2,
   "metadata": {},
   "outputs": [
    {
     "name": "stdout",
     "output_type": "stream",
     "text": [
      "dskjgkl lkj gljkg\n"
     ]
    },
    {
     "data": {
      "text/plain": [
       "'dskjgkl lkj gljkg'"
      ]
     },
     "execution_count": 2,
     "metadata": {},
     "output_type": "execute_result"
    }
   ],
   "source": [
    "# Example\n",
    "input() # call input function # read value from keyboard until press Enter."
   ]
  },
  {
   "cell_type": "code",
   "execution_count": null,
   "metadata": {},
   "outputs": [],
   "source": [
    "# re-using inputed value\n",
    "    # placeholder =  input()"
   ]
  },
  {
   "cell_type": "code",
   "execution_count": 4,
   "metadata": {},
   "outputs": [
    {
     "name": "stdout",
     "output_type": "stream",
     "text": [
      "asfjkashfkjashf kjsahf kjsahf kjhs fkhkkjh\n"
     ]
    }
   ],
   "source": [
    "# Example\n",
    "value1 = input()"
   ]
  },
  {
   "cell_type": "code",
   "execution_count": null,
   "metadata": {},
   "outputs": [],
   "source": [
    "# Display value\n",
    "    # print() function is used to display value."
   ]
  },
  {
   "cell_type": "code",
   "execution_count": 6,
   "metadata": {},
   "outputs": [
    {
     "name": "stdout",
     "output_type": "stream",
     "text": [
      "asfjkashfkjashf kjsahf kjsahf kjhs fkhkkjh\n",
      "asfjkashfkjashf kjsahf kjsahf kjhs fkhkkjh\n",
      "asfjkashfkjashf kjsahf kjsahf kjhs fkhkkjh\n",
      "asfjkashfkjashf kjsahf kjsahf kjhs fkhkkjh\n",
      "asfjkashfkjashf kjsahf kjsahf kjhs fkhkkjh\n",
      "asfjkashfkjashf kjsahf kjsahf kjhs fkhkkjh\n"
     ]
    }
   ],
   "source": [
    "#Example\n",
    "print(value1)\n",
    "print(value1)\n",
    "print(value1)\n",
    "print(value1)\n",
    "print(value1)\n",
    "print(value1)"
   ]
  },
  {
   "cell_type": "code",
   "execution_count": 8,
   "metadata": {},
   "outputs": [],
   "source": [
    "# Task-1\n",
    "    # Read your name and display.\n",
    "    # Read your address and display.\n",
    "    # Read you mobile no and display.\n",
    "    # Read you email and display."
   ]
  },
  {
   "cell_type": "code",
   "execution_count": 11,
   "metadata": {},
   "outputs": [
    {
     "name": "stdout",
     "output_type": "stream",
     "text": [
      "krishna aryal\n",
      "Kathmandu\n"
     ]
    }
   ],
   "source": [
    "# input - read value from keyboard\n",
    "myname = input()\n",
    "myaddress = input()\n",
    "mobileno = input()\n",
    "email = input()"
   ]
  },
  {
   "cell_type": "code",
   "execution_count": 12,
   "metadata": {},
   "outputs": [
    {
     "name": "stdout",
     "output_type": "stream",
     "text": [
      "krishna aryal\n",
      "Kathmandu\n"
     ]
    }
   ],
   "source": [
    "# print - display value\n",
    "print(myname)\n",
    "print(myaddress)\n",
    "print(mobileno)\n",
    "print(email)"
   ]
  },
  {
   "cell_type": "code",
   "execution_count": null,
   "metadata": {},
   "outputs": [],
   "source": [
    "# Task-2\n",
    "    # Read two numbers and display sum (Addition) of them."
   ]
  }
 ],
 "metadata": {
  "kernelspec": {
   "display_name": "Python 3",
   "language": "python",
   "name": "python3"
  },
  "language_info": {
   "codemirror_mode": {
    "name": "ipython",
    "version": 3
   },
   "file_extension": ".py",
   "mimetype": "text/x-python",
   "name": "python",
   "nbconvert_exporter": "python",
   "pygments_lexer": "ipython3",
   "version": "3.8.5"
  }
 },
 "nbformat": 4,
 "nbformat_minor": 4
}
