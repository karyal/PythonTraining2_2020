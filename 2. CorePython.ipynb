{
 "cells": [
  {
   "cell_type": "markdown",
   "metadata": {},
   "source": [
    "### Core Python Programming\n",
    "* Basic IO [Input/Output] (Reading value from Keyboard and Display)\n",
    "* Core Python\n",
    "    * Characters Set\n",
    "    * Keywords\n",
    "    * Identifiers\n",
    "    * Varaibles\n",
    "    * Data Type \n",
    "        * Value Type - bool, int, float, complex\n",
    "        * Collections - array, str, list, tuple, set, dict\n",
    "    * Type Conversion (str - > int | float -> str)\n",
    "    * Operators\n",
    "        * Arithmeric Operator (+, -, *, /, %)"
   ]
  },
  {
   "cell_type": "markdown",
   "metadata": {},
   "source": [
    "#### Basic IO\n",
    "* Reading value from Keyboard\n",
    "* Display value"
   ]
  },
  {
   "cell_type": "code",
   "execution_count": null,
   "metadata": {},
   "outputs": [],
   "source": [
    "# Reading value from Keyboard\n",
    "    # input() function is used to read value from keyboard."
   ]
  },
  {
   "cell_type": "code",
   "execution_count": 2,
   "metadata": {},
   "outputs": [
    {
     "name": "stdout",
     "output_type": "stream",
     "text": [
      "dskjgkl lkj gljkg\n"
     ]
    },
    {
     "data": {
      "text/plain": [
       "'dskjgkl lkj gljkg'"
      ]
     },
     "execution_count": 2,
     "metadata": {},
     "output_type": "execute_result"
    }
   ],
   "source": [
    "# Example\n",
    "input() # call input function # read value from keyboard until press Enter."
   ]
  },
  {
   "cell_type": "code",
   "execution_count": null,
   "metadata": {},
   "outputs": [],
   "source": [
    "# re-using inputed value\n",
    "    # placeholder =  input()"
   ]
  },
  {
   "cell_type": "code",
   "execution_count": 4,
   "metadata": {},
   "outputs": [
    {
     "name": "stdout",
     "output_type": "stream",
     "text": [
      "asfjkashfkjashf kjsahf kjsahf kjhs fkhkkjh\n"
     ]
    }
   ],
   "source": [
    "# Example\n",
    "value1 = input()"
   ]
  },
  {
   "cell_type": "code",
   "execution_count": null,
   "metadata": {},
   "outputs": [],
   "source": [
    "# Display value\n",
    "    # print() function is used to display value."
   ]
  },
  {
   "cell_type": "code",
   "execution_count": 6,
   "metadata": {},
   "outputs": [
    {
     "name": "stdout",
     "output_type": "stream",
     "text": [
      "asfjkashfkjashf kjsahf kjsahf kjhs fkhkkjh\n",
      "asfjkashfkjashf kjsahf kjsahf kjhs fkhkkjh\n",
      "asfjkashfkjashf kjsahf kjsahf kjhs fkhkkjh\n",
      "asfjkashfkjashf kjsahf kjsahf kjhs fkhkkjh\n",
      "asfjkashfkjashf kjsahf kjsahf kjhs fkhkkjh\n",
      "asfjkashfkjashf kjsahf kjsahf kjhs fkhkkjh\n"
     ]
    }
   ],
   "source": [
    "#Example\n",
    "print(value1)\n",
    "print(value1)\n",
    "print(value1)\n",
    "print(value1)\n",
    "print(value1)\n",
    "print(value1)"
   ]
  },
  {
   "cell_type": "code",
   "execution_count": 8,
   "metadata": {},
   "outputs": [],
   "source": [
    "# Task-1\n",
    "    # Read your name and display.\n",
    "    # Read your address and display.\n",
    "    # Read you mobile no and display.\n",
    "    # Read you email and display."
   ]
  },
  {
   "cell_type": "code",
   "execution_count": 11,
   "metadata": {},
   "outputs": [
    {
     "name": "stdout",
     "output_type": "stream",
     "text": [
      "krishna aryal\n",
      "Kathmandu\n"
     ]
    }
   ],
   "source": [
    "# input - read value from keyboard\n",
    "myname = input()\n",
    "myaddress = input()\n",
    "mobileno = input()\n",
    "email = input()"
   ]
  },
  {
   "cell_type": "code",
   "execution_count": 12,
   "metadata": {},
   "outputs": [
    {
     "name": "stdout",
     "output_type": "stream",
     "text": [
      "krishna aryal\n",
      "Kathmandu\n"
     ]
    }
   ],
   "source": [
    "# print - display value\n",
    "print(myname)\n",
    "print(myaddress)\n",
    "print(mobileno)\n",
    "print(email)"
   ]
  },
  {
   "cell_type": "code",
   "execution_count": 1,
   "metadata": {},
   "outputs": [],
   "source": [
    "# Task-2\n",
    "    # Read two numbers and display sum (Addition) of them."
   ]
  },
  {
   "cell_type": "code",
   "execution_count": 2,
   "metadata": {},
   "outputs": [
    {
     "name": "stdout",
     "output_type": "stream",
     "text": [
      "3\n",
      "2\n",
      "32\n"
     ]
    }
   ],
   "source": [
    "# Task-2 - Solution\n",
    "num1 = input()\n",
    "num2 = input()\n",
    "num3 = num1+num2\n",
    "print(num3)"
   ]
  },
  {
   "cell_type": "code",
   "execution_count": 17,
   "metadata": {},
   "outputs": [
    {
     "name": "stdout",
     "output_type": "stream",
     "text": [
      "Enter ID : 2\n",
      "<class 'str'>\n"
     ]
    }
   ],
   "source": [
    "# Reading Value from Keyboard with Prompt\n",
    "pid = input(\"Enter ID : \") # Prompt and Input\n",
    "# print(type(pid))"
   ]
  },
  {
   "cell_type": "code",
   "execution_count": 13,
   "metadata": {},
   "outputs": [
    {
     "name": "stdout",
     "output_type": "stream",
     "text": [
      "ID :  2\n"
     ]
    }
   ],
   "source": [
    "print(\"ID : \", pid)# Label, Value"
   ]
  },
  {
   "cell_type": "code",
   "execution_count": 1,
   "metadata": {},
   "outputs": [
    {
     "name": "stdout",
     "output_type": "stream",
     "text": [
      "Enter Your ID : 4\n",
      "Your id :  4\n"
     ]
    }
   ],
   "source": [
    "# Reading and Display Value\n",
    "pid = input(\"Enter Your ID : \") # Reading value from Keyboard\n",
    "print(\"Your id : \", pid) # Display value"
   ]
  },
  {
   "cell_type": "code",
   "execution_count": null,
   "metadata": {},
   "outputs": [],
   "source": [
    "# Task\n",
    "    # Accept id, name, address and display.\n",
    "    # Accept first number, second number and display sum of them."
   ]
  },
  {
   "cell_type": "markdown",
   "metadata": {},
   "source": [
    "#### Core Python\n",
    "* Characters Set\n",
    "* Keywords\n",
    "* Identifiers\n",
    "* Varaibles"
   ]
  },
  {
   "cell_type": "code",
   "execution_count": 3,
   "metadata": {},
   "outputs": [],
   "source": [
    "# Characters Set\n",
    "    # Number of character (symbol) in language.\n",
    "    # Used to create Statement. (words, operators - Sentence-> Statement)"
   ]
  },
  {
   "cell_type": "code",
   "execution_count": 4,
   "metadata": {},
   "outputs": [],
   "source": [
    "# Exploring characters\n",
    "import string"
   ]
  },
  {
   "cell_type": "code",
   "execution_count": 23,
   "metadata": {},
   "outputs": [],
   "source": [
    "# help(string)\n",
    "# ascii_letters = 'abcdefghijklmnopqrstuvwxyzABCDEFGHIJKLMNOPQRSTUVWXYZ'\n",
    "# ascii_lowercase = 'abcdefghijklmnopqrstuvwxyz'\n",
    "# ascii_uppercase = 'ABCDEFGHIJKLMNOPQRSTUVWXYZ'\n",
    "# digits = '0123456789'\n",
    "# hexdigits = '0123456789abcdefABCDEF'\n",
    "# octdigits = '01234567'\n",
    "# printable = '0123456789abcdefghijklmnopqrstuvwxyzABCDEFGHIJKLMNOPQRSTU...\n",
    "# punctuation = '!\"#$%&\\'()*+,-./:;<=>?@[\\\\]^_`{|}~'\n",
    "# whitespace = ' \\t\\n\\r\\x0b\\x0c'"
   ]
  },
  {
   "cell_type": "code",
   "execution_count": 12,
   "metadata": {},
   "outputs": [
    {
     "name": "stdout",
     "output_type": "stream",
     "text": [
      "ASCII CODE\tVALUE\n",
      "0  \t\t \u0000\n",
      "1  \t\t \u0001\n",
      "2  \t\t \u0002\n",
      "3  \t\t \u0003\n",
      "4  \t\t \u0004\n",
      "5  \t\t \u0005\n",
      "6  \t\t \u0006\n",
      "7  \t\t \u0007\n",
      "8  \t\t \b\n",
      "9  \t\t \t\n",
      "10  \t\t \n",
      "\n",
      "11  \t\t \u000b",
      "\n",
      "12  \t\t \f",
      "\n",
      "13  \t\t \r\n",
      "14  \t\t \u000e\n",
      "15  \t\t \u000f\n",
      "16  \t\t \u0010\n",
      "17  \t\t \u0011\n",
      "18  \t\t \u0012\n",
      "19  \t\t \u0013\n",
      "20  \t\t \u0014\n",
      "21  \t\t \u0015\n",
      "22  \t\t \u0016\n",
      "23  \t\t \u0017\n",
      "24  \t\t \u0018\n",
      "25  \t\t \u0019\n",
      "26  \t\t \u001a\n",
      "27  \t\t \u001b\n",
      "28  \t\t \u001c",
      "\n",
      "29  \t\t \u001d",
      "\n",
      "30  \t\t \u001e",
      "\n",
      "31  \t\t \u001f\n",
      "32  \t\t  \n",
      "33  \t\t !\n",
      "34  \t\t \"\n",
      "35  \t\t #\n",
      "36  \t\t $\n",
      "37  \t\t %\n",
      "38  \t\t &\n",
      "39  \t\t '\n",
      "40  \t\t (\n",
      "41  \t\t )\n",
      "42  \t\t *\n",
      "43  \t\t +\n",
      "44  \t\t ,\n",
      "45  \t\t -\n",
      "46  \t\t .\n",
      "47  \t\t /\n",
      "48  \t\t 0\n",
      "49  \t\t 1\n",
      "50  \t\t 2\n",
      "51  \t\t 3\n",
      "52  \t\t 4\n",
      "53  \t\t 5\n",
      "54  \t\t 6\n",
      "55  \t\t 7\n",
      "56  \t\t 8\n",
      "57  \t\t 9\n",
      "58  \t\t :\n",
      "59  \t\t ;\n",
      "60  \t\t <\n",
      "61  \t\t =\n",
      "62  \t\t >\n",
      "63  \t\t ?\n",
      "64  \t\t @\n",
      "65  \t\t A\n",
      "66  \t\t B\n",
      "67  \t\t C\n",
      "68  \t\t D\n",
      "69  \t\t E\n",
      "70  \t\t F\n",
      "71  \t\t G\n",
      "72  \t\t H\n",
      "73  \t\t I\n",
      "74  \t\t J\n",
      "75  \t\t K\n",
      "76  \t\t L\n",
      "77  \t\t M\n",
      "78  \t\t N\n",
      "79  \t\t O\n",
      "80  \t\t P\n",
      "81  \t\t Q\n",
      "82  \t\t R\n",
      "83  \t\t S\n",
      "84  \t\t T\n",
      "85  \t\t U\n",
      "86  \t\t V\n",
      "87  \t\t W\n",
      "88  \t\t X\n",
      "89  \t\t Y\n",
      "90  \t\t Z\n",
      "91  \t\t [\n",
      "92  \t\t \\\n",
      "93  \t\t ]\n",
      "94  \t\t ^\n",
      "95  \t\t _\n",
      "96  \t\t `\n",
      "97  \t\t a\n",
      "98  \t\t b\n",
      "99  \t\t c\n",
      "100  \t\t d\n",
      "101  \t\t e\n",
      "102  \t\t f\n",
      "103  \t\t g\n",
      "104  \t\t h\n",
      "105  \t\t i\n",
      "106  \t\t j\n",
      "107  \t\t k\n",
      "108  \t\t l\n",
      "109  \t\t m\n",
      "110  \t\t n\n",
      "111  \t\t o\n",
      "112  \t\t p\n",
      "113  \t\t q\n",
      "114  \t\t r\n",
      "115  \t\t s\n",
      "116  \t\t t\n",
      "117  \t\t u\n",
      "118  \t\t v\n",
      "119  \t\t w\n",
      "120  \t\t x\n",
      "121  \t\t y\n",
      "122  \t\t z\n",
      "123  \t\t {\n",
      "124  \t\t |\n",
      "125  \t\t }\n",
      "126  \t\t ~\n",
      "127  \t\t \n",
      "128  \t\t \n",
      "129  \t\t \n",
      "130  \t\t \n",
      "131  \t\t \n",
      "132  \t\t \n",
      "133  \t\t ",
      "\n",
      "134  \t\t \n",
      "135  \t\t \n",
      "136  \t\t \n",
      "137  \t\t \n",
      "138  \t\t \n",
      "139  \t\t \n",
      "140  \t\t \n",
      "141  \t\t \n",
      "142  \t\t \n",
      "143  \t\t \n",
      "144  \t\t \n",
      "145  \t\t \n",
      "146  \t\t \n",
      "147  \t\t \n",
      "148  \t\t \n",
      "149  \t\t \n",
      "150  \t\t \n",
      "151  \t\t \n",
      "152  \t\t \n",
      "153  \t\t \n",
      "154  \t\t \n",
      "155  \t\t \n",
      "156  \t\t \n",
      "157  \t\t \n",
      "158  \t\t \n",
      "159  \t\t \n",
      "160  \t\t  \n",
      "161  \t\t ¡\n",
      "162  \t\t ¢\n",
      "163  \t\t £\n",
      "164  \t\t ¤\n",
      "165  \t\t ¥\n",
      "166  \t\t ¦\n",
      "167  \t\t §\n",
      "168  \t\t ¨\n",
      "169  \t\t ©\n",
      "170  \t\t ª\n",
      "171  \t\t «\n",
      "172  \t\t ¬\n",
      "173  \t\t ­\n",
      "174  \t\t ®\n",
      "175  \t\t ¯\n",
      "176  \t\t °\n",
      "177  \t\t ±\n",
      "178  \t\t ²\n",
      "179  \t\t ³\n",
      "180  \t\t ´\n",
      "181  \t\t µ\n",
      "182  \t\t ¶\n",
      "183  \t\t ·\n",
      "184  \t\t ¸\n",
      "185  \t\t ¹\n",
      "186  \t\t º\n",
      "187  \t\t »\n",
      "188  \t\t ¼\n",
      "189  \t\t ½\n",
      "190  \t\t ¾\n",
      "191  \t\t ¿\n",
      "192  \t\t À\n",
      "193  \t\t Á\n",
      "194  \t\t Â\n",
      "195  \t\t Ã\n",
      "196  \t\t Ä\n",
      "197  \t\t Å\n",
      "198  \t\t Æ\n",
      "199  \t\t Ç\n",
      "200  \t\t È\n",
      "201  \t\t É\n",
      "202  \t\t Ê\n",
      "203  \t\t Ë\n",
      "204  \t\t Ì\n",
      "205  \t\t Í\n",
      "206  \t\t Î\n",
      "207  \t\t Ï\n",
      "208  \t\t Ð\n",
      "209  \t\t Ñ\n",
      "210  \t\t Ò\n",
      "211  \t\t Ó\n",
      "212  \t\t Ô\n",
      "213  \t\t Õ\n",
      "214  \t\t Ö\n",
      "215  \t\t ×\n",
      "216  \t\t Ø\n",
      "217  \t\t Ù\n",
      "218  \t\t Ú\n",
      "219  \t\t Û\n",
      "220  \t\t Ü\n",
      "221  \t\t Ý\n",
      "222  \t\t Þ\n",
      "223  \t\t ß\n",
      "224  \t\t à\n",
      "225  \t\t á\n",
      "226  \t\t â\n",
      "227  \t\t ã\n",
      "228  \t\t ä\n",
      "229  \t\t å\n",
      "230  \t\t æ\n",
      "231  \t\t ç\n",
      "232  \t\t è\n",
      "233  \t\t é\n",
      "234  \t\t ê\n",
      "235  \t\t ë\n",
      "236  \t\t ì\n",
      "237  \t\t í\n",
      "238  \t\t î\n",
      "239  \t\t ï\n",
      "240  \t\t ð\n",
      "241  \t\t ñ\n",
      "242  \t\t ò\n",
      "243  \t\t ó\n",
      "244  \t\t ô\n",
      "245  \t\t õ\n",
      "246  \t\t ö\n",
      "247  \t\t ÷\n",
      "248  \t\t ø\n",
      "249  \t\t ù\n",
      "250  \t\t ú\n",
      "251  \t\t û\n",
      "252  \t\t ü\n",
      "253  \t\t ý\n",
      "254  \t\t þ\n",
      "255  \t\t ÿ\n"
     ]
    }
   ],
   "source": [
    "# Print all the characters of Character Set\n",
    "print(\"ASCII CODE\\tVALUE\")\n",
    "for i in range(256):\n",
    "    print(i, \" \\t\\t\", chr(i))"
   ]
  },
  {
   "cell_type": "code",
   "execution_count": 4,
   "metadata": {},
   "outputs": [
    {
     "name": "stdout",
     "output_type": "stream",
     "text": [
      "65\n",
      "N\n"
     ]
    }
   ],
   "source": [
    "# Character to ASCII Value\n",
    "print(ord('A')) # Character to ASCII\n",
    "print(chr(78)) # ASCII to Character"
   ]
  },
  {
   "cell_type": "code",
   "execution_count": 13,
   "metadata": {},
   "outputs": [],
   "source": [
    "# Keywords\n",
    "    # Reserved word of language. (Predefined words which have unique and universal meaning in specific language)"
   ]
  },
  {
   "cell_type": "code",
   "execution_count": 14,
   "metadata": {},
   "outputs": [],
   "source": [
    "import keyword"
   ]
  },
  {
   "cell_type": "code",
   "execution_count": 17,
   "metadata": {},
   "outputs": [
    {
     "name": "stdout",
     "output_type": "stream",
     "text": [
      "['False', 'None', 'True', 'and', 'as', 'assert', 'async', 'await', 'break', 'class', 'continue', 'def', 'del', 'elif', 'else', 'except', 'finally', 'for', 'from', 'global', 'if', 'import', 'in', 'is', 'lambda', 'nonlocal', 'not', 'or', 'pass', 'raise', 'return', 'try', 'while', 'with', 'yield']\n",
      "35\n"
     ]
    }
   ],
   "source": [
    "#help(keyword)\n",
    "print(keyword.kwlist)\n",
    "k_words = keyword.kwlist\n",
    "print(len(k_words))"
   ]
  },
  {
   "cell_type": "code",
   "execution_count": 1,
   "metadata": {},
   "outputs": [],
   "source": [
    "# Identifier - User Defined Key Words\n",
    "    # Name of variable (placeholder), function, class, object, constraints and others - defined by programmer\n",
    "\n",
    "# Naming Convensions\n",
    "    # Must start with alphabet (a-z A-Z) but can accept _ too\n",
    "    # Can have digit and _ (underscore) (a-zA-Z0-9_)\n",
    "    # Identifiers are Case Sensitive\n",
    "    # Can't be keyword\n",
    "    # Can't repeate\n",
    "    # Must be meaningfull\n",
    "\n",
    "# Note\n",
    "    # ClassName - PascalCase\n",
    "    # varaible_name, function_name, object_name - snake_case\n",
    "    # CONSTRAINTS - UPPERCASE"
   ]
  },
  {
   "cell_type": "code",
   "execution_count": 6,
   "metadata": {},
   "outputs": [],
   "source": [
    "abc = 21\n",
    "ABC = 32\n",
    "_var = 12\n",
    "\n",
    "# and = 89 # SyntaxError: invalid syntax\n",
    "# 1var = 32  # SyntaxError: invalid syntax"
   ]
  },
  {
   "cell_type": "code",
   "execution_count": 35,
   "metadata": {},
   "outputs": [
    {
     "name": "stdout",
     "output_type": "stream",
     "text": [
      "12\n",
      "21\n",
      "32\n"
     ]
    }
   ],
   "source": [
    "print(_var)\n",
    "print(abc)\n",
    "print(ABC)"
   ]
  },
  {
   "cell_type": "markdown",
   "metadata": {},
   "source": [
    "#### Varaibles\n",
    "- Named memory location, where we can store, retrieve, update value at programs runtime."
   ]
  },
  {
   "cell_type": "code",
   "execution_count": 2,
   "metadata": {},
   "outputs": [],
   "source": [
    "# Declare variable\n",
    "    # variable_name = value - direct value\n",
    "    # variable_name = input() - value from keyboard\n",
    "    # varaible_name - identifier naming convension"
   ]
  },
  {
   "cell_type": "code",
   "execution_count": 5,
   "metadata": {},
   "outputs": [
    {
     "name": "stdout",
     "output_type": "stream",
     "text": [
      "20\n",
      "30\n",
      "32\n"
     ]
    }
   ],
   "source": [
    "# Example-1\n",
    "var1 = 20\n",
    "var2 = 30\n",
    "var3 = 32\n",
    "print(var1)\n",
    "print(var2)\n",
    "print(var3)\n",
    "\n",
    "var4 = input() # input from keyboard\n",
    "\n",
    "var5 = var4 # value from other variable\n"
   ]
  },
  {
   "cell_type": "code",
   "execution_count": 4,
   "metadata": {},
   "outputs": [
    {
     "name": "stdout",
     "output_type": "stream",
     "text": [
      "24\n"
     ]
    }
   ],
   "source": [
    "# Example-2\n",
    "num1 = 21\n",
    "num2 = 3\n",
    "result = num1+num2\n",
    "print(result)"
   ]
  },
  {
   "cell_type": "code",
   "execution_count": 6,
   "metadata": {},
   "outputs": [
    {
     "name": "stdout",
     "output_type": "stream",
     "text": [
      "2\n",
      "3\n"
     ]
    }
   ],
   "source": [
    "# Default Value\n",
    "num1 = None # declare\n",
    "num2 = 2 # declare and initialize\n",
    "print(num2) # Value access # 2\n",
    "num2 = 3 # Value update\n",
    "print(num2) # 3"
   ]
  },
  {
   "cell_type": "code",
   "execution_count": 12,
   "metadata": {},
   "outputs": [
    {
     "name": "stdout",
     "output_type": "stream",
     "text": [
      "None\n",
      "True\n",
      "False\n",
      "1\n",
      "123.456\n",
      "(123456+789j)\n",
      "heat\n",
      "and\n"
     ]
    }
   ],
   "source": [
    "# Varaible and Value\n",
    "var1 = None\n",
    "print(var1)\n",
    "var1 = True\n",
    "print(var1)\n",
    "var1 = False\n",
    "print(var1)\n",
    "var1 = 1\n",
    "print(var1)\n",
    "var1 = 123.456\n",
    "print(var1)\n",
    "var1 = 123456+789J\n",
    "print(var1)\n",
    "var1 =\"heat\" # String - Type\n",
    "print(var1)\n",
    "var1 = \"and\" # Keyword\n",
    "print(var1)"
   ]
  },
  {
   "cell_type": "code",
   "execution_count": 8,
   "metadata": {},
   "outputs": [
    {
     "name": "stdout",
     "output_type": "stream",
     "text": [
      "123\n",
      "123\n"
     ]
    }
   ],
   "source": [
    "# Getting info about varable\n",
    "var1 = 123\n",
    "var2 = var1\n",
    "print(var1) # Accessing value\n",
    "print(var2) # Accessing value"
   ]
  },
  {
   "cell_type": "code",
   "execution_count": 80,
   "metadata": {},
   "outputs": [
    {
     "name": "stdout",
     "output_type": "stream",
     "text": [
      "89\n",
      "<class 'int'>\n",
      "140725623857568\n",
      "\n",
      "<class 'int'>\n",
      "False\n",
      "True\n",
      "False\n"
     ]
    }
   ],
   "source": [
    "# Type and Memory address\n",
    "var1 = 89\n",
    "print(var1) # Value\n",
    "print(type(var1)) # value type of variable\n",
    "print(id(var1)) # memory address of variable\n",
    "\n",
    "print()\n",
    "varN = 123\n",
    "print(type(varN))\n",
    "print(isinstance(varN, bool))\n",
    "print(isinstance(varN, int))\n",
    "print(isinstance(varN, float))"
   ]
  },
  {
   "cell_type": "code",
   "execution_count": 10,
   "metadata": {},
   "outputs": [
    {
     "name": "stdout",
     "output_type": "stream",
     "text": [
      "78\n",
      "78\n",
      "<class 'int'>\n",
      "<class 'int'>\n",
      "140725719277632\n",
      "140725719277632\n"
     ]
    }
   ],
   "source": [
    "var1 = 78\n",
    "var2 = var1\n",
    "print(var1)\n",
    "print(var2)\n",
    "print(type(var1))\n",
    "print(type(var2))\n",
    "print(id(var1))\n",
    "print(id(var2))"
   ]
  },
  {
   "cell_type": "code",
   "execution_count": 12,
   "metadata": {},
   "outputs": [
    {
     "name": "stdout",
     "output_type": "stream",
     "text": [
      "78\n",
      "7\n",
      "140725719277632\n",
      "140725719275360\n"
     ]
    }
   ],
   "source": [
    "var2 = 7\n",
    "print(var1)\n",
    "print(var2)\n",
    "print(id(var1))\n",
    "print(id(var2))"
   ]
  },
  {
   "cell_type": "code",
   "execution_count": 13,
   "metadata": {},
   "outputs": [
    {
     "name": "stdout",
     "output_type": "stream",
     "text": [
      "140725719276992\n",
      "140725719276992\n",
      "140725719276992\n"
     ]
    }
   ],
   "source": [
    "var1 = 58\n",
    "var2 = 58\n",
    "var3 = 58\n",
    "print(id(var1))\n",
    "print(id(var2))\n",
    "print(id(var3))"
   ]
  },
  {
   "cell_type": "code",
   "execution_count": 14,
   "metadata": {},
   "outputs": [],
   "source": [
    "# Delete the variable\n",
    "del var1\n",
    "del var2\n",
    "del var3"
   ]
  },
  {
   "cell_type": "code",
   "execution_count": 16,
   "metadata": {},
   "outputs": [],
   "source": [
    "# print(var1) # NameError: name 'var1' is not defined"
   ]
  },
  {
   "cell_type": "code",
   "execution_count": 4,
   "metadata": {},
   "outputs": [],
   "source": [
    "from sys import getsizeof"
   ]
  },
  {
   "cell_type": "code",
   "execution_count": 22,
   "metadata": {},
   "outputs": [
    {
     "name": "stdout",
     "output_type": "stream",
     "text": [
      "88\n"
     ]
    }
   ],
   "source": [
    "var1 = 123456789123456789123456789123456789123456789123456789123456789123456789123456789123456789123456789123456789123456789123456789123456789123456789\n",
    "print(getsizeof(var1))# bits"
   ]
  },
  {
   "cell_type": "code",
   "execution_count": 23,
   "metadata": {},
   "outputs": [],
   "source": [
    "# Task\n",
    "    #1. Retrieve value from memory address. (140725719276992) # Dec 7, 2020 - Submission Date/Line    "
   ]
  },
  {
   "cell_type": "code",
   "execution_count": 29,
   "metadata": {},
   "outputs": [
    {
     "name": "stdout",
     "output_type": "stream",
     "text": [
      "True\n",
      "140725718996816\n",
      "False\n",
      "140725718996848\n",
      "True\n",
      "140725718996816\n"
     ]
    }
   ],
   "source": [
    "var1 = True # Decalre and Assign\n",
    "print(var1)\n",
    "print(id(var1))  # 140725718996816\n",
    "\n",
    "var1 = False\n",
    "print(var1)\n",
    "print(id(var1)) # 140725718996848\n",
    "\n",
    "var1 = True\n",
    "print(var1)\n",
    "print(id(var1)) # 140725718996816"
   ]
  },
  {
   "cell_type": "code",
   "execution_count": 34,
   "metadata": {},
   "outputs": [
    {
     "name": "stdout",
     "output_type": "stream",
     "text": [
      "None\n",
      "140725719046272\n",
      "True\n",
      "140725718996816\n",
      "False\n",
      "140725718996848\n",
      "123\n",
      "140725719279072\n",
      "123.456\n",
      "2272469720784\n"
     ]
    }
   ],
   "source": [
    "var1 = None\n",
    "print(var1)\n",
    "print(id(var1))\n",
    "\n",
    "var1 = True\n",
    "print(var1)\n",
    "print(id(var1))\n",
    "\n",
    "var1 = False\n",
    "print(var1)\n",
    "print(id(var1))\n",
    "\n",
    "var1 = 123\n",
    "print(var1)\n",
    "print(id(var1))\n",
    "\n",
    "var1 = 123.456\n",
    "print(var1)\n",
    "print(id(var1))"
   ]
  },
  {
   "cell_type": "markdown",
   "metadata": {},
   "source": [
    "### Data Types \n",
    "#### Value Type (Single Value)\n",
    "* None\n",
    "* bool - Boolean (True/False)\n",
    "* int - Integer Number\n",
    "* float - Floatng Point Number\n",
    "* complex - Complex Number\n",
    "\n",
    "#### Collections Type (Multi-Values)\n",
    "* array - Collection of Numbers (similary types)\n",
    "* str - String (Read Only)\n",
    "* list - List (Any types, Read and Write)\n",
    "* tuple - Tuple (Any types, Read Only)\n",
    "* set - Sets (Any tupes, Read only, Unique)\n",
    "* dict - Dictionary (key: value)\n"
   ]
  },
  {
   "cell_type": "markdown",
   "metadata": {},
   "source": [
    "#### None"
   ]
  },
  {
   "cell_type": "code",
   "execution_count": 43,
   "metadata": {},
   "outputs": [
    {
     "name": "stdout",
     "output_type": "stream",
     "text": [
      "None\n",
      "<class 'NoneType'>\n",
      "140725719046272\n",
      "16\n"
     ]
    }
   ],
   "source": [
    "# None - Nothing\n",
    "var1 = None\n",
    "print(var1)\n",
    "print(type(var1))\n",
    "print(id(var1))\n",
    "print(getsizeof(var1))"
   ]
  },
  {
   "cell_type": "markdown",
   "metadata": {},
   "source": [
    "#### bool - Boolean (True/False)"
   ]
  },
  {
   "cell_type": "code",
   "execution_count": 42,
   "metadata": {},
   "outputs": [
    {
     "name": "stdout",
     "output_type": "stream",
     "text": [
      "False\n",
      "<class 'bool'>\n",
      "140725718996848\n",
      "24\n"
     ]
    }
   ],
   "source": [
    "# bool - Boolean (True/False) # VVIP\n",
    "var1 = False\n",
    "print(var1)\n",
    "print(type(var1))\n",
    "print(id(var1))\n",
    "print(getsizeof(var1))"
   ]
  },
  {
   "cell_type": "markdown",
   "metadata": {},
   "source": [
    "#### int -Integer Numebr (Whole Number)"
   ]
  },
  {
   "cell_type": "code",
   "execution_count": 48,
   "metadata": {},
   "outputs": [
    {
     "name": "stdout",
     "output_type": "stream",
     "text": [
      "123\n",
      "<class 'int'>\n",
      "140725719279072\n",
      "28\n"
     ]
    }
   ],
   "source": [
    "# int - Integer (Whole Number) # VVIP\n",
    "var1 = 123\n",
    "print(var1)\n",
    "print(type(var1))\n",
    "print(id(var1))\n",
    "print(getsizeof(var1))"
   ]
  },
  {
   "cell_type": "markdown",
   "metadata": {},
   "source": [
    "#### float - Floating Point Number (Decimal Value)"
   ]
  },
  {
   "cell_type": "code",
   "execution_count": 5,
   "metadata": {},
   "outputs": [
    {
     "name": "stdout",
     "output_type": "stream",
     "text": [
      "123.584754754756\n",
      "<class 'float'>\n",
      "2664700844848\n",
      "24\n"
     ]
    }
   ],
   "source": [
    "# float - Real Number (Decimal Value) # VVIP\n",
    "var1 = 123.584754754756\n",
    "print(var1)\n",
    "print(type(var1))\n",
    "print(id(var1))\n",
    "print(getsizeof(var1))"
   ]
  },
  {
   "cell_type": "markdown",
   "metadata": {},
   "source": [
    "### complex - Complex Number (real number + imaginary number)"
   ]
  },
  {
   "cell_type": "code",
   "execution_count": 6,
   "metadata": {},
   "outputs": [
    {
     "name": "stdout",
     "output_type": "stream",
     "text": [
      "(12345+6789j)\n",
      "<class 'complex'>\n",
      "2664700844560\n",
      "32\n"
     ]
    }
   ],
   "source": [
    "# complex (real_part+imaginary_part) ?\n",
    "var1 = 12345+6789J # 12345+6789j\n",
    "print(var1)\n",
    "print(type(var1))\n",
    "print(id(var1))\n",
    "print(getsizeof(var1))"
   ]
  },
  {
   "cell_type": "markdown",
   "metadata": {},
   "source": [
    "#### Note \n",
    "* bool - True | False\n",
    "* int - 1234\n",
    "* float - 1234.56789"
   ]
  },
  {
   "cell_type": "markdown",
   "metadata": {},
   "source": [
    "#### Collections Type (Multi-Values)\n",
    "* array - Collection of numbers.\n",
    "* str \" \" - String (name, address, email, phone, others) - \" \" | \"\"\" \"\"\" | ' ' | ''' '''\n",
    "* list [ ] - List (Multiple values of any types) [value1, valu2, ...., valueN] - Read and Write\n",
    "* tuple ( ) - Tuple (Multiple values of any types) - Read Only\n",
    "* set { } - Sets (Collection of unique elements) - Read Only\n",
    "* dict {key: value} - Dictionary (Key:value-collections) -  Read and Write"
   ]
  },
  {
   "cell_type": "markdown",
   "metadata": {},
   "source": [
    "#### array - Collection of Numbers"
   ]
  },
  {
   "cell_type": "code",
   "execution_count": 66,
   "metadata": {},
   "outputs": [],
   "source": [
    "from array import array"
   ]
  },
  {
   "cell_type": "code",
   "execution_count": 69,
   "metadata": {},
   "outputs": [],
   "source": [
    "# declare\n",
    "array1 = array('i', [2, 4, 5, 7, 3, 2, 6])\n",
    "array2 = array1"
   ]
  },
  {
   "cell_type": "code",
   "execution_count": 70,
   "metadata": {},
   "outputs": [
    {
     "name": "stdout",
     "output_type": "stream",
     "text": [
      "array('i', [2, 4, 5, 7, 3, 2, 6])\n",
      "array('i', [2, 4, 5, 7, 3, 2, 6])\n"
     ]
    }
   ],
   "source": [
    "print(array1)\n",
    "print(array2)"
   ]
  },
  {
   "cell_type": "code",
   "execution_count": 72,
   "metadata": {},
   "outputs": [
    {
     "name": "stdout",
     "output_type": "stream",
     "text": [
      "<class 'array.array'>\n",
      "<class 'array.array'>\n"
     ]
    }
   ],
   "source": [
    "print(type(array1))\n",
    "print(type(array2))"
   ]
  },
  {
   "cell_type": "code",
   "execution_count": 73,
   "metadata": {},
   "outputs": [
    {
     "name": "stdout",
     "output_type": "stream",
     "text": [
      "2664735295088\n",
      "2664735295088\n"
     ]
    }
   ],
   "source": [
    "print(id(array1))\n",
    "print(id(array2))"
   ]
  },
  {
   "cell_type": "code",
   "execution_count": 74,
   "metadata": {},
   "outputs": [
    {
     "name": "stdout",
     "output_type": "stream",
     "text": [
      "92\n",
      "92\n"
     ]
    }
   ],
   "source": [
    "print(getsizeof(array1))\n",
    "print(getsizeof(array2))"
   ]
  },
  {
   "cell_type": "code",
   "execution_count": 78,
   "metadata": {},
   "outputs": [
    {
     "name": "stdout",
     "output_type": "stream",
     "text": [
      "7\n",
      "2\n",
      "7\n",
      "29\n"
     ]
    }
   ],
   "source": [
    "print(len(array1))\n",
    "print(min(array1))\n",
    "print(max(array1))\n",
    "print(sum(array1))"
   ]
  },
  {
   "cell_type": "code",
   "execution_count": 83,
   "metadata": {},
   "outputs": [
    {
     "name": "stdout",
     "output_type": "stream",
     "text": [
      "2\n",
      "4\n",
      "array('i', [2, 4, 5, 7, 3, 2, 6])\n",
      "array('i', [2, 5, 3, 6])\n",
      "array('i', [6, 2, 3, 7, 5, 4, 2])\n"
     ]
    }
   ],
   "source": [
    "# indexing\n",
    "print(array1[0])\n",
    "print(array1[1])\n",
    "# print(array1[9]) # IndexError: array index out of range\n",
    "\n",
    "# Slicing\n",
    "print(array1[:])\n",
    "print(array1[::2])\n",
    "print(array1[::-1])"
   ]
  },
  {
   "cell_type": "code",
   "execution_count": 84,
   "metadata": {},
   "outputs": [
    {
     "name": "stdout",
     "output_type": "stream",
     "text": [
      "array('i', [2, 4, 5, 7, 9, 2, 6])\n"
     ]
    }
   ],
   "source": [
    "# Upate\n",
    "array1[4] = 9\n",
    "print(array1)"
   ]
  },
  {
   "cell_type": "markdown",
   "metadata": {},
   "source": [
    "#### str - String"
   ]
  },
  {
   "cell_type": "code",
   "execution_count": 51,
   "metadata": {},
   "outputs": [],
   "source": [
    "# String\n",
    "    # Individual Character of Characters Set - Character (Character Value (Symbol)| ASCII Value (Number))    \n",
    "    # A, B, C, Z, 1, 0, +, -, /, ?,.....~ : Each character have unique identification number - ASCII Value\n",
    "    # Single or multiple characters within \" \" or \"\"\" \"\"\" or ' ' or ''' '''"
   ]
  },
  {
   "cell_type": "code",
   "execution_count": 59,
   "metadata": {},
   "outputs": [
    {
     "name": "stdout",
     "output_type": "stream",
     "text": [
      "123\n",
      "<class 'str'>\n",
      "2272469495600\n",
      "52\n"
     ]
    }
   ],
   "source": [
    "var1 = \"123\"\n",
    "var2 = \"\"\"123\"\"\"\n",
    "var3 = '123'\n",
    "var4 = '''123'''\n",
    "\n",
    "print(var1)\n",
    "print(type(var1))\n",
    "print(id(var1))\n",
    "print(getsizeof(var1))"
   ]
  },
  {
   "cell_type": "code",
   "execution_count": 62,
   "metadata": {},
   "outputs": [
    {
     "name": "stdout",
     "output_type": "stream",
     "text": [
      "3\n",
      "3\n",
      "1\n"
     ]
    }
   ],
   "source": [
    "# Collection\n",
    "print(len(var1))\n",
    "print(max(var1))\n",
    "print(min(var1))\n",
    "# print(sum(var1))  # Numeric type (int, float)"
   ]
  },
  {
   "cell_type": "code",
   "execution_count": 2,
   "metadata": {},
   "outputs": [],
   "source": [
    "# index - position of indvidual character in string\n",
    "str1 = \"String\" # Characters - 6 (index 0 to 6-1 (i.e. 5))\n",
    "\"\"\"\n",
    "   S   t   r   i   n   g\n",
    "   0   1   2   3   4   5  Positive Indexing\n",
    "  -6  -5  -4  -3  -2  -1  Negative Indexing\n",
    "\"\"\""
   ]
  },
  {
   "cell_type": "code",
   "execution_count": 28,
   "metadata": {},
   "outputs": [
    {
     "name": "stdout",
     "output_type": "stream",
     "text": [
      "g\n",
      "S\n",
      "\n",
      "<class 'str'>\n",
      "\n",
      "1959784697648\n",
      "\n",
      "1959780615152\n",
      "1959778903536\n",
      "1959778712112\n",
      "1959778928496\n",
      "1959778928752\n",
      "1959780729456\n"
     ]
    }
   ],
   "source": [
    "# Multi-line comment\n",
    "\"\"\"\n",
    "print(str1)\n",
    "print(str1[0])\n",
    "print(str1[1])\n",
    "print(str1[2])\n",
    "print(str1[3])\n",
    "print(str1[4])\n",
    "print(str1[5])\n",
    "# print(str1[6]) # IndexError: string index out of range\n",
    "\"\"\"\n",
    "print(str1[-1])\n",
    "print(str1[-6])\n",
    "# print(str1[-7]) # IndexError: string index out of range\n",
    "print()\n",
    "\n",
    "print(type(str1[0]))\n",
    "print()\n",
    "print(id(str1))\n",
    "print()\n",
    "print(id(str1[0]))\n",
    "print(id(str1[1]))\n",
    "print(id(str1[2]))\n",
    "print(id(str1[3]))\n",
    "print(id(str1[4]))\n",
    "print(id(str1[5]))"
   ]
  },
  {
   "cell_type": "code",
   "execution_count": 45,
   "metadata": {},
   "outputs": [
    {
     "name": "stdout",
     "output_type": "stream",
     "text": [
      "74\n",
      "Lorem\n",
      "or\n",
      "Lorem Ipsum is simply dummy text of the printing and typesetting industry.\n",
      "LeIuisp m xot ii dystgnsy\n",
      "Lorem Ipsum is simply dummy text of the printing and typesetting industry.\n"
     ]
    }
   ],
   "source": [
    "# Slicing\n",
    "str1 = \"Lorem Ipsum is simply dummy text of the printing and typesetting industry.\"\n",
    "print(len(str1))\n",
    "# variable[start:stop]\n",
    "print(str1[0:5]) # 0 to less than 5\n",
    "print(str1[1:3]) # 1 to less than 3\n",
    "# print(str1[0:100]) # 0 to less than 100\n",
    "print(str1)\n",
    "print(str1[0:100:3])# start:stop:step by\n",
    "print(str1[0:len(str1): 1])# start:stop:step by"
   ]
  },
  {
   "cell_type": "code",
   "execution_count": 51,
   "metadata": {},
   "outputs": [
    {
     "name": "stdout",
     "output_type": "stream",
     "text": [
      "Lorem Ipsum is simply dummy text of the printing and typesetting industry.\n",
      "LrmIsmi ipydmytx ftepitn n yeetn nuty\n",
      "LeIuisp m xot ii dystgnsy\n",
      ".yrtsudni gnittesepyt dna gnitnirp eht fo txet ymmud ylpmis si muspI meroL\n"
     ]
    }
   ],
   "source": [
    "print(str1[::])\n",
    "print(str1[::2])\n",
    "print(str1[::3])\n",
    "print(str1[::-1])"
   ]
  },
  {
   "cell_type": "markdown",
   "metadata": {},
   "source": [
    "### list - List - Collection of any type of value or multiple values"
   ]
  },
  {
   "cell_type": "code",
   "execution_count": 62,
   "metadata": {},
   "outputs": [
    {
     "name": "stdout",
     "output_type": "stream",
     "text": [
      "[4, 5, 6, 7, 8]\n",
      "[True, False, 123, 4567.89, (12345+6789j), 'Kathmandu']\n",
      "[1, 'Bibek Rawat', 'Makalbari, Kathmandu', '985432123']\n",
      "[2, 'Arjun Bhatarai', 'Pepsicola, Kathmandu', '985438954']\n",
      "[3, 'Nila Rai', 'Balaju, Kathmandu', '9854345178']\n",
      "[4, 'Puskar Karki', 'Kalanki, Kathmandu', '9847586941']\n",
      "[5, 'Anish Bhattarai', 'Pepsicola, Kathmandu', '7894561235']\n",
      "\n",
      "[[1, 'Bibek Rawat', 'Makalbari, Kathmandu', '985432123'], [2, 'Arjun Bhatarai', 'Pepsicola, Kathmandu', '985438954'], [3, 'Nila Rai', 'Balaju, Kathmandu', '9854345178'], [4, 'Puskar Karki', 'Kalanki, Kathmandu', '9847586941'], [5, 'Anish Bhattarai', 'Pepsicola, Kathmandu', '7894561235']]\n"
     ]
    }
   ],
   "source": [
    "list1 = [4, 5, 6, 7, 8]\n",
    "\n",
    "list2 = [True, False, 123, 4567.89, 12345+6789j, \"Kathmandu\"]\n",
    "\n",
    "list3 = [1, 'Bibek Rawat', 'Makalbari, Kathmandu', '985432123']\n",
    "list4 = [2, 'Arjun Bhatarai', 'Pepsicola, Kathmandu', '985438954']\n",
    "list5 = [3, 'Nila Rai', 'Balaju, Kathmandu', '9854345178']\n",
    "list6 = [4, 'Puskar Karki', 'Kalanki, Kathmandu', '9847586941']\n",
    "list7 = [5, 'Anish Bhattarai', 'Pepsicola, Kathmandu', '7894561235']\n",
    "\n",
    "print(list1)\n",
    "print(list2)\n",
    "print(list3)\n",
    "print(list4)\n",
    "print(list5)\n",
    "print(list6)\n",
    "print(list7)\n",
    "print()\n",
    "\n",
    "persons = [list3, list4, list5, list6, list7]\n",
    "print(persons)# Nested List"
   ]
  },
  {
   "cell_type": "code",
   "execution_count": 52,
   "metadata": {},
   "outputs": [
    {
     "name": "stdout",
     "output_type": "stream",
     "text": [
      "6\n",
      "4\n",
      "8\n",
      "[4, 5, 6, 7, 8]\n",
      "[8, 7, 6, 5, 4]\n"
     ]
    }
   ],
   "source": [
    "# indexing [4, 5, 6, 7, 8]  - Pick/Update-Edit\n",
    "# print(list1[5])\n",
    "print(list1[2])\n",
    "print(list1[0])\n",
    "print(list1[4])\n",
    "# print(list1[6]) # IndexError: list index out of range\n",
    "\n",
    "# slicing - Pick - Extract\n",
    "print(list1[0:6])\n",
    "print(list1[::-1])"
   ]
  },
  {
   "cell_type": "code",
   "execution_count": 53,
   "metadata": {},
   "outputs": [
    {
     "name": "stdout",
     "output_type": "stream",
     "text": [
      "[4, 5, 9, 7, 8]\n"
     ]
    }
   ],
   "source": [
    "# Update value on list\n",
    "list1[2] = 9\n",
    "print(list1)"
   ]
  },
  {
   "cell_type": "code",
   "execution_count": 59,
   "metadata": {},
   "outputs": [
    {
     "name": "stdout",
     "output_type": "stream",
     "text": [
      "[4, 5, 9, 7, 8]\n",
      "4 5 9 7 8 "
     ]
    }
   ],
   "source": [
    "# Print all the items of list\n",
    "print(list1)\n",
    "\n",
    "for item in list1:\n",
    "    print (item, end=' ')"
   ]
  },
  {
   "cell_type": "code",
   "execution_count": 60,
   "metadata": {},
   "outputs": [
    {
     "name": "stdout",
     "output_type": "stream",
     "text": [
      "5\n",
      "9\n",
      "4\n",
      "33\n"
     ]
    }
   ],
   "source": [
    "# Collection functions\n",
    "print(len(list1))\n",
    "print(max(list1))\n",
    "print(min(list1))\n",
    "print(sum(list1))"
   ]
  },
  {
   "cell_type": "markdown",
   "metadata": {},
   "source": [
    "#### tupel - () Tuple - Collections of multuple values - Read Only, Function Parameter"
   ]
  },
  {
   "cell_type": "code",
   "execution_count": 10,
   "metadata": {},
   "outputs": [
    {
     "name": "stdout",
     "output_type": "stream",
     "text": [
      "(4, 5, 6, 7, 8)\n",
      "(4, 5, 6, 7, 8)\n",
      "<class 'tuple'>\n",
      "<class 'tuple'>\n",
      "2664700207328\n",
      "2664700207328\n",
      "80\n",
      "80\n"
     ]
    }
   ],
   "source": [
    "# Declare\n",
    "tuple1 = (4, 5, 6, 7, 8)\n",
    "tuple2 = tuple1\n",
    "\n",
    "print(tuple1)\n",
    "print(tuple2)\n",
    "print(type(tuple1))\n",
    "print(type(tuple2))\n",
    "print(id(tuple1))\n",
    "print(id(tuple2))\n",
    "print(getsizeof(tuple1))\n",
    "print(getsizeof(tuple2))"
   ]
  },
  {
   "cell_type": "code",
   "execution_count": 12,
   "metadata": {},
   "outputs": [
    {
     "name": "stdout",
     "output_type": "stream",
     "text": [
      "(4, 5, 6, 7, 8)\n",
      "4 5 6 7 8 "
     ]
    }
   ],
   "source": [
    "# iteration \n",
    "print(tuple1)\n",
    "for item in tuple1:\n",
    "    print(item, end =' ')"
   ]
  },
  {
   "cell_type": "code",
   "execution_count": 18,
   "metadata": {},
   "outputs": [
    {
     "name": "stdout",
     "output_type": "stream",
     "text": [
      "4\n",
      "8\n",
      "8\n",
      "4\n"
     ]
    }
   ],
   "source": [
    "# Indexing\n",
    "print(tuple1[0])\n",
    "print(tuple1[4])\n",
    "# print(tuple1[5]) # IndexError: tuple index out of range\n",
    "\n",
    "print(tuple1[-1])\n",
    "print(tuple1[-5])\n",
    "# print(tuple1[-6]) # IndexError: tuple index out of range"
   ]
  },
  {
   "cell_type": "code",
   "execution_count": 20,
   "metadata": {},
   "outputs": [
    {
     "name": "stdout",
     "output_type": "stream",
     "text": [
      "(4, 5, 6, 7, 8)\n",
      "(8, 7, 6, 5, 4)\n"
     ]
    }
   ],
   "source": [
    "# Slicing\n",
    "print(tuple1[::])\n",
    "print(tuple1[::-1])"
   ]
  },
  {
   "cell_type": "code",
   "execution_count": 29,
   "metadata": {},
   "outputs": [
    {
     "name": "stdout",
     "output_type": "stream",
     "text": [
      "4\n",
      "8\n",
      "30\n",
      "5\n"
     ]
    }
   ],
   "source": [
    "# collection methods\n",
    "print(min(tuple1))\n",
    "print(max(tuple1))\n",
    "print(sum(tuple1))\n",
    "print(len(tuple1))"
   ]
  },
  {
   "cell_type": "markdown",
   "metadata": {},
   "source": [
    "#### set - {} Sets (Collection of unique elements)"
   ]
  },
  {
   "cell_type": "code",
   "execution_count": 27,
   "metadata": {},
   "outputs": [
    {
     "name": "stdout",
     "output_type": "stream",
     "text": [
      "{0, 1, 2, 3, 4, 5, 6, 7, 8, 9}\n",
      "{0, 1, 2, 3, 4, 5, 6, 7, 8, 9}\n",
      "<class 'set'>\n",
      "<class 'set'>\n",
      "2664701795904\n",
      "2664701795904\n",
      "728\n",
      "728\n"
     ]
    }
   ],
   "source": [
    "# decalre\n",
    "set1 = {3,4,5,6,7,8,9,0,2,2,4,1,3,3,5,6,7}\n",
    "set2 = set1\n",
    "print(set1)\n",
    "print(set2)\n",
    "print(type(set1))\n",
    "print(type(set2))\n",
    "print(id(set1))\n",
    "print(id(set2))\n",
    "print(getsizeof(set1))\n",
    "print(getsizeof(set2))"
   ]
  },
  {
   "cell_type": "code",
   "execution_count": 31,
   "metadata": {},
   "outputs": [],
   "source": [
    "# indexing -No\n",
    "# print(set1[0]) # TypeError: 'set' object is not subscriptable\n"
   ]
  },
  {
   "cell_type": "code",
   "execution_count": 33,
   "metadata": {},
   "outputs": [],
   "source": [
    "# Slicing - No\n",
    "# print(set1[::]) # TypeError: 'set' object is not subscriptable"
   ]
  },
  {
   "cell_type": "code",
   "execution_count": 34,
   "metadata": {},
   "outputs": [
    {
     "name": "stdout",
     "output_type": "stream",
     "text": [
      "0 1 2 3 4 5 6 7 8 9 "
     ]
    }
   ],
   "source": [
    "# Iterating\n",
    "for item in set1:\n",
    "    print(item, end=\" \")"
   ]
  },
  {
   "cell_type": "code",
   "execution_count": 37,
   "metadata": {},
   "outputs": [
    {
     "name": "stdout",
     "output_type": "stream",
     "text": [
      "0\n",
      "9\n",
      "45\n",
      "10\n"
     ]
    }
   ],
   "source": [
    "# collection methods\n",
    "print(min(set1))\n",
    "print(max(set1))\n",
    "print(sum(set1))\n",
    "print(len(set1))"
   ]
  },
  {
   "cell_type": "markdown",
   "metadata": {},
   "source": [
    "#### dict {key: value} - Dictionary (Key:value-collections) -  Read and Write - WEB API"
   ]
  },
  {
   "cell_type": "code",
   "execution_count": 65,
   "metadata": {},
   "outputs": [
    {
     "name": "stdout",
     "output_type": "stream",
     "text": [
      "{'id': 1, 'fullname': 'Raj Rai', 'caddress': 'Ktm'}\n",
      "{'id': 1, 'fullname': 'Raj Rai', 'caddress': 'Ktm'}\n",
      "<class 'dict'>\n",
      "<class 'dict'>\n",
      "2664734998784\n",
      "2664734998784\n",
      "232\n",
      "232\n"
     ]
    }
   ],
   "source": [
    "# decalre\n",
    "dict1 = {'id': 1, 'fullname': 'Raj Rai', 'caddress':'Ktm'}\n",
    "dict2 = dict1\n",
    "\n",
    "print(dict1)\n",
    "print(dict2)\n",
    "print(type(dict1))\n",
    "print(type(dict2))\n",
    "print(id(dict1))\n",
    "print(id(dict2))\n",
    "print(getsizeof(dict1))\n",
    "print(getsizeof(dict2))"
   ]
  },
  {
   "cell_type": "code",
   "execution_count": 45,
   "metadata": {},
   "outputs": [],
   "source": [
    "# indexing\n",
    "# print(dict1[0]) # KeyError: 0\n",
    "\n",
    "# slicing\n",
    "# print(dict1[::]) # IndentationError: unexpected indent"
   ]
  },
  {
   "cell_type": "code",
   "execution_count": 54,
   "metadata": {},
   "outputs": [
    {
     "name": "stdout",
     "output_type": "stream",
     "text": [
      "{'id': 1, 'fullname': 'Raj Rai', 'caddress': 'Ktm'}\n",
      "\n",
      "1\n",
      "Raj Rai\n",
      "Ktm\n",
      "\n",
      "dict_items([('id', 1), ('fullname', 'Raj Rai'), ('caddress', 'Ktm')])\n",
      "\n",
      "dict_keys(['id', 'fullname', 'caddress'])\n",
      "\n",
      "dict_values([1, 'Raj Rai', 'Ktm'])\n"
     ]
    }
   ],
   "source": [
    "# Retrieve value\n",
    "print(dict1)\n",
    "print()\n",
    "print(dict1['id'])\n",
    "print(dict1['fullname'])\n",
    "print(dict1['caddress'])\n",
    "print()\n",
    "print(dict1.items())\n",
    "print()\n",
    "print(dict1.keys())\n",
    "print()\n",
    "print(dict1.values())"
   ]
  },
  {
   "cell_type": "code",
   "execution_count": 56,
   "metadata": {},
   "outputs": [
    {
     "name": "stdout",
     "output_type": "stream",
     "text": [
      "{'id': 34, 'fullname': 'Raj Rai', 'caddress': 'Ktm'}\n"
     ]
    }
   ],
   "source": [
    "# updating\n",
    "dict1['id']=34\n",
    "print(dict1)"
   ]
  },
  {
   "cell_type": "code",
   "execution_count": 57,
   "metadata": {},
   "outputs": [],
   "source": [
    "# Key - ADD\n",
    "dict1['email']='info@gmail.com'"
   ]
  },
  {
   "cell_type": "code",
   "execution_count": 58,
   "metadata": {},
   "outputs": [
    {
     "name": "stdout",
     "output_type": "stream",
     "text": [
      "{'id': 34, 'fullname': 'Raj Rai', 'caddress': 'Ktm', 'email': 'info@gmail.com'}\n"
     ]
    }
   ],
   "source": [
    "print(dict1)"
   ]
  },
  {
   "cell_type": "code",
   "execution_count": 60,
   "metadata": {},
   "outputs": [],
   "source": [
    "# key - delete\n",
    "del dict1['email']"
   ]
  },
  {
   "cell_type": "code",
   "execution_count": 61,
   "metadata": {},
   "outputs": [
    {
     "name": "stdout",
     "output_type": "stream",
     "text": [
      "{'id': 34, 'fullname': 'Raj Rai', 'caddress': 'Ktm'}\n"
     ]
    }
   ],
   "source": [
    "print(dict1)"
   ]
  },
  {
   "cell_type": "code",
   "execution_count": 62,
   "metadata": {},
   "outputs": [
    {
     "name": "stdout",
     "output_type": "stream",
     "text": [
      "id 34\n",
      "fullname Raj Rai\n",
      "caddress Ktm\n"
     ]
    }
   ],
   "source": [
    "# Iteration\n",
    "for key, value in dict1.items():\n",
    "    print(key, value)"
   ]
  },
  {
   "cell_type": "code",
   "execution_count": 63,
   "metadata": {},
   "outputs": [
    {
     "name": "stdout",
     "output_type": "stream",
     "text": [
      "id\n",
      "fullname\n",
      "caddress\n"
     ]
    }
   ],
   "source": [
    "for key in dict1.keys():\n",
    "    print(key)"
   ]
  },
  {
   "cell_type": "code",
   "execution_count": 64,
   "metadata": {},
   "outputs": [
    {
     "name": "stdout",
     "output_type": "stream",
     "text": [
      "34\n",
      "Raj Rai\n",
      "Ktm\n"
     ]
    }
   ],
   "source": [
    "for value in dict1.values():\n",
    "    print(value)"
   ]
  },
  {
   "cell_type": "markdown",
   "metadata": {},
   "source": [
    "#### Type Conversion\n",
    "Convert data from one type to another type.\n",
    "- bool, int, float, complex, str, array, list, tuple, set, dict"
   ]
  },
  {
   "cell_type": "code",
   "execution_count": 34,
   "metadata": {},
   "outputs": [
    {
     "name": "stdout",
     "output_type": "stream",
     "text": [
      "<class 'bool'>\n",
      "<class 'int'>\n",
      "<class 'float'>\n",
      "<class 'complex'>\n",
      "<class 'str'>\n"
     ]
    }
   ],
   "source": [
    "from array import array\n",
    "\n",
    "var1 = True\n",
    "print(type(var1))\n",
    "\n",
    "var2 = int(var1) # bool to int\n",
    "print(type(var2))\n",
    "\n",
    "var3 = float(var1) # bool to float\n",
    "print(type(var3))\n",
    "\n",
    "var4 = complex(var1)# bool to complex\n",
    "print(type(var4))\n",
    "\n",
    "var5 = str(var1)\n",
    "print(type(var5))\n",
    "\n",
    "# var6 = array(var1) # TypeError: array() argument 1 must be a unicode character, not bool\n",
    "# print(type(var6))\n",
    "\n",
    "# var6 = list(var1) # TypeError: 'bool' object is not iterable\n",
    "# print(type(var6)) \n",
    "\n",
    "# var6 = tuple(var1) # TypeError: 'bool' object is not iterable\n",
    "# print(type(var6)) \n",
    "\n",
    "# var6 = set(var1) # TypeError: 'bool' object is not iterable\n",
    "# print(type(var6)) \n",
    "\n",
    "# var6 = dict(var1) # TypeError: 'bool' object is not iterable\n",
    "# print(type(var6)) "
   ]
  },
  {
   "cell_type": "code",
   "execution_count": null,
   "metadata": {},
   "outputs": [],
   "source": [
    "# Task\n",
    "    # bool -> int, float, complex, str, array, list, tuple, set, dict\n",
    "    # int -> bool, float, complex, str, array, list, tuple, set, dict\n",
    "    # float -> bool, int, complex, str, array, list, tuple, set, dict\n",
    "    # complex -> bool, int, float, str, array, list, tuple, set, dict\n",
    "    # str -> bool, int, float, complex, array, list, tuple, set, dict\n",
    "    # array -> bool, int, float, complex, str, list, tuple, set, dict\n",
    "    # list -> bool, int, float, complex, str, array, tuple, set, dict\n",
    "    # tuple -> bool, int, float, complex, str, array, list, set, dict\n",
    "    # set -> bool, int, float, complex, str, array, list, tuple, dict\n",
    "    # dict -> bool, int, float, complex, str, array, list, tuple, set"
   ]
  },
  {
   "cell_type": "markdown",
   "metadata": {},
   "source": [
    "#### Operators\n",
    "Special Alphabet/Character which can instruct CPU to perform certain task.\n",
    "\n",
    "- Operator - Individual/group of symbol(s) to perform certain task. | Process\n",
    "- Fuction/Command/Methods/Properties - Group of code to peform certain task.\n",
    "\n",
    "##### Types \n",
    "* Assignment Operator\n",
    "    - Simple Assignment\n",
    "    - Multiple Assignment\n",
    "    - Short-hand Assignment\n",
    "* Arithmetic Operators (+, -, *, * *', /, //, %) \n",
    "    - Value (Numerical - int, float)\n",
    "    - Two values\n",
    "* Conditional Operator (Comparision Operator) - (==, !=, >, <, >=, <=)\n",
    "    - Compares two values and generate boolean result.\n",
    "* Logical Operator - and, or, not\n",
    "    - Compares two or more than two conditions and generate single boolean result\n",
    "* Others Operator\n",
    "    - Identity Operator - is , is not\n",
    "    - Membership operator - in, not in\n",
    "    - Dot operator - ."
   ]
  },
  {
   "cell_type": "markdown",
   "metadata": {},
   "source": [
    "### Assignment Operator\n",
    "    - Simple Assignment ( var1 = value)\n",
    "    - Multiple Assignment ( var1 = var2 = value)\n",
    "    - Short-hand Assignment (var1 +=52)"
   ]
  },
  {
   "cell_type": "code",
   "execution_count": 64,
   "metadata": {},
   "outputs": [
    {
     "name": "stdout",
     "output_type": "stream",
     "text": [
      "32\n",
      "45 54\n",
      "var1  45\n",
      "var2  54\n",
      "54 45\n"
     ]
    }
   ],
   "source": [
    "# Simple Assignment ( var = value)\n",
    "var1 = 32\n",
    "print(var1)\n",
    "\n",
    "var1, var2 = 45, 54\n",
    "print(var1, var2)\n",
    "\n",
    "print(\"var1 \", var1)\n",
    "print(\"var2 \", var2)\n",
    "\n",
    "var1, var2 = var2, var1\n",
    "print(var1, var2)"
   ]
  },
  {
   "cell_type": "code",
   "execution_count": 65,
   "metadata": {},
   "outputs": [
    {
     "name": "stdout",
     "output_type": "stream",
     "text": [
      "85 85 85\n"
     ]
    }
   ],
   "source": [
    "# Multiple Assignment ( var1 = var2 = value)\n",
    "var1 = var2 = var3 = 85\n",
    "print(var1, var2, var3)"
   ]
  },
  {
   "cell_type": "code",
   "execution_count": 66,
   "metadata": {},
   "outputs": [
    {
     "name": "stdout",
     "output_type": "stream",
     "text": [
      "13\n"
     ]
    }
   ],
   "source": [
    "# Short-hand assignment (var1 += value)\n",
    "var1  = 8\n",
    "var1 = var1+5\n",
    "print(var1)\n",
    "\n",
    "var1+=7 # var1=var1+7\n",
    "print(var1)"
   ]
  },
  {
   "cell_type": "code",
   "execution_count": 4,
   "metadata": {},
   "outputs": [
    {
     "name": "stdout",
     "output_type": "stream",
     "text": [
      "2\n",
      "1\n",
      "42\n",
      "42.57\n"
     ]
    }
   ],
   "source": [
    "# Arithmetic Operators\n",
    "# + (Sum), - (Sub), * (Prd), / (Div)\n",
    "\n",
    "# Boolean\n",
    "var1 = True # 1\n",
    "var2 = True # 1\n",
    "var3 = var1 + var2\n",
    "print(var3)\n",
    "\n",
    "var1 = False # 0\n",
    "var2 = True # 1\n",
    "var3 = var1 + var2\n",
    "print(var3)\n",
    "\n",
    "# integer number\n",
    "var1 = 10\n",
    "var2 = 32\n",
    "var3 = var1+var2\n",
    "print(var3)\n",
    "\n",
    "# float number\n",
    "var1 = 10.25\n",
    "var2 = 32.32\n",
    "var3 = var1+var2\n",
    "print(var3)"
   ]
  },
  {
   "cell_type": "code",
   "execution_count": 22,
   "metadata": {},
   "outputs": [
    {
     "name": "stdout",
     "output_type": "stream",
     "text": [
      "42.57\n",
      "Enter first no : 58\n",
      "Enter second no : 2\n",
      "60.0\n",
      "56.0\n",
      "116.0\n",
      "29.0\n",
      "29.0\n",
      "0.0\n",
      "8\n",
      "8.0\n",
      "5.0\n"
     ]
    }
   ],
   "source": [
    "import math\n",
    "# Static Program\n",
    "var1 = 10.25\n",
    "var2 = 32.32\n",
    "var3 = var1+var2\n",
    "print(var3)\n",
    "\n",
    "# Task\n",
    "var1 = input(\"Enter first no : \")# String -> Keyboard, File, Database, WebSite (Network)\n",
    "var2 = input(\"Enter second no : \") # String\n",
    "\n",
    "var1 = float(var1) # Convert to Integer # ValueError: invalid literal for int() with base 10: '21.36'\n",
    "var2 = float(var2) # Convert to Integer # ValueError: invalid literal for int() with base 10: '21.36'\n",
    "\n",
    "var3 = var1+var2\n",
    "print(var3)\n",
    "var3 = var1-var2\n",
    "print(var3)\n",
    "var3 = var1*var2\n",
    "print(var3)\n",
    "var3 = var1/var2 # Float point Division\n",
    "print(var3)\n",
    "var3 = var1//var2 # Integer Division\n",
    "print(var3)\n",
    "var3 = var1%var2 # Remainder\n",
    "print(var3)\n",
    "\n",
    "print(2**3)\n",
    "\n",
    "print(math.pow(2, 3))\n",
    "print(math.sqrt(25))"
   ]
  },
  {
   "cell_type": "markdown",
   "metadata": {},
   "source": [
    "#### Conditional Operator (Comparision Operator) - (==, !=, >, <, >=, <=)"
   ]
  },
  {
   "cell_type": "code",
   "execution_count": 41,
   "metadata": {},
   "outputs": [],
   "source": [
    "var1 = 25\n",
    "var2 = 25"
   ]
  },
  {
   "cell_type": "code",
   "execution_count": 49,
   "metadata": {},
   "outputs": [
    {
     "name": "stdout",
     "output_type": "stream",
     "text": [
      "True\n"
     ]
    }
   ],
   "source": [
    "# Equals To \n",
    "result = (var1 == var2)\n",
    "print(result)"
   ]
  },
  {
   "cell_type": "code",
   "execution_count": 48,
   "metadata": {},
   "outputs": [
    {
     "name": "stdout",
     "output_type": "stream",
     "text": [
      "False\n"
     ]
    }
   ],
   "source": [
    "# Not Equals To \n",
    "result = (var1 != var2)\n",
    "print(result)"
   ]
  },
  {
   "cell_type": "code",
   "execution_count": 47,
   "metadata": {},
   "outputs": [
    {
     "name": "stdout",
     "output_type": "stream",
     "text": [
      "False\n"
     ]
    }
   ],
   "source": [
    "# Greater Than \n",
    "result = (var1 > var2)\n",
    "print(result)"
   ]
  },
  {
   "cell_type": "code",
   "execution_count": 45,
   "metadata": {},
   "outputs": [
    {
     "name": "stdout",
     "output_type": "stream",
     "text": [
      "25\n",
      "25\n",
      "False\n"
     ]
    }
   ],
   "source": [
    "# Less Than \n",
    "print(var1)\n",
    "print(var2)\n",
    "result = (var1 < var2)\n",
    "print(result)"
   ]
  },
  {
   "cell_type": "code",
   "execution_count": 44,
   "metadata": {},
   "outputs": [
    {
     "name": "stdout",
     "output_type": "stream",
     "text": [
      "25\n",
      "25\n",
      "True\n"
     ]
    }
   ],
   "source": [
    "# Greater Than or Equals To\n",
    "print(var1)\n",
    "print(var2)\n",
    "result = (var1 >= var2)\n",
    "print(result)"
   ]
  },
  {
   "cell_type": "code",
   "execution_count": 46,
   "metadata": {},
   "outputs": [
    {
     "name": "stdout",
     "output_type": "stream",
     "text": [
      "25\n",
      "25\n",
      "True\n"
     ]
    }
   ],
   "source": [
    "# Less Than or Equals To\n",
    "print(var1)\n",
    "print(var2)\n",
    "result = (var1 <= var2)\n",
    "print(result)"
   ]
  },
  {
   "cell_type": "markdown",
   "metadata": {},
   "source": [
    "#### Logical Operator - and, or, not"
   ]
  },
  {
   "cell_type": "code",
   "execution_count": 51,
   "metadata": {},
   "outputs": [
    {
     "name": "stdout",
     "output_type": "stream",
     "text": [
      "True\n"
     ]
    }
   ],
   "source": [
    "# Logical And Operator\n",
    "var1 = 35\n",
    "var2 = 32\n",
    "var3 = 23\n",
    "result = (var1 > var2) and (var1 > var3)\n",
    "print(result)"
   ]
  },
  {
   "cell_type": "code",
   "execution_count": 53,
   "metadata": {},
   "outputs": [
    {
     "name": "stdout",
     "output_type": "stream",
     "text": [
      "True\n"
     ]
    }
   ],
   "source": [
    "# Logical or Operator\n",
    "var1 = 35\n",
    "var2 = 32\n",
    "var3 = 75\n",
    "result = (var1 > var2) or (var1 > var3)\n",
    "print(result)"
   ]
  },
  {
   "cell_type": "code",
   "execution_count": 57,
   "metadata": {},
   "outputs": [
    {
     "name": "stdout",
     "output_type": "stream",
     "text": [
      "True\n",
      "False\n"
     ]
    }
   ],
   "source": [
    "# not Operator - Reverse Result (True->False or False->True)\n",
    "var1 = 9\n",
    "var2 = 7\n",
    "result1 =  (var1>var2)\n",
    "result2 =  not (var1>var2)\n",
    "print(result1)\n",
    "print(result2)"
   ]
  },
  {
   "cell_type": "code",
   "execution_count": 74,
   "metadata": {},
   "outputs": [
    {
     "name": "stdout",
     "output_type": "stream",
     "text": [
      "True\n",
      "False\n",
      "\n",
      "False\n",
      "True\n"
     ]
    }
   ],
   "source": [
    "# Others Operator\n",
    "# Identity Operator - is , is not\n",
    "var1 = 20\n",
    "var2 = 20\n",
    "print(var1 is var2)\n",
    "print(var1 is not var2)\n",
    "\n",
    "print()\n",
    "var1 = 21\n",
    "var2 = 20\n",
    "print(var1 is var2)\n",
    "print(var1 is not var2)"
   ]
  },
  {
   "cell_type": "code",
   "execution_count": 83,
   "metadata": {},
   "outputs": [
    {
     "name": "stdout",
     "output_type": "stream",
     "text": [
      "True\n",
      "False\n"
     ]
    }
   ],
   "source": [
    "# Membership operator - in, not in\n",
    "list1 = [2, 3, 4, 2, 1, 6, 7, 3, 4, 2, 3, 4, 2, 1, 6, 7, 3, 4, 2, 3, 4, 2, 1, 6, 7, 3, 4, 2, 3, 4, 2, 1, 6, 7, 3, 4, 5, 6, 7,8, 8, 9, 1, 2,3, 5,6,7,8,9,0,6,55,2,3,4,6,78]\n",
    "var1 = 5\n",
    "print(var1 in list1)\n",
    "print(var1 not in list1)\n"
   ]
  },
  {
   "cell_type": "code",
   "execution_count": 87,
   "metadata": {},
   "outputs": [
    {
     "name": "stdout",
     "output_type": "stream",
     "text": [
      "8.0\n",
      "7.615773105863909\n"
     ]
    }
   ],
   "source": [
    "# Dot operator - .\n",
    "import math\n",
    "print(math.pow(2, 3)) # Python Program File.Function()\n",
    "print(math.sqrt(58))"
   ]
  },
  {
   "cell_type": "code",
   "execution_count": 88,
   "metadata": {},
   "outputs": [],
   "source": [
    "# help(math)"
   ]
  },
  {
   "cell_type": "code",
   "execution_count": null,
   "metadata": {},
   "outputs": [],
   "source": []
  }
 ],
 "metadata": {
  "kernelspec": {
   "display_name": "Python 3",
   "language": "python",
   "name": "python3"
  },
  "language_info": {
   "codemirror_mode": {
    "name": "ipython",
    "version": 3
   },
   "file_extension": ".py",
   "mimetype": "text/x-python",
   "name": "python",
   "nbconvert_exporter": "python",
   "pygments_lexer": "ipython3",
   "version": "3.8.5"
  }
 },
 "nbformat": 4,
 "nbformat_minor": 4
}
